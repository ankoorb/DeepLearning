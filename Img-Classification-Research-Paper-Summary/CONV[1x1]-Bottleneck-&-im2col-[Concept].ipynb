{
 "cells": [
  {
   "cell_type": "markdown",
   "metadata": {},
   "source": [
    "**Removing Computational Bottleneck Using: `CONV(1x1, s:1, p:0)`**\n",
    "\n",
    "1x1 convolutional layers are used as dimension reduction modules to remove computational bottlenecks as well as to increase non-linearity. For example, a feature map with size 100 x 100 x C channels on convolution with $k$ 1x1 filters would result in a feature map of size 100 x 100 x $k$.\n",
    "![](images/conv-1x1.png)\n",
    "\n",
    "---\n",
    "\n",
    "- Suppose a convolutional layer outputs a tensor (feature maps) of size ($N$, $F$, $H$, $W$), where $N$: Batch size; $F$: Number of convolutional filters; $H$ and $W$: Height and width of feature maps. Now if this output is fed into a convolution layer with $f$ 1x1 filters with zero padding and stride 1, then the output tensor will have size ($N$, $f$, $H$, $W$). Thus using 1x1 convolution layers changes dimensionality (number of filters).\n",
    "    - If $f > F \\rightarrow$ then dimensionality (number of filters) is increased\n",
    "    - If $f < F \\rightarrow$ then dimensionality (number of filters) is decreased\n",
    "    \n",
    "![](images/bottleneck-comparison.png)"
   ]
  },
  {
   "cell_type": "markdown",
   "metadata": {},
   "source": [
    "**Naive Convolutions** *(CS231 Assignment-2: My solution)*\n",
    "![](images/im2col.png)\n",
    "\n",
    "---\n",
    "**im2col For Loop**\n",
    "![](images/im2col-for-loop.png)"
   ]
  },
  {
   "cell_type": "code",
   "execution_count": 223,
   "metadata": {
    "collapsed": true
   },
   "outputs": [],
   "source": [
    "import numpy as np\n",
    "\n",
    "def conv_forward_naive(x, w, b, conv_param):\n",
    "    \"\"\"\n",
    "    A naive implementation of the forward pass for a convolutional layer.\n",
    "\n",
    "    The input consists of N data points, each with C channels, height H and width\n",
    "    W. We convolve each input with F different filters, where each filter spans\n",
    "    all C channels and has height HH and width HH.\n",
    "\n",
    "    Input:\n",
    "    - x: Input data of shape (N, C, H, W)\n",
    "    - w: Filter weights of shape (F, C, HH, WW)\n",
    "    - b: Biases, of shape (F,)\n",
    "    - conv_param: A dictionary with the following keys:\n",
    "    - 'stride': The number of pixels between adjacent receptive fields in the\n",
    "      horizontal and vertical directions.\n",
    "    - 'pad': The number of pixels that will be used to zero-pad the input.\n",
    "\n",
    "    Returns a tuple of:\n",
    "    - out: Output data, of shape (N, F, H', W') where H' and W' are given by\n",
    "    H' = 1 + (H + 2 * pad - HH) / stride\n",
    "    W' = 1 + (W + 2 * pad - WW) / stride\n",
    "    - cache: (x, w, b, conv_param)\n",
    "    \"\"\"\n",
    "    out = None\n",
    "    #############################################################################\n",
    "    # TODO: Implement the convolutional forward pass.                           #\n",
    "    # Hint: you can use the function np.pad for padding.                        #\n",
    "    #############################################################################\n",
    "    N, C, H, W = x.shape\n",
    "    F, C, HH, WW = w.shape\n",
    "    stride = conv_param['stride']\n",
    "    pad = conv_param['pad']\n",
    "    \n",
    "    # Pad input\n",
    "    x_padded = np.pad(x, ((0, 0), (0, 0), (pad, pad), (pad, pad)), mode='constant')\n",
    "    \n",
    "    # Calculate output dimensions\n",
    "    H_out = 1 + (H + 2 * pad - HH) / stride\n",
    "    W_out = 1 + (W + 2 * pad - WW) / stride\n",
    "    \n",
    "    # Create 'out' array of output data shape filled with zeros\n",
    "    out = np.zeros((N, F, H_out, W_out))\n",
    "    \n",
    "    ##----- im2col implementation - CS231n: winter1516_lecture_11.pdf -----##\n",
    "    # Calculate new size = K * K * C\n",
    "    filter_new_size = HH * WW * C \n",
    "    \n",
    "    # Reshape Filter: New shape = # of Filters x (K * K * C)\n",
    "    filter_reshaped = np.reshape(w, (F, filter_new_size))\n",
    "    #print 'Filter Reshaped Size: ', filter_reshaped.shape\n",
    "    \n",
    "    # Convolution Steps\n",
    "    for i in range(H_out):\n",
    "        top = i * stride # Top index\n",
    "        bottom = top + HH # Bottom index = Top index + Filter Height\n",
    "        \n",
    "        for j in range(W_out):\n",
    "            left = j * stride # Left index\n",
    "            right = left + WW # Right index = Left index + Filter Width\n",
    "            \n",
    "            # Slice x_padded as per top to bottom range and left to right range \n",
    "            # NOTE: Resulting shape = N x C x K x K\n",
    "            x_slice = x_padded[:, :, top:bottom, left:right]\n",
    "            \n",
    "            # Reshape x_slice: New shape = (K * K * C) x N\n",
    "            x_slice_reshaped = np.reshape(x_slice, (filter_new_size, N))\n",
    "            #print 'X Slice Reshaped Size: ', x_slice_reshaped.shape\n",
    "            \n",
    "            # Calculate: [# of Filters x (K * K * C) . (K * K * C) x N] + b, i.e. y = w'x + b\n",
    "            temp_y = filter_reshaped.dot(x_slice_reshaped).T + b\n",
    "            # print 'Dot Product + Sum Shape: ', temp_y.shape\n",
    "            out[:, :, i, j] = temp_y\n",
    "    ##---------------------------------------------------------------------## \n",
    "    \n",
    "    #############################################################################\n",
    "    #                             END OF YOUR CODE                              #\n",
    "    #############################################################################\n",
    "    cache = (x, w, b, conv_param)\n",
    "    return out, cache"
   ]
  },
  {
   "cell_type": "code",
   "execution_count": 285,
   "metadata": {
    "collapsed": false,
    "scrolled": false
   },
   "outputs": [
    {
     "name": "stdout",
     "output_type": "stream",
     "text": [
      "X shape: (1, 20, 5, 5) with Stride: 1 and Padding: 0 returns out shape: (1, 1, 5, 5)\n",
      "Number of Parameters: 25\n",
      "Output Feature Map: \n",
      "[[[[ 0.612  0.613  0.614  0.615  0.616]\n",
      "   [ 0.618  0.619  0.62   0.621  0.622]\n",
      "   [ 0.624  0.625  0.626  0.627  0.628]\n",
      "   [ 0.63   0.631  0.632  0.633  0.634]\n",
      "   [ 0.636  0.637  0.638  0.639  0.64 ]]]]\n"
     ]
    }
   ],
   "source": [
    "# Test: Conv(1x1, s:1, p:0)\n",
    "\n",
    "np.set_printoptions(precision=3)\n",
    "\n",
    "x_shape = (1, 20, 5, 5)\n",
    "w_shape = (1, 20, 1, 1)\n",
    "stride = 1\n",
    "padding = 0\n",
    "\n",
    "x = np.linspace(-0.1, 0.5, num=np.prod(x_shape)).reshape(x_shape)\n",
    "w = np.linspace(-0.2, 0.3, num=np.prod(w_shape)).reshape(w_shape)\n",
    "b = np.linspace(-0.1, 0.2, num=w.shape[0])\n",
    "conv_param = {'stride': stride, 'pad': padding}\n",
    "\n",
    "out, _ = conv_forward_naive(x, w, b, conv_param=conv_param)\n",
    "print 'X shape: {} with Stride: {} and Padding: {} returns out shape: {}'.format(x.shape, stride, padding, out.shape)\n",
    "print 'Number of Parameters: {}'.format(out.size)\n",
    "print 'Output Feature Map: \\n', out"
   ]
  },
  {
   "cell_type": "code",
   "execution_count": 293,
   "metadata": {
    "collapsed": true
   },
   "outputs": [],
   "source": [
    "# Bottleneck vs Normal Computation Time comparison\n",
    "def run_bottleneck(N, C, H, W, f1, s1, p1, f2, k2, s2, p2):\n",
    "    \"\"\"\n",
    "    Inputs: N, C, H, W, f1, s1, p1, f2, k2, s2, p2\n",
    "    \"\"\"\n",
    "    x_1_shape = (N, C, H, W)\n",
    "    w_1_shape = (f1, C, 1, 1)\n",
    "    x_1 = np.linspace(-0.1, 0.5, num=np.prod(x_1_shape)).reshape(x_1_shape)\n",
    "    w_1 = np.linspace(-0.2, 0.3, num=np.prod(w_1_shape)).reshape(w_1_shape)\n",
    "    b_1 = np.linspace(-0.1, 0.2, num=w_1.shape[0])\n",
    "\n",
    "    w_2_shape = (f2, f1, k2, k2)\n",
    "    w_2 = np.linspace(-0.2, 0.3, num=np.prod(w_2_shape)).reshape(w_2_shape)\n",
    "    b_2 = np.linspace(-0.1, 0.2, num=w_2.shape[0])\n",
    "\n",
    "    conv_param_1 = {'stride': s1, 'pad': p1}\n",
    "    conv_param_2 = {'stride': s2, 'pad': p2}\n",
    "    out, _ = conv_forward_naive(x_1, w_1, b_1, conv_param=conv_param_1)\n",
    "    out, _ = conv_forward_naive(out, w_2, b_2, conv_param=conv_param_2)\n",
    "    return out\n",
    "\n",
    "def run_normal(N, C, H, W, f1, k, s, p):\n",
    "    \"\"\"\n",
    "    Inputs: N, C, H, W, f1, k1, s1, p1\n",
    "    \"\"\"\n",
    "    x_1_shape = (N, C, H, W)\n",
    "    w_1_shape = (f1, C, k, k)\n",
    "    x_1 = np.linspace(-0.1, 0.5, num=np.prod(x_1_shape)).reshape(x_1_shape)\n",
    "    w_1 = np.linspace(-0.2, 0.3, num=np.prod(w_1_shape)).reshape(w_1_shape)\n",
    "    b_1 = np.linspace(-0.1, 0.2, num=w_1.shape[0])\n",
    "    conv_param_1 = {'stride': s, 'pad': p}\n",
    "    out, _ = conv_forward_naive(x_1, w_1, b_1, conv_param=conv_param_1)\n",
    "    return out"
   ]
  },
  {
   "cell_type": "code",
   "execution_count": 297,
   "metadata": {
    "collapsed": false
   },
   "outputs": [
    {
     "name": "stdout",
     "output_type": "stream",
     "text": [
      "100 loops, best of 3: 1.05 s per loop\n"
     ]
    }
   ],
   "source": [
    "# Test Bottleneck: Input (256 depth) -> [Conv(1x1, s:1, p:0, 64 depth) -> Conv(3x3, s:1, p:1, 256 depth)]\n",
    "%timeit -n 100 run_bottleneck(1, 256, 96, 96, 64, 1, 0, 256, 3, 1, 1)"
   ]
  },
  {
   "cell_type": "code",
   "execution_count": 298,
   "metadata": {
    "collapsed": false
   },
   "outputs": [
    {
     "name": "stdout",
     "output_type": "stream",
     "text": [
      "100 loops, best of 3: 3.4 s per loop\n"
     ]
    }
   ],
   "source": [
    "# Test Normal: Input (256 depth) -> Conv(3x3, s:1, p:1, 256 depth)\n",
    "%timeit -n 100 run_normal(1, 256, 96, 96, 256, 3, 1, 1)"
   ]
  },
  {
   "cell_type": "code",
   "execution_count": null,
   "metadata": {
    "collapsed": true
   },
   "outputs": [],
   "source": []
  }
 ],
 "metadata": {
  "kernelspec": {
   "display_name": "Python 2",
   "language": "python",
   "name": "python2"
  },
  "language_info": {
   "codemirror_mode": {
    "name": "ipython",
    "version": 2
   },
   "file_extension": ".py",
   "mimetype": "text/x-python",
   "name": "python",
   "nbconvert_exporter": "python",
   "pygments_lexer": "ipython2",
   "version": "2.7.12"
  }
 },
 "nbformat": 4,
 "nbformat_minor": 1
}
