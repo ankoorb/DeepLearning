{
 "cells": [
  {
   "cell_type": "markdown",
   "metadata": {},
   "source": [
    "**Focus on how to feed data into a training or inference program**\n",
    "\n",
    "- Data Iterators in MXNet are similar to Python iterator objects.\n",
    "    - Return a batch of data as `DataBatch` on each call to `next`\n",
    "    - `DataBatch` contain *n* (`batch_size`) training examples and their corresponding labels \n",
    "    - Information such as name, shape, type, and layout on each training example and their corresponding label can be provided as `DataDesc` data descriptor objects via the provided `provide_data` and `provide_label` properties in `DataBatch`\n",
    "- All IO in MXNet is handled via `mx.io.DataIter` and its subclasses"
   ]
  },
  {
   "cell_type": "code",
   "execution_count": 1,
   "metadata": {},
   "outputs": [],
   "source": [
    "import os\n",
    "import numpy as np\n",
    "import mxnet as mx"
   ]
  },
  {
   "cell_type": "markdown",
   "metadata": {},
   "source": [
    "**Reading data in memory**\n",
    "- When data is stored in memory backed by either and NDArray or numpy ndarray use `NDArrayIter` to read data"
   ]
  },
  {
   "cell_type": "code",
   "execution_count": 2,
   "metadata": {},
   "outputs": [
    {
     "name": "stdout",
     "output_type": "stream",
     "text": [
      "[[\n",
      "[[ 0.29455951  0.42215776  0.17254411]\n",
      " [ 0.11621431  0.02364128  0.62608337]\n",
      " [ 0.47626403  0.93825299  0.45832431]]\n",
      "<NDArray 3x3 @cpu(0)>], [\n",
      "[ 1.  0.  1.]\n",
      "<NDArray 3 @cpu(0)>], 0]\n",
      "[[\n",
      "[[ 0.48885286  0.49731106  0.45700079]\n",
      " [ 0.79351342  0.70532483  0.95223075]\n",
      " [ 0.70784718  0.9611398   0.44309041]]\n",
      "<NDArray 3x3 @cpu(0)>], [\n",
      "[ 0.  1.  1.]\n",
      "<NDArray 3 @cpu(0)>], 0]\n"
     ]
    }
   ],
   "source": [
    "# NDArrayIter\n",
    "data = np.random.rand(6, 3)\n",
    "label = np.random.randint(0, 2, (6,))\n",
    "data_iter = mx.io.NDArrayIter(data=data, label=label, batch_size=3)\n",
    "for batch in data_iter:\n",
    "    print([batch.data, batch.label, batch.pad])"
   ]
  },
  {
   "cell_type": "markdown",
   "metadata": {},
   "source": [
    "**Reading data from CSV files**\n",
    "- `CSVIter`"
   ]
  },
  {
   "cell_type": "code",
   "execution_count": 3,
   "metadata": {},
   "outputs": [
    {
     "name": "stdout",
     "output_type": "stream",
     "text": [
      "[[\n",
      "[[ 0.29455951  0.42215776  0.17254412]\n",
      " [ 0.11621431  0.02364128  0.62608337]\n",
      " [ 0.476264    0.93825305  0.45832434]]\n",
      "<NDArray 3x3 @cpu(0)>], 0]\n",
      "[[\n",
      "[[ 0.48885289  0.49731103  0.45700079]\n",
      " [ 0.79351342  0.70532483  0.95223075]\n",
      " [ 0.70784718  0.9611398   0.44309038]]\n",
      "<NDArray 3x3 @cpu(0)>], 0]\n"
     ]
    }
   ],
   "source": [
    "# Save data into csv file\n",
    "np.savetxt('data.csv', data, delimiter=',')\n",
    "\n",
    "data_iter = mx.io.CSVIter(data_csv='data.csv', data_shape=(3,), batch_size=3)\n",
    "for batch in data_iter:\n",
    "    print([batch.data, batch.pad])"
   ]
  },
  {
   "cell_type": "markdown",
   "metadata": {
    "collapsed": true
   },
   "source": [
    "**Custom Iterator**"
   ]
  },
  {
   "cell_type": "code",
   "execution_count": 4,
   "metadata": {},
   "outputs": [],
   "source": [
    "class SimpleIter(mx.io.DataIter):\n",
    "    def __init__(self, data_names, data_shapes, data_gen,label_names, \n",
    "                 label_shapes, label_gen, num_batches=10):\n",
    "        self._provide_data = zip(data_names, data_shapes)\n",
    "        self._provide_label = zip(label_names, label_shapes)\n",
    "        self.num_batches = num_batches\n",
    "        self.data_gen = data_gen\n",
    "        self.label_gen = label_gen\n",
    "        self.cur_batch = 0 # Current batch\n",
    "        \n",
    "    def __iter__(self):\n",
    "        return self\n",
    "    \n",
    "    def reset(self):\n",
    "        self.cur_batch = 0\n",
    "        \n",
    "    def __next__(self):\n",
    "        return self.next()\n",
    "    \n",
    "    @property\n",
    "    def provide_data(self):\n",
    "        return self._provide_data\n",
    "    \n",
    "    @property\n",
    "    def provide_label(self):\n",
    "        return self._provide_label\n",
    "    \n",
    "    def next(self):\n",
    "        if self.cur_batch < self.num_batches:\n",
    "            self.cur_batch += 1\n",
    "            data = [mx.nd.array(g(d[1]) for d, g in zip(self._provide_data, self.data_gen))]\n",
    "            label = [mx.nd.array(g(d[1]) for d, g in zip(self._provide_label, self.label_gen))]\n",
    "            return mx.io.DataBatch(data, label)\n",
    "        else:\n",
    "            raise StopIteration"
   ]
  },
  {
   "cell_type": "code",
   "execution_count": 5,
   "metadata": {},
   "outputs": [
    {
     "name": "stdout",
     "output_type": "stream",
     "text": [
      "('Net arguments: ', ['data', 'fc1_weight', 'fc1_bias', 'fc2_weight', 'fc2_bias', 'softmax_label'])\n",
      "('Net inputs: ', ['data', 'fc1_weight', 'fc1_bias', 'fc2_weight', 'fc2_bias', 'softmax_label'])\n",
      "('Net outputs: ', ['softmax_output'])\n"
     ]
    }
   ],
   "source": [
    "# Train a simple MLP\n",
    "num_classes = 10\n",
    "\n",
    "# Define network\n",
    "net = mx.sym.Variable('data')\n",
    "net = mx.sym.FullyConnected(data=net, name='fc1', num_hidden=64)\n",
    "net = mx.sym.Activation(data=net, name='relu1', act_type='relu')\n",
    "net = mx.sym.FullyConnected(data=net, name='fc2', num_hidden=num_classes)\n",
    "net = mx.sym.SoftmaxOutput(data=net, name='softmax')\n",
    "\n",
    "print('Net arguments: ', net.list_arguments())\n",
    "print('Net inputs: ', net.list_inputs())\n",
    "print('Net outputs: ', net.list_outputs())"
   ]
  },
  {
   "cell_type": "markdown",
   "metadata": {},
   "source": [
    "- 4 variables that are learnable parameters\n",
    "    - fc1_weight\n",
    "    - fc1_bias\n",
    "    - fc2_weight\n",
    "    - fc2_bias\n",
    "    \n",
    "- 2 variables for input data variables (called `free variables` in MXNet's Symbol API)\n",
    "    - data\n",
    "    - softmax_label\n",
    "    \n",
    "- To excute a Symbol data variables need to be bound with data."
   ]
  },
  {
   "cell_type": "code",
   "execution_count": 7,
   "metadata": {},
   "outputs": [],
   "source": [
    "import logging\n",
    "logging.basicConfig(level=logging.INFO)\n",
    "\n",
    "n = 32\n",
    "data_iter = SimpleIter(data_names=['data'], data_shapes=[(n, 100)], \n",
    "                       data_gen=[lambda s: np.random.uniform(-1, 1, s)],\n",
    "                       label_names=['softmax_label'], label_shapes=[(n,)], \n",
    "                       label_gen=[lambda s: np.random.uniform(0, num_classes, s)])\n",
    "\n",
    "mod = mx.mod.Module(symbol=net)\n",
    "# mod.fit(data_iter, num_epoch=5)"
   ]
  },
  {
   "cell_type": "markdown",
   "metadata": {
    "collapsed": true
   },
   "source": [
    "# Scratch"
   ]
  },
  {
   "cell_type": "code",
   "execution_count": 56,
   "metadata": {},
   "outputs": [
    {
     "data": {
      "text/html": [
       "<div>\n",
       "<table border=\"1\" class=\"dataframe\">\n",
       "  <thead>\n",
       "    <tr style=\"text-align: right;\">\n",
       "      <th></th>\n",
       "      <th>UID</th>\n",
       "      <th>content</th>\n",
       "      <th>len</th>\n",
       "    </tr>\n",
       "  </thead>\n",
       "  <tbody>\n",
       "    <tr>\n",
       "      <th>0</th>\n",
       "      <td>A</td>\n",
       "      <td>Apple</td>\n",
       "      <td>5</td>\n",
       "    </tr>\n",
       "    <tr>\n",
       "      <th>1</th>\n",
       "      <td>A</td>\n",
       "      <td></td>\n",
       "      <td>0</td>\n",
       "    </tr>\n",
       "    <tr>\n",
       "      <th>3</th>\n",
       "      <td>B</td>\n",
       "      <td>Boy</td>\n",
       "      <td>3</td>\n",
       "    </tr>\n",
       "    <tr>\n",
       "      <th>4</th>\n",
       "      <td>B</td>\n",
       "      <td></td>\n",
       "      <td>0</td>\n",
       "    </tr>\n",
       "    <tr>\n",
       "      <th>5</th>\n",
       "      <td>C</td>\n",
       "      <td>Cat</td>\n",
       "      <td>3</td>\n",
       "    </tr>\n",
       "    <tr>\n",
       "      <th>6</th>\n",
       "      <td>C</td>\n",
       "      <td>Cow</td>\n",
       "      <td>3</td>\n",
       "    </tr>\n",
       "  </tbody>\n",
       "</table>\n",
       "</div>"
      ],
      "text/plain": [
       "  UID content  len\n",
       "0   A   Apple    5\n",
       "1   A            0\n",
       "3   B     Boy    3\n",
       "4   B            0\n",
       "5   C     Cat    3\n",
       "6   C     Cow    3"
      ]
     },
     "execution_count": 56,
     "metadata": {},
     "output_type": "execute_result"
    }
   ],
   "source": [
    "# Test\n",
    "import pandas as pd\n",
    "\n",
    "l = [\n",
    " {'UID': 'A', 'content': 'Apple'}, \n",
    " {'UID': 'A', 'content': ''}, \n",
    " {'UID': 'E', 'content': ''},\n",
    " {'UID': 'B', 'content': 'Boy'},\n",
    " {'UID': 'B', 'content': ''},\n",
    " {'UID': 'C', 'content': 'Cat'},\n",
    " {'UID': 'C', 'content': 'Cow'},\n",
    " {'UID': 'D', 'content': ''},\n",
    " {'UID': 'E', 'content': ''}\n",
    "    ]\n",
    "\n",
    "df = pd.DataFrame(l)\n",
    "df['len'] = df['content'].str.len()\n",
    "blanks = df.groupby('UID').len.max()\n",
    "blanks = blanks[blanks==0]\n",
    "df = df[~df.UID.isin(blanks.index.tolist())]\n",
    "df"
   ]
  },
  {
   "cell_type": "code",
   "execution_count": null,
   "metadata": {
    "collapsed": true
   },
   "outputs": [],
   "source": []
  }
 ],
 "metadata": {
  "kernelspec": {
   "display_name": "Python 2",
   "language": "python",
   "name": "python2"
  },
  "language_info": {
   "codemirror_mode": {
    "name": "ipython",
    "version": 2
   },
   "file_extension": ".py",
   "mimetype": "text/x-python",
   "name": "python",
   "nbconvert_exporter": "python",
   "pygments_lexer": "ipython2",
   "version": "2.7.12"
  }
 },
 "nbformat": 4,
 "nbformat_minor": 2
}
