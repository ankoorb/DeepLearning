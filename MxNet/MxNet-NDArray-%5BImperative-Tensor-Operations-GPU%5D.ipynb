{
 "cells": [
  {
   "cell_type": "code",
   "execution_count": 1,
   "metadata": {},
   "outputs": [],
   "source": [
    "# Imports\n",
    "import time\n",
    "import mxnet as mx\n",
    "import numpy as np"
   ]
  },
  {
   "cell_type": "markdown",
   "metadata": {},
   "source": [
    "**NDArray** - Multidimensional fixed size array"
   ]
  },
  {
   "cell_type": "code",
   "execution_count": 2,
   "metadata": {},
   "outputs": [
    {
     "name": "stdout",
     "output_type": "stream",
     "text": [
      "Shape:  (3L,)\n",
      "Type:  <type 'numpy.float32'>\n",
      "Size:  3\n",
      "Context:  cpu(0)\n"
     ]
    }
   ],
   "source": [
    "# Create a 1-dimensional array with a list\n",
    "a = mx.nd.array([1, 2, 3])\n",
    "print 'Shape: ', a.shape\n",
    "print 'Type: ', a.dtype\n",
    "print 'Size: ', a.size\n",
    "print 'Context: ', a.context"
   ]
  },
  {
   "cell_type": "code",
   "execution_count": 3,
   "metadata": {},
   "outputs": [
    {
     "name": "stdout",
     "output_type": "stream",
     "text": [
      "Shape:  (2L, 3L)\n",
      "Type:  <type 'numpy.float32'>\n",
      "Size:  6\n",
      "Context:  cpu(0)\n"
     ]
    }
   ],
   "source": [
    "# Create a 2-dimensional array with a nested list\n",
    "b = mx.nd.array([[1, 2, 3], [4, 5, 6]])\n",
    "print 'Shape: ', b.shape\n",
    "print 'Type: ', b.dtype\n",
    "print 'Size: ', b.size\n",
    "print 'Context: ', b.context"
   ]
  },
  {
   "cell_type": "code",
   "execution_count": 4,
   "metadata": {},
   "outputs": [
    {
     "name": "stdout",
     "output_type": "stream",
     "text": [
      "Shape:  (3L, 5L)\n",
      "Type:  <type 'numpy.float32'>\n",
      "Size:  15\n",
      "Context:  cpu(0)\n"
     ]
    }
   ],
   "source": [
    "# Create an array from NumPy ndarray object\n",
    "c = np.arange(15).reshape(3, 5)\n",
    "a = mx.nd.array(c)\n",
    "print 'Shape: ', a.shape\n",
    "print 'Type: ', a.dtype\n",
    "print 'Size: ', a.size\n",
    "print 'Context: ', a.context"
   ]
  },
  {
   "cell_type": "code",
   "execution_count": 5,
   "metadata": {},
   "outputs": [
    {
     "name": "stdout",
     "output_type": "stream",
     "text": [
      "Type:  <type 'numpy.float32'>\n",
      "Type:  <type 'numpy.int32'>\n",
      "Type:  <type 'numpy.float16'>\n"
     ]
    }
   ],
   "source": [
    "# Create an array (float32 default)\n",
    "a = mx.nd.array([1, 2, 3])\n",
    "print 'Type: ', a.dtype\n",
    "\n",
    "# Create an int32 array\n",
    "b = mx.nd.array([1, 2, 3], dtype=np.int32)\n",
    "print 'Type: ', b.dtype\n",
    "\n",
    "# Create a 16 bit float array\n",
    "c = mx.nd.array([1, 2, 3], dtype=np.float16)\n",
    "print 'Type: ', c.dtype"
   ]
  },
  {
   "cell_type": "code",
   "execution_count": 6,
   "metadata": {},
   "outputs": [
    {
     "name": "stdout",
     "output_type": "stream",
     "text": [
      "\n",
      "[[ 5.  5.  5.  5.  5.]\n",
      " [ 5.  5.  5.  5.  5.]\n",
      " [ 5.  5.  5.  5.  5.]]\n",
      "<NDArray 3x5 @cpu(0)>\n"
     ]
    }
   ],
   "source": [
    "# Create a same shape array with all elements set to 5\n",
    "c = mx.nd.full(shape=(3, 5),val=5)\n",
    "print c"
   ]
  },
  {
   "cell_type": "code",
   "execution_count": 7,
   "metadata": {},
   "outputs": [
    {
     "name": "stdout",
     "output_type": "stream",
     "text": [
      "\n",
      "[[  0.00000000e+00   0.00000000e+00   2.60447261e-37]\n",
      " [  0.00000000e+00  -1.33974318e-25   4.56472975e-41]\n",
      " [  1.93086432e-13   4.56472975e-41   6.72623263e-44]]\n",
      "<NDArray 3x3 @cpu(0)>\n"
     ]
    }
   ],
   "source": [
    "# Create a same shape array whose initial content is random\n",
    "d = mx.nd.empty(shape=(3, 3))\n",
    "print d"
   ]
  },
  {
   "cell_type": "code",
   "execution_count": 8,
   "metadata": {},
   "outputs": [
    {
     "data": {
      "text/plain": [
       "array([[[  0.,   1.,   2.],\n",
       "        [  3.,   4.,   5.]],\n",
       "\n",
       "       [[  6.,   7.,   8.],\n",
       "        [  9.,  10.,  11.]],\n",
       "\n",
       "       [[ 12.,  13.,  14.],\n",
       "        [ 15.,  16.,  17.]]], dtype=float32)"
      ]
     },
     "execution_count": 8,
     "metadata": {},
     "output_type": "execute_result"
    }
   ],
   "source": [
    "# Printing array\n",
    "b = mx.nd.arange(18).reshape((3, 2, 3))\n",
    "b.asnumpy()"
   ]
  },
  {
   "cell_type": "code",
   "execution_count": 9,
   "metadata": {},
   "outputs": [
    {
     "name": "stdout",
     "output_type": "stream",
     "text": [
      "\n",
      "[[ 2.  2.  2.]\n",
      " [ 2.  2.  2.]]\n",
      "<NDArray 2x3 @cpu(0)>\n",
      "\n",
      "[[ 0.  0.  0.]\n",
      " [ 0.  0.  0.]]\n",
      "<NDArray 2x3 @cpu(0)>\n",
      "\n",
      "[[-0.7568025 -0.7568025]\n",
      " [-0.7568025 -0.7568025]\n",
      " [-0.7568025 -0.7568025]]\n",
      "<NDArray 3x2 @cpu(0)>\n",
      "\n",
      "[[ 2.  2.  2.]\n",
      " [ 2.  2.  2.]]\n",
      "<NDArray 2x3 @cpu(0)>\n",
      "\n",
      "[[   0.    1.    4.]\n",
      " [   9.   16.   25.]\n",
      " [  36.   49.   64.]\n",
      " [  81.  100.  121.]]\n",
      "<NDArray 4x3 @cpu(0)>\n"
     ]
    }
   ],
   "source": [
    "# Basic Operations\n",
    "a = mx.nd.ones((2, 3))\n",
    "b = mx.nd.ones((2, 3))\n",
    "\n",
    "# Elementwise sum\n",
    "c = a + b\n",
    "print c\n",
    "\n",
    "# Elementwise difference\n",
    "d = a - b\n",
    "print d\n",
    "\n",
    "# Elementwise power and sine, then transpose\n",
    "e = mx.nd.sin(c**2).T\n",
    "print e\n",
    "\n",
    "# Elementwise max\n",
    "f = mx.nd.maximum(c, a)\n",
    "print f\n",
    "\n",
    "# Elementwise multiplication\n",
    "g = mx.nd.arange(12).reshape((4, 3))\n",
    "h = g * g\n",
    "print h"
   ]
  },
  {
   "cell_type": "code",
   "execution_count": 10,
   "metadata": {},
   "outputs": [
    {
     "name": "stdout",
     "output_type": "stream",
     "text": [
      "\n",
      "[[   5.   14.   23.   32.]\n",
      " [  14.   50.   86.  122.]\n",
      " [  23.   86.  149.  212.]\n",
      " [  32.  122.  212.  302.]]\n",
      "<NDArray 4x4 @cpu(0)>\n"
     ]
    }
   ],
   "source": [
    "# Dot Product\n",
    "a = mx.nd.arange(12).reshape((4, 3))\n",
    "b = mx.nd.dot(a, a.T)\n",
    "print b"
   ]
  },
  {
   "cell_type": "code",
   "execution_count": 11,
   "metadata": {},
   "outputs": [
    {
     "data": {
      "text/plain": [
       "array([[ 2.,  2.],\n",
       "       [ 2.,  2.]], dtype=float32)"
      ]
     },
     "execution_count": 11,
     "metadata": {},
     "output_type": "execute_result"
    }
   ],
   "source": [
    "# += operator\n",
    "a = mx.nd.ones((2,2))\n",
    "b = mx.nd.ones(a.shape)\n",
    "b += a\n",
    "b.asnumpy()"
   ]
  },
  {
   "cell_type": "code",
   "execution_count": 12,
   "metadata": {},
   "outputs": [
    {
     "name": "stdout",
     "output_type": "stream",
     "text": [
      "\n",
      "[[ 0.  1.]\n",
      " [ 2.  3.]\n",
      " [ 4.  5.]]\n",
      "<NDArray 3x2 @cpu(0)>\n",
      "\n",
      "[[ 2.  3.]]\n",
      "<NDArray 1x2 @cpu(0)>\n",
      "\n",
      "[[ 0.  1.]\n",
      " [ 1.  1.]\n",
      " [ 4.  5.]]\n",
      "<NDArray 3x2 @cpu(0)>\n"
     ]
    },
    {
     "data": {
      "text/plain": [
       "array([[ 0.,  1.],\n",
       "       [ 1.,  1.],\n",
       "       [ 4.,  5.]], dtype=float32)"
      ]
     },
     "execution_count": 12,
     "metadata": {},
     "output_type": "execute_result"
    }
   ],
   "source": [
    "# Indexing and Slicing\n",
    "a = mx.nd.arange(6).reshape((3, 2))\n",
    "print a\n",
    "print a[1:2]\n",
    "a[1:2] = 1\n",
    "print a\n",
    "a[:].asnumpy()"
   ]
  },
  {
   "cell_type": "code",
   "execution_count": 13,
   "metadata": {},
   "outputs": [
    {
     "data": {
      "text/plain": [
       "array([[ 1.],\n",
       "       [ 1.],\n",
       "       [ 5.]], dtype=float32)"
      ]
     },
     "execution_count": 13,
     "metadata": {},
     "output_type": "execute_result"
    }
   ],
   "source": [
    "# Slice a particular axis\n",
    "d = mx.nd.slice_axis(a, axis=1, begin=1, end=2)\n",
    "d.asnumpy()"
   ]
  },
  {
   "cell_type": "code",
   "execution_count": 14,
   "metadata": {},
   "outputs": [
    {
     "name": "stdout",
     "output_type": "stream",
     "text": [
      "(2L, 3L, 4L)\n"
     ]
    },
    {
     "data": {
      "text/plain": [
       "array([[[  0.,   1.,   2.,   3.],\n",
       "        [  4.,   5.,   6.,   7.],\n",
       "        [  8.,   9.,  10.,  11.]],\n",
       "\n",
       "       [[ 12.,  13.,  14.,  15.],\n",
       "        [ 16.,  17.,  18.,  19.],\n",
       "        [ 20.,  21.,  22.,  23.]]], dtype=float32)"
      ]
     },
     "execution_count": 14,
     "metadata": {},
     "output_type": "execute_result"
    }
   ],
   "source": [
    "# Shape Manipulation\n",
    "a = mx.nd.array(np.arange(24))\n",
    "b = a.reshape((2, 3, 4))\n",
    "print b.shape\n",
    "b.asnumpy()"
   ]
  },
  {
   "cell_type": "code",
   "execution_count": 15,
   "metadata": {},
   "outputs": [
    {
     "data": {
      "text/plain": [
       "array([[ 1.,  1.,  1.,  2.,  2.,  2.],\n",
       "       [ 1.,  1.,  1.,  2.,  2.,  2.]], dtype=float32)"
      ]
     },
     "execution_count": 15,
     "metadata": {},
     "output_type": "execute_result"
    }
   ],
   "source": [
    "# Concat: Stack multiple arrays along the first axis\n",
    "a = mx.nd.ones((2, 3))\n",
    "b = mx.nd.ones((2, 3)) * 2\n",
    "c = mx.nd.concat(a, b)\n",
    "c.asnumpy()"
   ]
  },
  {
   "cell_type": "code",
   "execution_count": 16,
   "metadata": {},
   "outputs": [
    {
     "data": {
      "text/plain": [
       "array([ 6.], dtype=float32)"
      ]
     },
     "execution_count": 16,
     "metadata": {},
     "output_type": "execute_result"
    }
   ],
   "source": [
    "# Reduce: sum\n",
    "a = mx.nd.ones((2, 3))\n",
    "b = mx.nd.sum(a)\n",
    "b.asnumpy()"
   ]
  },
  {
   "cell_type": "code",
   "execution_count": 17,
   "metadata": {},
   "outputs": [
    {
     "data": {
      "text/plain": [
       "array([ 3.,  3.], dtype=float32)"
      ]
     },
     "execution_count": 17,
     "metadata": {},
     "output_type": "execute_result"
    }
   ],
   "source": [
    "# Reduce: sum (along an axis)\n",
    "c = mx.nd.sum_axis(a, axis=1)\n",
    "c.asnumpy()"
   ]
  },
  {
   "cell_type": "code",
   "execution_count": 18,
   "metadata": {},
   "outputs": [
    {
     "data": {
      "text/plain": [
       "array([[ 0.,  0.,  0.,  0.],\n",
       "       [ 1.,  1.,  1.,  1.],\n",
       "       [ 2.,  2.,  2.,  2.],\n",
       "       [ 3.,  3.,  3.,  3.],\n",
       "       [ 4.,  4.,  4.,  4.],\n",
       "       [ 5.,  5.,  5.,  5.]], dtype=float32)"
      ]
     },
     "execution_count": 18,
     "metadata": {},
     "output_type": "execute_result"
    }
   ],
   "source": [
    "# Broadcast\n",
    "a = mx.nd.array(np.arange(6).reshape(6, 1))\n",
    "b = a.broadcast_to((6, 4))\n",
    "b.asnumpy()"
   ]
  },
  {
   "cell_type": "code",
   "execution_count": 19,
   "metadata": {},
   "outputs": [
    {
     "name": "stdout",
     "output_type": "stream",
     "text": [
      "True\n",
      "False\n"
     ]
    }
   ],
   "source": [
    "# Copies\n",
    "a = mx.nd.ones((2, 2))\n",
    "b = a\n",
    "print b is a\n",
    "b = a.copy() # allocate a new NDArray and assigns to b\n",
    "print b is a"
   ]
  },
  {
   "cell_type": "code",
   "execution_count": null,
   "metadata": {},
   "outputs": [],
   "source": [
    "# GPU\n",
    "gpu_device = mx.gpu(device_id=0)\n",
    "\n",
    "def f():\n",
    "    a = mx.nd.ones((100, 100))\n",
    "    b = mx.nd.ones((100, 100))\n",
    "    c = a + b\n",
    "    print c\n",
    "\n",
    "f() # Default: mx.cpu() is used\n",
    "\n",
    "# Change default context to the first GPU\n",
    "with mx.Context(gpu_device):\n",
    "    f()"
   ]
  },
  {
   "cell_type": "code",
   "execution_count": null,
   "metadata": {},
   "outputs": [],
   "source": [
    "# Specify the context when creating an array\n",
    "a = mx.nd.ones((100, 100), gpu_device)\n",
    "a"
   ]
  },
  {
   "cell_type": "code",
   "execution_count": null,
   "metadata": {},
   "outputs": [],
   "source": [
    "# MXNet requires 2 arrays to be on the same device for computation. Copy data between devices\n",
    "a = mx.nd.ones((100, 100), mx.cpu())\n",
    "b = mx.nd.ones((100, 100), gpu_device)\n",
    "c = mx.nd.ones((100, 100), gpu_device)\n",
    "# a + b # Error\n",
    "\n",
    "a.copyto(c) # Copy from CPU to GPU\n",
    "d = b + c\n",
    "e = b.as_in_context(c.context) + c\n",
    "{'d': d, 'e': e}"
   ]
  },
  {
   "cell_type": "code",
   "execution_count": 20,
   "metadata": {},
   "outputs": [
    {
     "data": {
      "text/plain": [
       "array([[ 1.,  1.,  1.],\n",
       "       [ 1.,  1.,  1.]], dtype=float32)"
      ]
     },
     "execution_count": 20,
     "metadata": {},
     "output_type": "execute_result"
    }
   ],
   "source": [
    "# Serialize From/To Filesystems: save or load data to/from disk\n",
    "import pickle as pkl\n",
    "\n",
    "a = mx.nd.ones((2, 3))\n",
    "\n",
    "# Pack and then dump into disk\n",
    "data = pkl.dumps(a)\n",
    "pkl.dump(data, open('temp.pickle', 'wb'))\n",
    "\n",
    "# Load from disk and then unpack\n",
    "data = pkl.load(open('temp.pickle', 'rb'))\n",
    "b = pkl.loads(data)\n",
    "b.asnumpy()"
   ]
  },
  {
   "cell_type": "code",
   "execution_count": 21,
   "metadata": {},
   "outputs": [
    {
     "data": {
      "text/plain": [
       "[\n",
       " [[ 1.  1.  1.]\n",
       "  [ 1.  1.  1.]]\n",
       " <NDArray 2x3 @cpu(0)>, \n",
       " [[ 1.  1.  1.  1.  1.  1.]\n",
       "  [ 1.  1.  1.  1.  1.  1.]\n",
       "  [ 1.  1.  1.  1.  1.  1.]\n",
       "  [ 1.  1.  1.  1.  1.  1.]\n",
       "  [ 1.  1.  1.  1.  1.  1.]]\n",
       " <NDArray 5x6 @cpu(0)>]"
      ]
     },
     "execution_count": 21,
     "metadata": {},
     "output_type": "execute_result"
    }
   ],
   "source": [
    "# Save or Load using MXNet\n",
    "a = mx.nd.ones((2,3))\n",
    "b = mx.nd.ones((5,6))\n",
    "\n",
    "mx.nd.save('temp.ndarray', [a, b])\n",
    "c = mx.nd.load('temp.ndarray')\n",
    "c"
   ]
  },
  {
   "cell_type": "code",
   "execution_count": 22,
   "metadata": {},
   "outputs": [
    {
     "data": {
      "text/plain": [
       "{'a': \n",
       " [[ 1.  1.  1.]\n",
       "  [ 1.  1.  1.]]\n",
       " <NDArray 2x3 @cpu(0)>, 'b': \n",
       " [[ 1.  1.  1.  1.  1.  1.]\n",
       "  [ 1.  1.  1.  1.  1.  1.]\n",
       "  [ 1.  1.  1.  1.  1.  1.]\n",
       "  [ 1.  1.  1.  1.  1.  1.]\n",
       "  [ 1.  1.  1.  1.  1.  1.]]\n",
       " <NDArray 5x6 @cpu(0)>}"
      ]
     },
     "execution_count": 22,
     "metadata": {},
     "output_type": "execute_result"
    }
   ],
   "source": [
    "# Save or Load a dict of NDArrays\n",
    "d = {'a': a, 'b': b}\n",
    "mx.nd.save('temp.ndarray', d)\n",
    "c = mx.nd.load('temp.ndarray')\n",
    "c"
   ]
  },
  {
   "cell_type": "code",
   "execution_count": 23,
   "metadata": {},
   "outputs": [
    {
     "name": "stdout",
     "output_type": "stream",
     "text": [
      "Time for all computations are pushed into the backend engine: \n",
      " 0.002782 sec\n",
      "Time for all computations are finished: \n",
      " 4.352992 sec\n"
     ]
    }
   ],
   "source": [
    "# Lazy Evaluation\n",
    "def do(x, n):\n",
    "    \"\"\"\n",
    "    Push computation into the backend engine\n",
    "    \"\"\"\n",
    "    return [mx.nd.dot(x, x) for _ in range(n)]\n",
    "\n",
    "def wait(x):\n",
    "    \"\"\"\n",
    "    Wait until all results are available\n",
    "    \"\"\"\n",
    "    for y in x:\n",
    "        y.wait_to_read()\n",
    "        \n",
    "tic = time.time()\n",
    "a = mx.nd.ones((1000, 1000))\n",
    "b = do(a, 50)\n",
    "print 'Time for all computations are pushed into the backend engine: \\n %f sec' % (time.time() - tic)\n",
    "wait(b)\n",
    "print 'Time for all computations are finished: \\n %f sec' % (time.time() - tic)"
   ]
  },
  {
   "cell_type": "code",
   "execution_count": 26,
   "metadata": {},
   "outputs": [
    {
     "name": "stdout",
     "output_type": "stream",
     "text": [
      "Time to finish both CPU/gPU workloads: 0.996069 sec\n"
     ]
    }
   ],
   "source": [
    "n = 10\n",
    "a = mx.nd.ones((1000, 1000))\n",
    "#b = mx.nd.ones((6000, 6000), gpu_device)\n",
    "tic = time.time()\n",
    "c = do(a, n)\n",
    "wait(c)\n",
    "#print 'Time to finish the CPU workload: %f sec' % (time.time() - tic)\n",
    "#d = do(b, n)\n",
    "#wait(d)\n",
    "print 'Time to finish both CPU/gPU workloads: %f sec' % (time.time() - tic)"
   ]
  },
  {
   "cell_type": "code",
   "execution_count": 27,
   "metadata": {},
   "outputs": [
    {
     "name": "stdout",
     "output_type": "stream",
     "text": [
      "Both finished in: 1.016243 sec\n"
     ]
    }
   ],
   "source": [
    "tic = time.time()\n",
    "c = do(a, n)\n",
    "#d = do(b, n)\n",
    "wait(c)\n",
    "#wait(d)\n",
    "print('Both finished in: %f sec' % (time.time() - tic))"
   ]
  },
  {
   "cell_type": "code",
   "execution_count": null,
   "metadata": {},
   "outputs": [],
   "source": []
  }
 ],
 "metadata": {
  "kernelspec": {
   "display_name": "Python 2",
   "language": "python",
   "name": "python2"
  },
  "language_info": {
   "codemirror_mode": {
    "name": "ipython",
    "version": 2
   },
   "file_extension": ".py",
   "mimetype": "text/x-python",
   "name": "python",
   "nbconvert_exporter": "python",
   "pygments_lexer": "ipython2",
   "version": "2.7.12"
  }
 },
 "nbformat": 4,
 "nbformat_minor": 2
}
