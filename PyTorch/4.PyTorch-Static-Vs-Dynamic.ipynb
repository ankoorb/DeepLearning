{
 "cells": [
  {
   "cell_type": "markdown",
   "metadata": {},
   "source": [
    "- TensorFlow's computational graphs are **static**  \n",
    "    - Computational graph is defined once and same graph is executed over and over again\n",
    "    - Static graphs are nice as they can be optimized up front\n",
    "---    \n",
    "- PyTorch uses **dynamic** computational graphs\n",
    "    - Each forward pass defines a new computational graph\n",
    "    - Dynamic graphs are nice if model needs to perform different computation for each data point (e.g. RNN)\n",
    "---\n",
    "**`nn`** package provides higher-level abstractions over raw computational graphs (like `Keras`)"
   ]
  },
  {
   "cell_type": "code",
   "execution_count": 1,
   "metadata": {
    "collapsed": true
   },
   "outputs": [],
   "source": [
    "# Imports\n",
    "import torch\n",
    "from torch.autograd import Variable"
   ]
  },
  {
   "cell_type": "code",
   "execution_count": 2,
   "metadata": {
    "collapsed": true
   },
   "outputs": [],
   "source": [
    "# N: batch size, D_in: input dimension, H: hidden dimension, D_out: output dimension\n",
    "N, D_in, H, D_out = 64, 1000, 100, 10"
   ]
  },
  {
   "cell_type": "code",
   "execution_count": 3,
   "metadata": {
    "collapsed": true
   },
   "outputs": [],
   "source": [
    "# Create random Tensors to hold input and output and wrap them in Variables\n",
    "x = Variable(torch.randn(N, D_in))\n",
    "y = Variable(torch.randn(N, D_out), requires_grad=False)"
   ]
  },
  {
   "cell_type": "code",
   "execution_count": 4,
   "metadata": {
    "collapsed": true
   },
   "outputs": [],
   "source": [
    "# Use nn package to define model as a sequence of layers.\n",
    "# nn.Sequential is a Module which contains other Modules and applies them in sequence to produce its output\n",
    "model = torch.nn.Sequential(torch.nn.Linear(D_in, H),\n",
    "                            torch.nn.ReLU(),\n",
    "                            torch.nn.Linear(H, D_out))"
   ]
  },
  {
   "cell_type": "code",
   "execution_count": 5,
   "metadata": {
    "collapsed": true
   },
   "outputs": [],
   "source": [
    "# MSE Loss (size_average=False -> does not divide sum by n)\n",
    "loss_fn = torch.nn.MSELoss(size_average=False)"
   ]
  },
  {
   "cell_type": "code",
   "execution_count": 6,
   "metadata": {},
   "outputs": [
    {
     "name": "stdout",
     "output_type": "stream",
     "text": [
      "0 655.656799316\n",
      "50 38.687664032\n",
      "100 2.36846733093\n",
      "150 0.239535540342\n",
      "200 0.0310179758817\n",
      "250 0.00467509170994\n",
      "300 0.000779781315941\n",
      "350 0.000139846699312\n",
      "400 2.65552826022e-05\n",
      "450 5.26942449142e-06\n"
     ]
    }
   ],
   "source": [
    "# Computation\n",
    "learning_rate = 1e-4\n",
    "\n",
    "for i in xrange(500):\n",
    "    # Forward pass: compute predicted y by passing x into the model\n",
    "    y_pred = model(x)\n",
    "    \n",
    "    # Compute loss\n",
    "    loss = loss_fn(y_pred, y)\n",
    "    if i % 50 == 0:\n",
    "        print i, loss.data[0]\n",
    "        \n",
    "    # Backward pass: compute gradient of the loss with respect to all the \n",
    "    # learnable parameters of the model. Internally, the parameters of each \n",
    "    # Module are stored in Variables with requires_grad=True\n",
    "    loss.backward()\n",
    "    \n",
    "    # Update the weights using gradient descent. Each parameter is a Variable\n",
    "    for param in model.parameters():\n",
    "        param.data -= learning_rate * param.grad.data\n",
    "        \n",
    "    # Mutate the gradients to zero \n",
    "    model.zero_grad()"
   ]
  },
  {
   "cell_type": "code",
   "execution_count": null,
   "metadata": {
    "collapsed": true
   },
   "outputs": [],
   "source": []
  }
 ],
 "metadata": {
  "kernelspec": {
   "display_name": "Python (PyTorch)",
   "language": "python",
   "name": "pytorch"
  },
  "language_info": {
   "codemirror_mode": {
    "name": "ipython",
    "version": 2
   },
   "file_extension": ".py",
   "mimetype": "text/x-python",
   "name": "python",
   "nbconvert_exporter": "python",
   "pygments_lexer": "ipython2",
   "version": "2.7.6"
  }
 },
 "nbformat": 4,
 "nbformat_minor": 2
}
