{
 "cells": [
  {
   "cell_type": "code",
   "execution_count": 1,
   "metadata": {
    "collapsed": true
   },
   "outputs": [],
   "source": [
    "# Imports\n",
    "import torch\n",
    "import numpy as np"
   ]
  },
  {
   "cell_type": "code",
   "execution_count": 2,
   "metadata": {},
   "outputs": [
    {
     "name": "stdout",
     "output_type": "stream",
     "text": [
      "\n",
      " 1.4394e-37  0.0000e+00 -2.2626e+00\n",
      " 4.5829e-41 -2.2999e+00  4.5829e-41\n",
      " 3.0697e-38  0.0000e+00  3.0697e-38\n",
      " 0.0000e+00 -1.9955e+05  4.5829e-41\n",
      "-2.3427e+00  4.5829e-41 -2.3426e+00\n",
      "[torch.FloatTensor of size 5x3]\n",
      "\n"
     ]
    }
   ],
   "source": [
    "# Tensor\n",
    "x = torch.Tensor(5, 3)\n",
    "print x"
   ]
  },
  {
   "cell_type": "code",
   "execution_count": 5,
   "metadata": {},
   "outputs": [
    {
     "name": "stdout",
     "output_type": "stream",
     "text": [
      "\n",
      " 0.1421  0.7358  0.1672\n",
      " 0.8472  0.4381  0.2019\n",
      " 0.2403  0.1050  0.1855\n",
      " 0.2767  0.8235  0.6025\n",
      " 0.3804  0.0654  0.1156\n",
      "[torch.FloatTensor of size 5x3]\n",
      "\n"
     ]
    }
   ],
   "source": [
    "# Construct a randomly initialized matrix\n",
    "y = torch.rand(5, 3)\n",
    "print y"
   ]
  },
  {
   "cell_type": "code",
   "execution_count": 6,
   "metadata": {},
   "outputs": [
    {
     "name": "stdout",
     "output_type": "stream",
     "text": [
      "torch.Size([5, 3])\n"
     ]
    }
   ],
   "source": [
    "# Get size of a tensor\n",
    "print x.size()"
   ]
  },
  {
   "cell_type": "code",
   "execution_count": 7,
   "metadata": {},
   "outputs": [
    {
     "name": "stdout",
     "output_type": "stream",
     "text": [
      "\n",
      " 0.9214  1.0472  0.3798\n",
      " 1.5228  0.7140  0.8238\n",
      " 0.7340  0.7747  0.6769\n",
      " 0.5868  1.7342  1.5584\n",
      " 1.0959  0.8855  0.8179\n",
      "[torch.FloatTensor of size 5x3]\n",
      "\n"
     ]
    }
   ],
   "source": [
    "# Addition: 1\n",
    "z = x + y\n",
    "print z"
   ]
  },
  {
   "cell_type": "code",
   "execution_count": 8,
   "metadata": {},
   "outputs": [
    {
     "name": "stdout",
     "output_type": "stream",
     "text": [
      "\n",
      " 0.9214  1.0472  0.3798\n",
      " 1.5228  0.7140  0.8238\n",
      " 0.7340  0.7747  0.6769\n",
      " 0.5868  1.7342  1.5584\n",
      " 1.0959  0.8855  0.8179\n",
      "[torch.FloatTensor of size 5x3]\n",
      "\n"
     ]
    }
   ],
   "source": [
    "# Addition: 2\n",
    "z = torch.add(x, y)\n",
    "print z"
   ]
  },
  {
   "cell_type": "code",
   "execution_count": 9,
   "metadata": {},
   "outputs": [
    {
     "name": "stdout",
     "output_type": "stream",
     "text": [
      "\n",
      " 0.9214  1.0472  0.3798\n",
      " 1.5228  0.7140  0.8238\n",
      " 0.7340  0.7747  0.6769\n",
      " 0.5868  1.7342  1.5584\n",
      " 1.0959  0.8855  0.8179\n",
      "[torch.FloatTensor of size 5x3]\n",
      "\n"
     ]
    }
   ],
   "source": [
    "# Addition: Giving an output tensor\n",
    "result = torch.Tensor(x.size())\n",
    "torch.add(x, y, out=result)\n",
    "print result"
   ]
  },
  {
   "cell_type": "code",
   "execution_count": 10,
   "metadata": {},
   "outputs": [
    {
     "name": "stdout",
     "output_type": "stream",
     "text": [
      "0.185483187437\n",
      "0.676866710186\n"
     ]
    }
   ],
   "source": [
    "# Addition: In-Place\n",
    "# NOTE: Any operation that mutates a tensor in-place is post fixed with an \"_\"\n",
    "print y[2, 2]\n",
    "y.add_(x)\n",
    "print y[2, 2]"
   ]
  },
  {
   "cell_type": "code",
   "execution_count": 11,
   "metadata": {},
   "outputs": [
    {
     "name": "stdout",
     "output_type": "stream",
     "text": [
      "\n",
      " 0.3114\n",
      " 0.2759\n",
      " 0.6697\n",
      " 0.9107\n",
      " 0.8202\n",
      "[torch.FloatTensor of size 5]\n",
      "\n"
     ]
    }
   ],
   "source": [
    "# Indexing\n",
    "print x[:, 1]"
   ]
  },
  {
   "cell_type": "markdown",
   "metadata": {},
   "source": [
    "**[PyTorch Documentation](http://pytorch.org/docs/torch)**\n",
    "\n",
    "### Converting Torch Tensor to a NumPy Array and vice versa"
   ]
  },
  {
   "cell_type": "code",
   "execution_count": 22,
   "metadata": {},
   "outputs": [
    {
     "name": "stdout",
     "output_type": "stream",
     "text": [
      "\n",
      " 1\n",
      " 1\n",
      " 1\n",
      " 1\n",
      " 1\n",
      "[torch.FloatTensor of size 5]\n",
      " <class 'torch.FloatTensor'>\n"
     ]
    }
   ],
   "source": [
    "# Torch Tensor to Numpy Array\n",
    "a = torch.ones(5)\n",
    "print a, type(a)"
   ]
  },
  {
   "cell_type": "code",
   "execution_count": 23,
   "metadata": {},
   "outputs": [
    {
     "name": "stdout",
     "output_type": "stream",
     "text": [
      "[ 1.  1.  1.  1.  1.] <type 'numpy.ndarray'>\n"
     ]
    }
   ],
   "source": [
    "b = a.numpy()\n",
    "print b, type(b)"
   ]
  },
  {
   "cell_type": "code",
   "execution_count": 24,
   "metadata": {},
   "outputs": [
    {
     "name": "stdout",
     "output_type": "stream",
     "text": [
      "\n",
      " 2\n",
      " 2\n",
      " 2\n",
      " 2\n",
      " 2\n",
      "[torch.FloatTensor of size 5]\n",
      "\n",
      "[ 2.  2.  2.  2.  2.]\n"
     ]
    }
   ],
   "source": [
    "a.add_(1)\n",
    "print a\n",
    "print b"
   ]
  },
  {
   "cell_type": "code",
   "execution_count": 25,
   "metadata": {},
   "outputs": [
    {
     "name": "stdout",
     "output_type": "stream",
     "text": [
      "[ 2.  2.  2.  2.  2.]\n",
      "\n",
      " 2\n",
      " 2\n",
      " 2\n",
      " 2\n",
      " 2\n",
      "[torch.DoubleTensor of size 5]\n",
      "\n"
     ]
    }
   ],
   "source": [
    "# NumPy Array to Torch Tensor\n",
    "a = np.ones(5)\n",
    "b = torch.from_numpy(a)\n",
    "np.add(a, 1, out=a)\n",
    "print a\n",
    "print b"
   ]
  },
  {
   "cell_type": "markdown",
   "metadata": {},
   "source": [
    "### CUDA Tensors"
   ]
  },
  {
   "cell_type": "code",
   "execution_count": 27,
   "metadata": {},
   "outputs": [
    {
     "name": "stdout",
     "output_type": "stream",
     "text": [
      "\n",
      " 1.7006  1.3586  0.5925\n",
      " 2.1983  0.9899  1.4457\n",
      " 1.2277  1.4444  1.1683\n",
      " 0.8970  2.6448  2.5143\n",
      " 1.8113  1.7057  1.5203\n",
      "[torch.cuda.FloatTensor of size 5x3 (GPU 0)]\n",
      "\n"
     ]
    }
   ],
   "source": [
    "# If CUDA is available run this cell\n",
    "if torch.cuda.is_available():\n",
    "    x = x.cuda()\n",
    "    y = y.cuda()\n",
    "    print x + y"
   ]
  },
  {
   "cell_type": "code",
   "execution_count": null,
   "metadata": {
    "collapsed": true
   },
   "outputs": [],
   "source": []
  }
 ],
 "metadata": {
  "kernelspec": {
   "display_name": "Python (PyTorch)",
   "language": "python",
   "name": "pytorch"
  },
  "language_info": {
   "codemirror_mode": {
    "name": "ipython",
    "version": 2
   },
   "file_extension": ".py",
   "mimetype": "text/x-python",
   "name": "python",
   "nbconvert_exporter": "python",
   "pygments_lexer": "ipython2",
   "version": "2.7.6"
  }
 },
 "nbformat": 4,
 "nbformat_minor": 2
}
