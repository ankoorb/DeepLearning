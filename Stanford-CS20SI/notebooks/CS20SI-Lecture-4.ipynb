{
 "cells": [
  {
   "cell_type": "markdown",
   "metadata": {},
   "source": [
    "# Eager Execution\n",
    "\n",
    "\n",
    "### Graphs\n",
    "\n",
    "- Advantages\n",
    "    - Optimizable\n",
    "    - Deployable\n",
    "    - Rewritable\n",
    "    \n",
    "    \n",
    "- Disadvantages\n",
    "    - Difficult to debug\n",
    "    - Un-pythonic\n",
    "    \n",
    "**Eager Execution** - A NumPy like library for numerical computation with support for GPU acceleration and automatic differentiation, and a flexible platform for machine learning research and experimentation.\n",
    "\n",
    "- Advantages\n",
    "    - Compatible with Python debugging tools (`pdb`)\n",
    "    - Provides immediate error reporting\n",
    "    - Permits use of Python Data Structures\n",
    "    - Enables easy, Pythonic control flow\n",
    "    - No longer need to worry about `placeholders`, `sessions`, `control dependencies`, `\"lazy loading\"`, `{name, variable, op} scopes`"
   ]
  },
  {
   "cell_type": "code",
   "execution_count": 1,
   "metadata": {},
   "outputs": [],
   "source": [
    "import numpy as np\n",
    "import tensorflow as tf\n",
    "import tensorflow.contrib.eager as tfe\n",
    "tfe.enable_eager_execution()"
   ]
  },
  {
   "cell_type": "code",
   "execution_count": 3,
   "metadata": {},
   "outputs": [
    {
     "name": "stdout",
     "output_type": "stream",
     "text": [
      "Tensor(\"MatMul_1:0\", shape=(1, 1), dtype=float32)\n",
      "[[4.]]\n"
     ]
    }
   ],
   "source": [
    "# Graph-based\n",
    "x = tf.placeholder(tf.float32, shape=[1, 1])\n",
    "m = tf.matmul(x, x)\n",
    "print(m)\n",
    "\n",
    "with tf.Session() as sess:\n",
    "    m_out = sess.run(m, feed_dict={x: [[2.0]]})\n",
    "print(m_out)"
   ]
  },
  {
   "cell_type": "code",
   "execution_count": 4,
   "metadata": {},
   "outputs": [
    {
     "name": "stdout",
     "output_type": "stream",
     "text": [
      "0.89362836\n",
      "0.18055153\n",
      "0.22100377\n",
      "0.17774534\n"
     ]
    }
   ],
   "source": [
    "# Lazy Loading\n",
    "x = tf.random_uniform([2, 2])\n",
    "\n",
    "with tf.Session() as sess:\n",
    "    for i in range(x.shape[0]):\n",
    "        for j in range(x.shape[1]):\n",
    "            print(sess.run(x[i, j]))  # Each iteration adds nodes to the graph"
   ]
  },
  {
   "cell_type": "markdown",
   "metadata": {},
   "source": [
    "#### Eager Execution"
   ]
  },
  {
   "cell_type": "code",
   "execution_count": 3,
   "metadata": {},
   "outputs": [
    {
     "name": "stdout",
     "output_type": "stream",
     "text": [
      "tf.Tensor([[4.]], shape=(1, 1), dtype=float32)\n"
     ]
    }
   ],
   "source": [
    "x = [[2.0]]  # No placeholder\n",
    "m = tf.matmul(x, x)\n",
    "print(m)  # No session"
   ]
  },
  {
   "cell_type": "code",
   "execution_count": 4,
   "metadata": {},
   "outputs": [
    {
     "name": "stdout",
     "output_type": "stream",
     "text": [
      "tf.Tensor(0.75011075, shape=(), dtype=float32)\n",
      "tf.Tensor(0.25964546, shape=(), dtype=float32)\n",
      "tf.Tensor(0.5588856, shape=(), dtype=float32)\n",
      "tf.Tensor(0.5911846, shape=(), dtype=float32)\n"
     ]
    }
   ],
   "source": [
    "# Lazy loading\n",
    "x = tf.random_uniform([2, 2])\n",
    "\n",
    "for i in range(x.shape[0]):\n",
    "    for j in range(x.shape[1]):\n",
    "        print(x[i, j])"
   ]
  },
  {
   "cell_type": "code",
   "execution_count": 2,
   "metadata": {},
   "outputs": [
    {
     "name": "stdout",
     "output_type": "stream",
     "text": [
      "tf.Tensor(1.0, shape=(), dtype=float32)\n",
      "tf.Tensor(2.0, shape=(), dtype=float32)\n",
      "tf.Tensor(3.0, shape=(), dtype=float32)\n"
     ]
    }
   ],
   "source": [
    "# Tensors act like NumPy arrays\n",
    "x = tf.constant([1.0, 2.0, 3.0])\n",
    "\n",
    "assert type(x.numpy()) == np.ndarray\n",
    "squared = np.square(x)  # Tensors are compatible with NumPy functions\n",
    "\n",
    "for i in x:  # Tensors are iterable\n",
    "    print(i)"
   ]
  },
  {
   "cell_type": "markdown",
   "metadata": {},
   "source": [
    "**Gradients** - Automatic differentiation is built into eager execution\n",
    "\n",
    "[Automatic Differentiation](https://arxiv.org/pdf/1502.05767.pdf)"
   ]
  },
  {
   "cell_type": "code",
   "execution_count": 3,
   "metadata": {},
   "outputs": [
    {
     "name": "stdout",
     "output_type": "stream",
     "text": [
      "square:  9.0\n",
      "grad:  [<tf.Tensor: id=32, shape=(), dtype=float32, numpy=6.0>]\n"
     ]
    }
   ],
   "source": [
    "def square(x):\n",
    "    return x**2\n",
    "\n",
    "grad = tfe.gradients_function(square)  # Differentiate w.r.t. input of squae\n",
    "\n",
    "print('square: ', square(3.0))\n",
    "print('grad: ', grad(3.0))"
   ]
  },
  {
   "cell_type": "markdown",
   "metadata": {},
   "source": [
    "### [User Guide](https://github.com/tensorflow/tensorflow/blob/master/tensorflow/docs_src/programmers_guide/eager.md)\n",
    "\n",
    "- Use `tfe.Variable` when eager execution is enabled\n",
    "- API's for computing gradients work *even when eager execution is not enabled*\n",
    "    - `tfe.gradients_function()`\n",
    "    - `tfe.value_and_gradients_function()`\n",
    "    - `tfe.implicit_gradients()`\n",
    "    - `tfe.implicit_value_and_gradients()`"
   ]
  },
  {
   "cell_type": "code",
   "execution_count": 4,
   "metadata": {},
   "outputs": [
    {
     "name": "stdout",
     "output_type": "stream",
     "text": [
      "loss:  tf.Tensor(9.0, shape=(), dtype=float32)\n",
      "grad:  [(<tf.Tensor: id=90, shape=(), dtype=float32, numpy=-24.0>, <tf.Variable 'Variable:0' shape=() dtype=float32, numpy=2.0>)]\n"
     ]
    }
   ],
   "source": [
    "x = tfe.Variable(2.0)\n",
    "\n",
    "def loss(y):\n",
    "    return (y - x**2)**2\n",
    "\n",
    "grad = tfe.implicit_gradients(loss)  # Differentiate w.r.t. variables used to compute loss\n",
    "\n",
    "print('loss: ', loss(7))\n",
    "print('grad: ', grad(7))"
   ]
  },
  {
   "cell_type": "markdown",
   "metadata": {},
   "source": [
    "When **eager** execution is enabled\n",
    "\n",
    "- Prefer `tfe.Variable`\n",
    "- Use `tfe.Iterator`\n",
    "- Prefer Object Oriented layers (e.g. `tf.layers.Dense`)"
   ]
  },
  {
   "cell_type": "markdown",
   "metadata": {},
   "source": [
    "# Linear Regression *(Huber loss)* with Eager Execution"
   ]
  },
  {
   "cell_type": "code",
   "execution_count": 17,
   "metadata": {},
   "outputs": [],
   "source": [
    "import time\n",
    "import matplotlib.pyplot as plt\n",
    "%matplotlib inline\n",
    "\n",
    "# Utility function\n",
    "def read_birth_life_data(filename):\n",
    "    \"\"\"\n",
    "    Read in birth_life_2010.txt and return:\n",
    "    data in the form of NumPy array\n",
    "    n_samples: number of samples\n",
    "    \"\"\"\n",
    "    text = open(filename, 'r').readlines()[1:]\n",
    "    data = [line[:-1].split('\\t') for line in text]\n",
    "    births = [float(line[1]) for line in data]\n",
    "    lifes = [float(line[2]) for line in data]\n",
    "    data = list(zip(births, lifes))\n",
    "    n_samples = len(data)\n",
    "    data = np.asarray(data, dtype=np.float32)\n",
    "    return data, n_samples"
   ]
  },
  {
   "cell_type": "code",
   "execution_count": 27,
   "metadata": {},
   "outputs": [],
   "source": [
    "# Read the data into a dataset\n",
    "DATA_FILE = 'data/birth_life_2010.txt'\n",
    "\n",
    "data, n_samples = read_birth_life_data(DATA_FILE)\n",
    "dataset = tf.data.Dataset.from_tensor_slices((data[:,0], data[:,1]))"
   ]
  },
  {
   "cell_type": "code",
   "execution_count": 28,
   "metadata": {},
   "outputs": [],
   "source": [
    "# Create weight and bias variables, initialized to 0.0\n",
    "w = tfe.Variable(0.0)\n",
    "b = tfe.Variable(0.0)"
   ]
  },
  {
   "cell_type": "code",
   "execution_count": 20,
   "metadata": {},
   "outputs": [],
   "source": [
    "# Define linear predictor\n",
    "def prediction(x):\n",
    "    return tf.add(tf.multiply(w, x), b)"
   ]
  },
  {
   "cell_type": "code",
   "execution_count": 29,
   "metadata": {},
   "outputs": [],
   "source": [
    "# Define loss function: single example so no tf.reduce_sum\n",
    "def squared_loss(y, y_predicted):\n",
    "    return tf.square(tf.subtract(y, y_predicted))"
   ]
  },
  {
   "cell_type": "markdown",
   "metadata": {},
   "source": [
    "**Huber Loss** - Robust to outliers. \n",
    "\n",
    "Intuition - If the difference between the predicted value and the real value is small, then square the it, if the difference is large, then take its absolute value\n",
    "\n",
    "$$L_{\\delta}(y, f(x)) = \\begin{cases}\n",
    "                          \\frac{1}{2}(y-f(x))^2 & \\text{for}\\ \\left|y-f(x)\\right| \\leq \\delta \\\\\n",
    "                          \\delta\\left|y-f(x)\\right| - \\frac{1}{2}\\delta^2 & \\text{otherwise}\n",
    "                        \\end{cases}$$"
   ]
  },
  {
   "cell_type": "code",
   "execution_count": 38,
   "metadata": {},
   "outputs": [],
   "source": [
    "# Define Huber loss\n",
    "def huber_loss(y, y_predicted, m=1.0):\n",
    "    if abs(y - y_predicted) <= m:\n",
    "        return 0.5 * squared_loss(y, y_predicted)\n",
    "    else:\n",
    "        return m * abs(y - y_predicted) - 0.5 * m**2"
   ]
  },
  {
   "cell_type": "code",
   "execution_count": 41,
   "metadata": {},
   "outputs": [],
   "source": [
    "# Define train function\n",
    "def train(loss_fn):\n",
    "    \"\"\"Train a regression model evaluated using `loss_fn`\"\"\"\n",
    "    print('Training; Loss function: ', loss_fn.__name__)\n",
    "    optimizer = tf.train.GradientDescentOptimizer(learning_rate=0.01)\n",
    "\n",
    "    # Define the function through which to differentiate\n",
    "    def loss_for_example(x, y):\n",
    "        return loss_fn(y, prediction(x))\n",
    "    \n",
    "    # Obtain a gradients function using `tfe.implicit_value_and_gradients`\n",
    "    grad_fn = tfe.implicit_value_and_gradients(loss_for_example)\n",
    "    \n",
    "    # Train\n",
    "    num_epochs = 100\n",
    "    start = time.time()\n",
    "    for epoch in range(num_epochs):\n",
    "        total_loss = 0.0\n",
    "        for x_i, y_i in tfe.Iterator(dataset):\n",
    "            loss, gradients = grad_fn(x_i, y_i)\n",
    "            \n",
    "            # Take an optimization step and update variables\n",
    "            optimizer.apply_gradients(gradients)\n",
    "            \n",
    "            total_loss += loss\n",
    "        if epoch % 10 == 0:\n",
    "            print('Epoch {}: {}'.format(epoch, total_loss/n_samples))\n",
    "    print('Took: {:0.2f}'.format(time.time() - start))"
   ]
  },
  {
   "cell_type": "code",
   "execution_count": 67,
   "metadata": {},
   "outputs": [
    {
     "name": "stdout",
     "output_type": "stream",
     "text": [
      "Training; Loss function:  huber_loss\n",
      "Epoch 0: 4.5785112380981445\n",
      "Epoch 10: 3.9183990955352783\n",
      "Epoch 20: 3.764439582824707\n",
      "Epoch 30: 3.718583822250366\n",
      "Epoch 40: 3.7050487995147705\n",
      "Epoch 50: 3.700268030166626\n",
      "Epoch 60: 3.6995301246643066\n",
      "Epoch 70: 3.6999752521514893\n",
      "Epoch 80: 3.7005624771118164\n",
      "Epoch 90: 3.7010445594787598\n",
      "Took: 20.70\n"
     ]
    },
    {
     "data": {
      "image/png": "[encoded data removed]",
      "text/plain": [
       "<Figure size 432x288 with 1 Axes>"
      ]
     },
     "metadata": {},
     "output_type": "display_data"
    }
   ],
   "source": [
    "# Training\n",
    "train(huber_loss)\n",
    "\n",
    "# Plot\n",
    "plt.plot(data[:,0], data[:,1], 'bo')\n",
    "plt.plot(data[:,0], data[:,0] * w.numpy() + b.numpy(), 'r', \n",
    "         label='Huber Regression')\n",
    "plt.legend()\n",
    "plt.show()"
   ]
  },
  {
   "cell_type": "markdown",
   "metadata": {},
   "source": [
    "# Scratch"
   ]
  },
  {
   "cell_type": "code",
   "execution_count": 65,
   "metadata": {},
   "outputs": [
    {
     "name": "stdout",
     "output_type": "stream",
     "text": [
      "x:  tf.Tensor(1.822, shape=(), dtype=float32)\n",
      "y:  tf.Tensor(74.82825, shape=(), dtype=float32)\n",
      "loss:  tf.Tensor(44.29114, shape=(), dtype=float32)\n",
      "grad:  [(<tf.Tensor: id=2356136, shape=(), dtype=float32, numpy=-24.2514>, <tf.Variable 'Variable:0' shape=() dtype=float32, numpy=-2.0677629>), (<tf.Tensor: id=2356135, shape=(), dtype=float32, numpy=-13.310318>, <tf.Variable 'Variable:0' shape=() dtype=float32, numpy=71.94055>)]\n"
     ]
    }
   ],
   "source": [
    "def sq_loss_for_example(x, y):\n",
    "    return squared_loss(y, prediction(x))\n",
    "\n",
    "def huber_loss_for_example(x, y):\n",
    "    return huber_loss(y, prediction(x))\n",
    "\n",
    "optimizer = tf.train.GradientDescentOptimizer(learning_rate=0.01)\n",
    "grad_fn = tfe.implicit_value_and_gradients(sq_loss_for_example)\n",
    "x, y = tfe.Iterator(dataset).next()\n",
    "print('x: ', x)\n",
    "print('y: ', y)\n",
    "loss, grad = grad_fn(x, y)\n",
    "print('loss: ', loss)\n",
    "print('grad: ', grad)"
   ]
  },
  {
   "cell_type": "code",
   "execution_count": null,
   "metadata": {},
   "outputs": [],
   "source": []
  }
 ],
 "metadata": {
  "kernelspec": {
   "display_name": "Python 3",
   "language": "python",
   "name": "python3"
  },
  "language_info": {
   "codemirror_mode": {
    "name": "ipython",
    "version": 3
   },
   "file_extension": ".py",
   "mimetype": "text/x-python",
   "name": "python",
   "nbconvert_exporter": "python",
   "pygments_lexer": "ipython3",
   "version": "3.6.5"
  }
 },
 "nbformat": 4,
 "nbformat_minor": 2
}
