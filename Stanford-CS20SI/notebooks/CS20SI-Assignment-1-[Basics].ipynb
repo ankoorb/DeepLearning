{
 "cells": [
  {
   "cell_type": "code",
   "execution_count": 1,
   "metadata": {},
   "outputs": [],
   "source": [
    "import os\n",
    "os.environ['TF_CPP_MIN_LOG_LEVEL'] = '2'\n",
    "\n",
    "import tensorflow as tf"
   ]
  },
  {
   "cell_type": "markdown",
   "metadata": {},
   "source": [
    "#### 1 (A)\n",
    "Create two random 0-d tensors x and y of any distribution. Create a TensorFlow object that returns x + y if x > y, and x - y otherwise. Hint: look up `tf.cond()`"
   ]
  },
  {
   "cell_type": "code",
   "execution_count": 3,
   "metadata": {},
   "outputs": [
    {
     "name": "stdout",
     "output_type": "stream",
     "text": [
      "x: 1.1789909601211548, y: 0.6377964019775391 and out: 1.8167873620986938\n"
     ]
    }
   ],
   "source": [
    "x = tf.random_normal(shape=[])\n",
    "y = tf.random_uniform(shape=[])\n",
    "out = tf.cond(tf.greater(x, y), true_fn=lambda: x + y, false_fn=lambda: x - y)\n",
    "\n",
    "with tf.Session() as sess:\n",
    "    x_, y_, o_ = sess.run([x, y, out])\n",
    "    print('x: {}, y: {} and out: {}'.format(x_, y_, o_))"
   ]
  },
  {
   "cell_type": "markdown",
   "metadata": {},
   "source": [
    "#### 1(B)\n",
    "\n",
    "Create two 0-d tensors x and y randomly selected from the range [-1, 1). Return x + y if x < y, x - y if x > y, 0 otherwise. Hint: Look up `tf.case()`"
   ]
  },
  {
   "cell_type": "code",
   "execution_count": 4,
   "metadata": {},
   "outputs": [
    {
     "name": "stdout",
     "output_type": "stream",
     "text": [
      "x: 0.6335320472717285, y: -0.7446987628936768 and out: 1.3782308101654053\n"
     ]
    }
   ],
   "source": [
    "x = tf.random_uniform(shape=[], minval=-1)\n",
    "y = tf.random_uniform(shape=[], minval=-1)\n",
    "out = tf.case({tf.less(x, y): lambda: x + y, tf.greater(x, y): lambda: x - y}, \n",
    "              exclusive=True)\n",
    "\n",
    "with tf.Session() as sess:\n",
    "    x_, y_, o_ = sess.run([x, y, out])\n",
    "    print('x: {}, y: {} and out: {}'.format(x_, y_, o_))"
   ]
  },
  {
   "cell_type": "markdown",
   "metadata": {},
   "source": [
    "#### 1(C)\n",
    "\n",
    "Create the tensor x of the value `[[0, -2, -1], [0, 1, 2]]` and y as a tensor of zeros with the same shape as x. Return a boolean tensor that yields `True` if x equals y element-wise. Hint: Look up `tf.equal()`."
   ]
  },
  {
   "cell_type": "code",
   "execution_count": 5,
   "metadata": {},
   "outputs": [
    {
     "name": "stdout",
     "output_type": "stream",
     "text": [
      "[[ True False False]\n",
      " [ True False False]]\n"
     ]
    }
   ],
   "source": [
    "x = tf.constant(value=[[0, -2, -1], [0, 1, 1]])\n",
    "y = tf.zeros(shape=x.shape, dtype=tf.int32)\n",
    "out = tf.equal(x, y)\n",
    "\n",
    "with tf.Session() as sess:\n",
    "    print(sess.run(out))"
   ]
  },
  {
   "cell_type": "markdown",
   "metadata": {},
   "source": [
    "#### 1(D)\n",
    "\n",
    "Create the tensor x of value \n",
    "\n",
    "`[29.05088806,  27.61298943,  31.19073486,  29.35532951, 30.97266006,  26.67541885,  38.08450317,  20.74983215, 34.94445419,  34.45999146,  29.06485367,  36.01657104, 27.88236427,  20.56035233,  30.20379066,  29.51215172, 33.71149445,  28.59134293,  36.05556488,  28.66994858].` \n",
    "\n",
    "Get the indices of elements in x whose values are greater than 30. Hint: Use `tf.where()`. Then extract elements whose values are greater than 30. Hint: Use `tf.gather()`."
   ]
  },
  {
   "cell_type": "code",
   "execution_count": 6,
   "metadata": {},
   "outputs": [
    {
     "name": "stdout",
     "output_type": "stream",
     "text": [
      "[[31.190735]\n",
      " [30.97266 ]\n",
      " [38.084503]\n",
      " [34.944454]\n",
      " [34.45999 ]\n",
      " [36.01657 ]\n",
      " [30.20379 ]\n",
      " [33.711494]\n",
      " [36.055565]]\n"
     ]
    }
   ],
   "source": [
    "x = tf.constant(value=[29.05088806, 27.61298943, 31.19073486, 29.35532951, \n",
    "                       30.97266006, 26.67541885, 38.08450317, 20.74983215, \n",
    "                       34.94445419, 34.45999146, 29.06485367, 36.01657104, \n",
    "                       27.88236427, 20.56035233, 30.20379066, 29.51215172, \n",
    "                       33.71149445, 28.59134293, 36.05556488, 28.66994858])\n",
    "\n",
    "indices = tf.where(tf.greater(x, 30.0))\n",
    "out = tf.gather(x, indices=indices)\n",
    "\n",
    "with tf.Session() as sess:\n",
    "    print(sess.run(out))"
   ]
  },
  {
   "cell_type": "markdown",
   "metadata": {},
   "source": [
    "#### 1(E)\n",
    "\n",
    "Create a diagnoal 2-d tensor of size 6 x 6 with the diagonal values of 1, 2, ..., 6. Hint: Use `tf.range()` and `tf.diag()`."
   ]
  },
  {
   "cell_type": "code",
   "execution_count": 7,
   "metadata": {},
   "outputs": [
    {
     "name": "stdout",
     "output_type": "stream",
     "text": [
      "[[1 0 0 0 0 0]\n",
      " [0 2 0 0 0 0]\n",
      " [0 0 3 0 0 0]\n",
      " [0 0 0 4 0 0]\n",
      " [0 0 0 0 5 0]\n",
      " [0 0 0 0 0 6]]\n"
     ]
    }
   ],
   "source": [
    "d = tf.range(start=1, limit=7)\n",
    "m = tf.diag(diagonal=d)\n",
    "\n",
    "with tf.Session() as sess:\n",
    "    print(sess.run(m))"
   ]
  },
  {
   "cell_type": "markdown",
   "metadata": {},
   "source": [
    "#### 1(F) \n",
    "\n",
    "Create a random 2-d tensor of size 10 x 10 from any distribution. Calculate its determinant. Hint: Look at `tf.matrix_determinant()`."
   ]
  },
  {
   "cell_type": "code",
   "execution_count": 8,
   "metadata": {},
   "outputs": [
    {
     "name": "stdout",
     "output_type": "stream",
     "text": [
      "0.008629425\n"
     ]
    }
   ],
   "source": [
    "m = tf.random_uniform(shape=[10, 10])\n",
    "det = tf.matrix_determinant(m)\n",
    "\n",
    "with tf.Session() as sess:\n",
    "    print(sess.run(det))"
   ]
  },
  {
   "cell_type": "markdown",
   "metadata": {},
   "source": [
    "#### 1(G)\n",
    "\n",
    "Create tensor x with value `[5, 2, 3, 5, 10, 6, 2, 3, 4, 2, 1, 1, 0, 9]`. Return the unique elements in x Hint: use `tf.unique()`. Keep in mind that `tf.unique()` returns a tuple."
   ]
  },
  {
   "cell_type": "code",
   "execution_count": 9,
   "metadata": {},
   "outputs": [
    {
     "name": "stdout",
     "output_type": "stream",
     "text": [
      "[ 5  2  3 10  6  4  1  0  9]\n"
     ]
    }
   ],
   "source": [
    "x = tf.constant(value=[5, 2, 3, 5, 10, 6, 2, 3, 4, 2, 1, 1, 0, 9])\n",
    "u = tf.unique(x)\n",
    "\n",
    "with tf.Session() as sess:\n",
    "    print(sess.run(u[0]))"
   ]
  },
  {
   "cell_type": "markdown",
   "metadata": {},
   "source": [
    "#### 1(H)\n",
    "\n",
    "Create two tensors x and y of shape 300 from any normal distribution, as long as they are from the same distribution. Use `tf.cond()` to return:\n",
    "- The mean squared error of (x - y) if the average of all elements in (x - y) is negative, or\n",
    "- The sum of absolute value of all elements in the tensor (x - y) otherwise."
   ]
  },
  {
   "cell_type": "code",
   "execution_count": 10,
   "metadata": {},
   "outputs": [
    {
     "name": "stdout",
     "output_type": "stream",
     "text": [
      "11.920033\n"
     ]
    }
   ],
   "source": [
    "x = tf.random_normal(shape=[300], mean=10, stddev=2.5)\n",
    "y = tf.random_normal(shape=[300], mean=10, stddev=2.5)\n",
    "\n",
    "average = tf.reduce_mean(x - y)\n",
    "\n",
    "def mse():\n",
    "    return tf.reduce_mean(tf.square(x - y))\n",
    "\n",
    "def abse():\n",
    "    return tf.reduce_sum(tf.abs(x - y))\n",
    "\n",
    "out = tf.cond(average < 0, true_fn=mse, false_fn=abse)\n",
    "\n",
    "with tf.Session() as sess:\n",
    "    print(sess.run(out))"
   ]
  },
  {
   "cell_type": "code",
   "execution_count": null,
   "metadata": {},
   "outputs": [],
   "source": []
  }
 ],
 "metadata": {
  "kernelspec": {
   "display_name": "Python 3",
   "language": "python",
   "name": "python3"
  },
  "language_info": {
   "codemirror_mode": {
    "name": "ipython",
    "version": 3
   },
   "file_extension": ".py",
   "mimetype": "text/x-python",
   "name": "python",
   "nbconvert_exporter": "python",
   "pygments_lexer": "ipython3",
   "version": "3.6.5"
  }
 },
 "nbformat": 4,
 "nbformat_minor": 2
}
