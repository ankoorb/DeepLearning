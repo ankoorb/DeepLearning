{
 "cells": [
  {
   "cell_type": "code",
   "execution_count": 1,
   "metadata": {},
   "outputs": [],
   "source": [
    "# Imports\n",
    "\n",
    "import os\n",
    "os.environ['TF_CPP_MIN_LOG_LEVEL']='2' # Avoid TF warning messages\n",
    "\n",
    "import tensorflow as tf"
   ]
  },
  {
   "cell_type": "code",
   "execution_count": 2,
   "metadata": {},
   "outputs": [
    {
     "name": "stdout",
     "output_type": "stream",
     "text": [
      "5\n"
     ]
    }
   ],
   "source": [
    "# Simple Graph\n",
    "a = tf.constant(2)\n",
    "b = tf.constant(3)\n",
    "x = tf.add(a, b)\n",
    "\n",
    "with tf.Session() as sess:\n",
    "    print sess.run(x)"
   ]
  },
  {
   "cell_type": "markdown",
   "metadata": {},
   "source": [
    "**Visualize with TensorBoard**\n",
    "- Create the summary writer after graph definition and before running session\n",
    "\n",
    "```bash\n",
    "source ~/TensorFlow/bin/activate\n",
    "cd TensorFlow/notebooks/\n",
    "tensorboard --logdir=\"./graphs\" --port 6006\n",
    "```\n",
    "\n",
    "Then open browser and go to: `http://localhost:6006/`"
   ]
  },
  {
   "cell_type": "code",
   "execution_count": 3,
   "metadata": {},
   "outputs": [
    {
     "name": "stdout",
     "output_type": "stream",
     "text": [
      "5\n",
      "Tensor(\"Const_2:0\", shape=(), dtype=int32) Tensor(\"Const_3:0\", shape=(), dtype=int32) Tensor(\"Add_1:0\", shape=(), dtype=int32)\n"
     ]
    }
   ],
   "source": [
    "# Visualize Simple Graph with TensorBoard: Summary Filewriter inside session\n",
    "a = tf.constant(2)\n",
    "b = tf.constant(3)\n",
    "x = tf.add(a, b)\n",
    "\n",
    "with tf.Session() as sess:\n",
    "    \n",
    "    # Create 'summary' writer after graph definition and before running session\n",
    "    writer = tf.summary.FileWriter('./graphs', sess.graph) # \n",
    "    \n",
    "    # Run session\n",
    "    print sess.run(x)\n",
    "\n",
    "# Close writer\n",
    "writer.close()\n",
    "print a, b, x"
   ]
  },
  {
   "cell_type": "code",
   "execution_count": 4,
   "metadata": {},
   "outputs": [
    {
     "name": "stdout",
     "output_type": "stream",
     "text": [
      "5\n",
      "Tensor(\"Const_4:0\", shape=(), dtype=int32) Tensor(\"Const_5:0\", shape=(), dtype=int32) Tensor(\"Add_2:0\", shape=(), dtype=int32)\n"
     ]
    }
   ],
   "source": [
    "# Visualize Simple Graph with TensorBoard: Summary Filewriter outside session\n",
    "a = tf.constant(2)\n",
    "b = tf.constant(3)\n",
    "x = tf.add(a, b)\n",
    "\n",
    "writer = tf.summary.FileWriter('./graphs', tf.get_default_graph())\n",
    "with tf.Session() as sess:\n",
    "    \n",
    "    # Run session\n",
    "    print sess.run(x)\n",
    "\n",
    "# Close writer\n",
    "writer.close()\n",
    "print a, b, x"
   ]
  },
  {
   "cell_type": "markdown",
   "metadata": {},
   "source": [
    "**Explicitly Naming Nodes**"
   ]
  },
  {
   "cell_type": "code",
   "execution_count": 5,
   "metadata": {},
   "outputs": [
    {
     "name": "stdout",
     "output_type": "stream",
     "text": [
      "5\n",
      "Tensor(\"a:0\", shape=(), dtype=int32) Tensor(\"b:0\", shape=(), dtype=int32) Tensor(\"add:0\", shape=(), dtype=int32)\n"
     ]
    }
   ],
   "source": [
    "# Naming nodes\n",
    "a = tf.constant(2, name='a')\n",
    "b = tf.constant(3, name='b')\n",
    "x = tf.add(a, b, name='add')\n",
    "\n",
    "with tf.Session() as sess:\n",
    "    \n",
    "    # Create 'summary' writer after graph definition and before running session\n",
    "    writer = tf.summary.FileWriter('./graphs', sess.graph)\n",
    "    \n",
    "    # Run session\n",
    "    print sess.run(x)\n",
    "\n",
    "# Close writer\n",
    "writer.close()\n",
    "print a, b, x"
   ]
  },
  {
   "cell_type": "markdown",
   "metadata": {},
   "source": [
    "#### Constant\n",
    "- A constant's value is stored in the graph\n",
    "```python\n",
    "tf.constant(value, dtype=None, shape=None, name='Const', verify_shape=False)\n",
    "```"
   ]
  },
  {
   "cell_type": "code",
   "execution_count": 6,
   "metadata": {},
   "outputs": [
    {
     "name": "stdout",
     "output_type": "stream",
     "text": [
      "[[2 3]\n",
      " [4 5]]\n",
      "[[0 2]\n",
      " [4 6]]\n"
     ]
    }
   ],
   "source": [
    "# Constant\n",
    "\n",
    "# Constant of 1D tensor (vector)\n",
    "a = tf.constant([2, 2], name='a')\n",
    "\n",
    "# Constant of 2x2 tensor (matrix)\n",
    "b = tf.constant([[0, 1], [2, 3]], name='b')\n",
    "x = tf.add(a, b, name='add')\n",
    "y = tf.multiply(a, b, name='mul')\n",
    "\n",
    "with tf.Session() as sess:\n",
    "    x, y = sess.run(fetches=[x, y])\n",
    "    print x\n",
    "    print y"
   ]
  },
  {
   "cell_type": "markdown",
   "metadata": {},
   "source": [
    "#### Tensors filled with a specific value\n",
    "\n",
    "```python\n",
    "# Create a tensor of shape and all elements are zeros\n",
    "tf.zeros(shape, dtype=tf.int32, name=None)\n",
    "\n",
    "# Create a tensor of shape and type as the input_tensor but all elements are zeros\n",
    "tf.zeros_like(input_tensor, dtype=tf.float32, name=None, optimize=True)\n",
    "\n",
    "# Create a tensor of shape and all elements are ones\n",
    "tf.ones(shape, dtype=tf.int32, name=None)\n",
    "\n",
    "# Create a tensor of shape and type as the input_tensor but all elements are ones\n",
    "tf.ones_like(input_tensor, dtype=tf.float32, name=None, optimize=True)\n",
    "\n",
    "# create a tensor filled with a scalar value\n",
    "tf.fill(dims, value, name=None)\n",
    "```"
   ]
  },
  {
   "cell_type": "code",
   "execution_count": 7,
   "metadata": {},
   "outputs": [
    {
     "name": "stdout",
     "output_type": "stream",
     "text": [
      "[[0. 0. 0.]\n",
      " [0. 0. 0.]]\n",
      "[[0 0]\n",
      " [0 0]\n",
      " [0 0]]\n",
      "[[1 1 1]\n",
      " [1 1 1]]\n",
      "[[1 1]\n",
      " [1 1]\n",
      " [1 1]]\n",
      "[[3.14 3.14 3.14]\n",
      " [3.14 3.14 3.14]\n",
      " [3.14 3.14 3.14]]\n",
      "\n",
      "[array(['', '', ''], dtype=object)]\n",
      "\n",
      "[[False False]\n",
      " [False False]]\n",
      "[[ True  True]\n",
      " [ True  True]]\n"
     ]
    }
   ],
   "source": [
    "# Zeros\n",
    "z = tf.zeros([2, 3], dtype=tf.float32)\n",
    "\n",
    "# Zeros like\n",
    "input_tensor = [[0, 1], [2, 3], [4, 5]]\n",
    "zl = tf.zeros_like(input_tensor)\n",
    "\n",
    "# Ones\n",
    "o = tf.ones([2, 3], dtype=tf.int32)\n",
    "\n",
    "# Ones like\n",
    "ol = tf.ones_like(input_tensor)\n",
    "\n",
    "# Fill\n",
    "f = tf.fill([3, 3], 3.14)\n",
    "\n",
    "with tf.Session() as sess:\n",
    "    z, zl, o, ol, f = sess.run(fetches=[z, zl, o, ol, f])\n",
    "    print z\n",
    "    print zl\n",
    "    print o\n",
    "    print ol\n",
    "    print f\n",
    "    print \n",
    "    \n",
    "\n",
    "# Zeros like and ones like using string and bool\n",
    "s = ['apple', 'banana', 'mango']\n",
    "sz = tf.zeros_like(s)\n",
    "# so = tf.ones_like(s) # TypeError: Expected string, got 1 of type 'int' instead.\n",
    "\n",
    "with tf.Session() as sess:\n",
    "    sz = sess.run(fetches=[sz])\n",
    "    print sz\n",
    "    print\n",
    "    \n",
    "\n",
    "b = [[True, False],\n",
    "     [True, True]]\n",
    "\n",
    "bz = tf.zeros_like(b) # All elements are False\n",
    "bo = tf.ones_like(b) # All elements are True\n",
    "\n",
    "with tf.Session() as sess:\n",
    "    bz, bo = sess.run(fetches=[bz, bo])\n",
    "    print bz\n",
    "    print bo"
   ]
  },
  {
   "cell_type": "markdown",
   "metadata": {},
   "source": [
    "#### Constants as sequences\n",
    "\n",
    "```python\n",
    "# Return evenly spaced numbers over a specified interval\n",
    "tf.linspace(start, stop, num, name=None)\n",
    "\n",
    "# Range\n",
    "tf.range(start, limit=None, delta=1, dtype=None, name='range')\n",
    "\n",
    "# NOTE: Unlike NumPy or Python sequences, Tensor objects are not iterable (TypeError)\n",
    "```"
   ]
  },
  {
   "cell_type": "code",
   "execution_count": 8,
   "metadata": {},
   "outputs": [
    {
     "name": "stdout",
     "output_type": "stream",
     "text": [
      "[ 1.  8. 15.]\n",
      "[ 3  6  9 12 15]\n",
      "[0 2 4 6 8]\n"
     ]
    }
   ],
   "source": [
    "# Linspace\n",
    "ls = tf.linspace(start=1.0, stop=15.0, num=3)\n",
    "\n",
    "# Range\n",
    "r = tf.range(start=3, limit=18, delta=3)\n",
    "rl = tf.range(9, delta=2)\n",
    "\n",
    "with tf.Session() as sess:\n",
    "    ls, r, rl = sess.run(fetches=[ls, r, rl])\n",
    "    print ls\n",
    "    print r\n",
    "    print rl"
   ]
  },
  {
   "cell_type": "markdown",
   "metadata": {},
   "source": [
    "#### Randomly Generated Constants\n",
    "\n",
    "```python\n",
    "# Random Normal\n",
    "tf.random_normal(shape, mean=0.0, stddev=1.0, dtype=tf.float32, seed=None, name=None)\n",
    "\n",
    "# Random Truncated Normal: values with magnitude > 2 standard deviations from the mean are dropped and re-picked\n",
    "tf.truncated_normal(shape, mean=0.0, stddev=1.0, dtype=tf.float32, seed=None, name=None)\n",
    "\n",
    "# Random Uniform\n",
    "tf.random_uniform(shape, minval=0, maxval=None, dtype=tf.float32, seed=None, name=None)\n",
    "\n",
    "# Random Shuffle: Randomly shuffles a tensor along its first dimension\n",
    "tf.random_shuffle(value, seed=None, name=None)\n",
    "\n",
    "# Random Crop: Randomly crops a tensor to a given size\n",
    "tf.random_crop(value, size, seed=None, name=None)\n",
    "\n",
    "# Multinomial: Draws samples from a multinomial distribution\n",
    "tf.multinomial(logits, num_samples, seed=None, name=None)\n",
    "\n",
    "# Draws shape samples from each of the given Gamma distribution(s)\n",
    "tf.random_gamma(shape, alpha, beta=None, dtype=tf.float32, seed=None, name=None) \n",
    "\n",
    "# Set Random Seed\n",
    "tf.set_random_seed(seed)\n",
    "```"
   ]
  },
  {
   "cell_type": "code",
   "execution_count": 9,
   "metadata": {
    "scrolled": false
   },
   "outputs": [
    {
     "name": "stdout",
     "output_type": "stream",
     "text": [
      "[[-5.7712817  -1.6136539   0.26798758]]\n",
      "[[-3.1015658 -0.260984   2.8279536]]\n",
      "[[8.9   9.305 5.88 ]]\n",
      "[[0 1]\n",
      " [2 3]\n",
      " [4 5]] \n",
      "[[2 3]\n",
      " [4 5]\n",
      " [0 1]]\n",
      "[[2 3]]\n",
      "[[1 0 1 0 1]]\n",
      "[[[0.01468982 0.6943322 ]\n",
      "  [0.40348473 1.0148591 ]\n",
      "  [0.9756383  1.1467177 ]]]\n"
     ]
    }
   ],
   "source": [
    "# Random Normal\n",
    "rn = tf.random_normal(shape=[1, 3], mean=0.0, stddev=3.0, dtype=tf.float32)\n",
    "\n",
    "# Truncated Normal\n",
    "tn = tf.truncated_normal(shape=[1, 3], mean=0.0, stddev=3.0, dtype=tf.float32)\n",
    "\n",
    "# Random Uniform\n",
    "ru = tf.random_uniform(shape=[1, 3], maxval=10.0, dtype=tf.float16)\n",
    "\n",
    "# Random Shuffle\n",
    "x = tf.constant([[0, 1], [2, 3], [4, 5]], name='x')\n",
    "rs = tf.random_shuffle(value=x, seed=5)\n",
    "\n",
    "# Random Crop\n",
    "rc = tf.random_crop(value=x, size=[1, 2], seed=3)\n",
    "\n",
    "# Multinomial\n",
    "m = tf.multinomial(logits=tf.log([[10., 10.]]), num_samples=5)\n",
    "\n",
    "# Random Gamma\n",
    "rg = tf.random_gamma(shape=[1, 3], alpha=[0.5, 1.5])\n",
    "\n",
    "with tf.Session() as sess:\n",
    "    rn, tn, ru, x, rs, rc, m, rg = sess.run(fetches=[rn, tn, ru, x, rs, rc, m, rg])\n",
    "    print rn\n",
    "    print tn\n",
    "    print ru\n",
    "    print x, '\\n', rs\n",
    "    print rc\n",
    "    print m\n",
    "    print rg"
   ]
  },
  {
   "cell_type": "markdown",
   "metadata": {},
   "source": [
    "**Math Operations**"
   ]
  },
  {
   "cell_type": "code",
   "execution_count": 10,
   "metadata": {},
   "outputs": [
    {
     "name": "stdout",
     "output_type": "stream",
     "text": [
      "[5 8]\n",
      "[ 7 10]\n",
      "[ 6 12]\n",
      "[[18]]\n",
      "[1 3]\n",
      "[1 0]\n"
     ]
    }
   ],
   "source": [
    "# Constants\n",
    "a = tf.constant([3, 6])\n",
    "b = tf.constant([2, 2])\n",
    "\n",
    "# Add\n",
    "add = tf.add(a, b)\n",
    "\n",
    "# Add: Equivalent to a + b + b\n",
    "add_n = tf.add_n([a, b, b])\n",
    "\n",
    "# Multiply\n",
    "mul = tf.multiply(a, b)\n",
    "\n",
    "# Matrix Multiply\n",
    "# matmul = tf.matmul(a, b) # ValueError\n",
    "matmul = tf.matmul(tf.reshape(a, [1, 2]), tf.reshape(b, [2, 1]))\n",
    "\n",
    "# Division\n",
    "div = tf.div(a, b)\n",
    "\n",
    "# Mod\n",
    "mod = tf.mod(a, b)\n",
    "\n",
    "with tf.Session() as sess:\n",
    "    add, add_n, mul, matmul, div, mod = sess.run(fetches=[add, add_n, mul, matmul, div, mod])\n",
    "    print add\n",
    "    print add_n\n",
    "    print mul\n",
    "    print matmul\n",
    "    print div\n",
    "    print mod"
   ]
  },
  {
   "cell_type": "code",
   "execution_count": 11,
   "metadata": {
    "scrolled": false
   },
   "outputs": [
    {
     "name": "stdout",
     "output_type": "stream",
     "text": [
      "[[0 0]\n",
      " [1 1]]\n",
      "[[0.  0.5]\n",
      " [1.  1.5]]\n",
      "[[0.  0.5]\n",
      " [1.  1.5]]\n",
      "[[0 0]\n",
      " [1 1]]\n",
      "[[0 0]\n",
      " [1 1]]\n",
      "[[0 0]\n",
      " [1 1]]\n"
     ]
    }
   ],
   "source": [
    "# Div\n",
    "a = tf.constant([2, 2], name='a')\n",
    "b = tf.constant([[0, 1], [2, 3]], name='b')\n",
    "\n",
    "with tf.Session() as sess:\n",
    "    print(sess.run(tf.div(b, a)))\n",
    "    print(sess.run(tf.divide(b, a)))\n",
    "    print(sess.run(tf.truediv(b, a)))\n",
    "    print(sess.run(tf.floordiv(b, a)))\n",
    "    # print(sess.run(tf.realdiv(b, a))) # Error: Only works for real values\n",
    "    print(sess.run(tf.truncatediv(b, a)))\n",
    "    print(sess.run(tf.floor_div(b, a)))"
   ]
  },
  {
   "cell_type": "markdown",
   "metadata": {},
   "source": [
    "`tf.matmul` no longer does dot product. It multiplies matrices of ranks greater or equal to 2. Use `tf.tensordot` to do dot product"
   ]
  },
  {
   "cell_type": "code",
   "execution_count": 12,
   "metadata": {},
   "outputs": [
    {
     "name": "stdout",
     "output_type": "stream",
     "text": [
      "[20 60]\n",
      "80\n"
     ]
    }
   ],
   "source": [
    "# Dot Product\n",
    "a = tf.constant([10, 20], name='a')\n",
    "b = tf.constant([2, 3], name='b')\n",
    "\n",
    "with tf.Session() as sess:\n",
    "    print(sess.run(tf.multiply(a, b)))\n",
    "    # print(sess.run(tf.matmul(a, b))) # ValueError\n",
    "    print(sess.run(tf.tensordot(a, b, axes=1)))"
   ]
  },
  {
   "cell_type": "markdown",
   "metadata": {},
   "source": [
    "- **Do not use Python native types for tensors because TensorFlow has to infer Python type**\n",
    "- Constants are stored in the graph definition - **this makes loading graphs expensive when constants are big**\n",
    "- Only use constants for primitive types. Use `variables` or readers for more data that requires more memory\n",
    "- NOTE: `tf.Session.run()` output will be a NumPy array"
   ]
  },
  {
   "cell_type": "code",
   "execution_count": 13,
   "metadata": {},
   "outputs": [
    {
     "name": "stdout",
     "output_type": "stream",
     "text": [
      "1\n",
      "['' '' '']\n",
      "[[ True  True]\n",
      " [ True  True]]\n"
     ]
    }
   ],
   "source": [
    "# Treated as 0-D tensor (scalar)\n",
    "t_0 = 19\n",
    "a = tf.ones_like(t_0)\n",
    "\n",
    "# Treated as 1-D tensor (vector)\n",
    "t_1 = [b'apple', b'peach', b'grape']\n",
    "b = tf.zeros_like(t_1) # tf.ones_like returns TypeError\n",
    "\n",
    "# Treated as 2-D tensor (matrix)\n",
    "t_2 = [[True, False],\n",
    "       [False, True]]\n",
    "c = tf.ones_like(t_2)\n",
    "\n",
    "with tf.Session() as sess:\n",
    "    print(sess.run(a))\n",
    "    print(sess.run(b))\n",
    "    print(sess.run(c))"
   ]
  },
  {
   "cell_type": "markdown",
   "metadata": {},
   "source": [
    "NOTE: you will see value of `constant` stored in the graph’s definition - This makes loading graphs expensive when constants are big"
   ]
  },
  {
   "cell_type": "code",
   "execution_count": 14,
   "metadata": {
    "scrolled": true
   },
   "outputs": [
    {
     "name": "stdout",
     "output_type": "stream",
     "text": [
      "\n"
     ]
    }
   ],
   "source": [
    "# Print graph definition to check s are stored in graph definition\n",
    "constant = tf.constant([1.5, 3.14], name=\"constant\")\n",
    "\n",
    "with tf.Session() as sess:\n",
    "    print \n",
    "#     print sess.graph.as_graph_def()\n",
    "\n",
    "# NOTE: you will see value of `constant` stored in the graph’s definition - This makes loading\n",
    "# graphs expensive when constants are big"
   ]
  },
  {
   "cell_type": "markdown",
   "metadata": {},
   "source": [
    "**Variables**\n",
    "- `tf.constant` is an operation\n",
    "- `tf.Variable` is a class with multiple operations\n",
    "```python\n",
    "x = tf.Variable(...)\n",
    "x.initializer # Initialize\n",
    "x.value() # Read operation\n",
    "x.assign() # Write operation\n",
    "# and more\n",
    "```\n",
    "\n",
    "- `tf.Variable` holds several operations, e.g. `x = tf.Variable(...)`\n",
    "    - `x.initializer` - Initializer operation for variable x\n",
    "    - `x.read()` - Returns last snapshot of variable x\n",
    "    - `x.assign(...)` - Assigns a new value to variable x\n",
    "    - `x.assign_add(...)` - Adds a value to variable x\n",
    "\n",
    "\n",
    "- **Old way to create a variable: `tf.Variable(<initial-value>, name=<optional-name>)`. However the old way is discouraged and use of `tf.get_variable(...)` is encouraged because it allows for easy variable sharing**\n",
    "- **`Need to initialize variables`** before using them"
   ]
  },
  {
   "cell_type": "code",
   "execution_count": 15,
   "metadata": {},
   "outputs": [
    {
     "name": "stdout",
     "output_type": "stream",
     "text": [
      "2.0\n",
      "[1 2 3]\n",
      "[[1 2 3]\n",
      " [4 5 6]]\n",
      "[[0 0 0]\n",
      " [0 0 0]]\n"
     ]
    }
   ],
   "source": [
    "## OLD\n",
    "\n",
    "# Variable with a scalar value\n",
    "a = tf.Variable(2.0, name='scalar')\n",
    "\n",
    "# Variable as a vector\n",
    "b = tf.Variable([1, 2, 3], name='vector')\n",
    "\n",
    "# Variable as a matrix\n",
    "c = tf.Variable([[1, 2, 3], [4, 5, 6]], name='matrix')\n",
    "\n",
    "# Variable as tensor filled with zeros (with dtype = int32)\n",
    "d = tf.Variable(tf.zeros(shape=[2, 3], dtype=tf.int32), dtype=tf.int32)\n",
    "\n",
    "# Initialize all variables at once\n",
    "init = tf.global_variables_initializer()\n",
    "\n",
    "with tf.Session() as sess:\n",
    "    sess.run(init)\n",
    "    a, b, c, d = sess.run(fetches=[a, b, c, d])\n",
    "    print a\n",
    "    print b\n",
    "    print c\n",
    "    print d"
   ]
  },
  {
   "cell_type": "code",
   "execution_count": 16,
   "metadata": {},
   "outputs": [
    {
     "name": "stdout",
     "output_type": "stream",
     "text": [
      "2.0\n",
      "[1 2 3]\n"
     ]
    }
   ],
   "source": [
    "# Initialize sub-set of variables\n",
    "\n",
    "# Variable with a scalar value\n",
    "a = tf.Variable(2.0, name='scalar')\n",
    "\n",
    "# Variable as a vector\n",
    "b = tf.Variable([1, 2, 3], name='vector')\n",
    "\n",
    "# Variable as a matrix\n",
    "c = tf.Variable([[1, 2, 3], [4, 5, 6]], name='matrix')\n",
    "\n",
    "init_ab = tf.variables_initializer([a, b], name='init_ab')\n",
    "\n",
    "with tf.Session() as sess:\n",
    "    sess.run(init_ab)\n",
    "    x, y = sess.run(fetches=[a, b])\n",
    "    print x\n",
    "    print y"
   ]
  },
  {
   "cell_type": "code",
   "execution_count": 17,
   "metadata": {},
   "outputs": [
    {
     "name": "stdout",
     "output_type": "stream",
     "text": [
      "[array([[1, 2, 3],\n",
      "       [4, 5, 6]], dtype=int32)]\n"
     ]
    }
   ],
   "source": [
    "# Initialize a single variable\n",
    "W = tf.Variable([[1, 2, 3], [4, 5, 6]], name='w')\n",
    "\n",
    "with tf.Session() as sess:\n",
    "    sess.run(W.initializer)\n",
    "    w = sess.run(fetches=[W])\n",
    "    print w"
   ]
  },
  {
   "cell_type": "code",
   "execution_count": 18,
   "metadata": {},
   "outputs": [
    {
     "name": "stdout",
     "output_type": "stream",
     "text": [
      "Without eval(): \n",
      "<tf.Variable 'Variable_1:0' shape=(3, 4) dtype=float32_ref>\n",
      "\n",
      "With eval(): \n",
      "[[-0.82705754 -0.8364552  -0.23719323 -0.24641643]\n",
      " [ 0.742202    0.81145614 -0.8818793  -0.5014315 ]\n",
      " [ 0.21253167 -1.8766396  -0.09812596  0.31320867]]\n"
     ]
    }
   ],
   "source": [
    "# eval() a variable\n",
    "W = tf.Variable(tf.truncated_normal([3, 4]))\n",
    "\n",
    "with tf.Session() as sess:\n",
    "    sess.run(W.initializer)\n",
    "    print 'Without eval(): \\n', W\n",
    "    print\n",
    "    print 'With eval(): \\n', W.eval()"
   ]
  },
  {
   "cell_type": "code",
   "execution_count": 19,
   "metadata": {},
   "outputs": [
    {
     "name": "stdout",
     "output_type": "stream",
     "text": [
      "10\n"
     ]
    }
   ],
   "source": [
    "# tf.Variable.assign()\n",
    "W = tf.Variable(10)\n",
    "\n",
    "W.assign(100)\n",
    "with tf.Session() as sess:\n",
    "    sess.run(W.initializer)\n",
    "    print W.eval() # Returns: 10 but we assigned 100!"
   ]
  },
  {
   "cell_type": "markdown",
   "metadata": {},
   "source": [
    "# New Way: `tf.get_variable(...)`"
   ]
  },
  {
   "cell_type": "code",
   "execution_count": 20,
   "metadata": {},
   "outputs": [],
   "source": [
    "# NEW\n",
    "s = tf.get_variable('scalar', initializer=tf.constant(2))\n",
    "m = tf.get_variable('matrix', initializer=tf.constant([[0, 1], [2, 3]]))\n",
    "W = tf.get_variable('big_matrix', shape=(3, 4), initializer=tf.zeros_initializer())"
   ]
  },
  {
   "cell_type": "code",
   "execution_count": 21,
   "metadata": {},
   "outputs": [
    {
     "name": "stdout",
     "output_type": "stream",
     "text": [
      "['scalar' 'vector' 'matrix' 'Variable' 'scalar_1' 'vector_1' 'matrix_1'\n",
      " 'w' 'Variable_1' 'Variable_2' 'scalar_2' 'matrix_2' 'big_matrix']\n"
     ]
    }
   ],
   "source": [
    "# Get a list of uninitialized variables\n",
    "with tf.Session() as sess:\n",
    "    print(sess.run(tf.report_uninitialized_variables()))"
   ]
  },
  {
   "cell_type": "code",
   "execution_count": 22,
   "metadata": {},
   "outputs": [
    {
     "name": "stdout",
     "output_type": "stream",
     "text": [
      "2\n",
      "[[0 1]\n",
      " [2 3]]\n"
     ]
    }
   ],
   "source": [
    "# Initialize only a subset of variables\n",
    "with tf.Session() as sess:\n",
    "    sess.run(tf.variables_initializer([s, m]))\n",
    "    print(sess.run(s))\n",
    "    print(sess.run(m))"
   ]
  },
  {
   "cell_type": "code",
   "execution_count": 23,
   "metadata": {},
   "outputs": [
    {
     "name": "stdout",
     "output_type": "stream",
     "text": [
      "2\n",
      "[[0 1]\n",
      " [2 3]]\n",
      "[[0. 0. 0. 0.]\n",
      " [0. 0. 0. 0.]\n",
      " [0. 0. 0. 0.]]\n"
     ]
    }
   ],
   "source": [
    "# Initialize all variables at once\n",
    "with tf.Session() as sess:\n",
    "    sess.run(tf.global_variables_initializer())\n",
    "    print(sess.run(s))\n",
    "    print(sess.run(m))\n",
    "    print(sess.run(W))"
   ]
  },
  {
   "cell_type": "code",
   "execution_count": 24,
   "metadata": {},
   "outputs": [
    {
     "name": "stdout",
     "output_type": "stream",
     "text": [
      "[[0. 0. 0. 0.]\n",
      " [0. 0. 0. 0.]\n",
      " [0. 0. 0. 0.]]\n"
     ]
    }
   ],
   "source": [
    "# Initialize variable separately\n",
    "with tf.Session() as sess:\n",
    "    sess.run(W.initializer)\n",
    "    print(sess.run(W))"
   ]
  },
  {
   "cell_type": "code",
   "execution_count": 25,
   "metadata": {},
   "outputs": [
    {
     "name": "stdout",
     "output_type": "stream",
     "text": [
      "[[0. 0. 0. 0.]\n",
      " [0. 0. 0. 0.]\n",
      " [0. 0. 0. 0.]]\n"
     ]
    }
   ],
   "source": [
    "# Get variable's value\n",
    "with tf.Session() as sess:\n",
    "    sess.run(tf.global_variables_initializer())\n",
    "    print(W.eval())"
   ]
  },
  {
   "cell_type": "code",
   "execution_count": 26,
   "metadata": {},
   "outputs": [
    {
     "name": "stdout",
     "output_type": "stream",
     "text": [
      "100\n"
     ]
    }
   ],
   "source": [
    "# W.assign(100) does not assign the value 100 to W. It creates an assign op, \n",
    "# and that op needs to be run to take effect.\n",
    "\n",
    "W = tf.Variable(10)\n",
    "\n",
    "assign_op = W.assign(100)\n",
    "with tf.Session() as sess:\n",
    "    # sess.run(W.initializer) # No need to initialize variable because assign_op does it\n",
    "    sess.run(assign_op)\n",
    "    print W.eval() # Returns: 100"
   ]
  },
  {
   "cell_type": "code",
   "execution_count": 27,
   "metadata": {},
   "outputs": [
    {
     "name": "stdout",
     "output_type": "stream",
     "text": [
      "4\n"
     ]
    }
   ],
   "source": [
    "# tf.Variable.assign()\n",
    "\n",
    "tf.reset_default_graph()\n",
    "\n",
    "a = tf.get_variable('a', initializer=tf.constant(2))\n",
    "a_x_2 = a.assign(2 * a) # assign a * 2 to a and call this operation a_x_2\n",
    "\n",
    "with tf.Session() as sess:\n",
    "    sess.run(a.initializer)\n",
    "    print sess.run(a_x_2)"
   ]
  },
  {
   "cell_type": "code",
   "execution_count": 28,
   "metadata": {},
   "outputs": [
    {
     "name": "stdout",
     "output_type": "stream",
     "text": [
      "4\n",
      "8\n"
     ]
    }
   ],
   "source": [
    "# tf.Variable.assign()\n",
    "\n",
    "tf.reset_default_graph()\n",
    "\n",
    "a = tf.get_variable('a', initializer=tf.constant(2))\n",
    "a_x_2 = a.assign(2 * a)\n",
    "\n",
    "with tf.Session() as sess:\n",
    "    sess.run(a.initializer)\n",
    "    print sess.run(a_x_2)\n",
    "    print sess.run(a_x_2) # a * 2 is assigned to a every time a_x_2 is fetched"
   ]
  },
  {
   "cell_type": "code",
   "execution_count": 29,
   "metadata": {},
   "outputs": [
    {
     "name": "stdout",
     "output_type": "stream",
     "text": [
      "4\n",
      "8\n",
      "16\n"
     ]
    }
   ],
   "source": [
    "# tf.Variable.assign()\n",
    "\n",
    "tf.reset_default_graph()\n",
    "\n",
    "a = tf.get_variable('a', initializer=tf.constant(2))\n",
    "a_x_2 = a.assign(2 * a)\n",
    "\n",
    "with tf.Session() as sess:\n",
    "    sess.run(a.initializer)\n",
    "    print sess.run(a_x_2)\n",
    "    print sess.run(a_x_2)\n",
    "    print sess.run(a_x_2)"
   ]
  },
  {
   "cell_type": "code",
   "execution_count": 30,
   "metadata": {},
   "outputs": [
    {
     "name": "stdout",
     "output_type": "stream",
     "text": [
      "20\n",
      "16\n"
     ]
    }
   ],
   "source": [
    "# tf.Variable.assign_add() and tf.Variable.assign_sub()\n",
    "\n",
    "a = tf.Variable(10)\n",
    "\n",
    "with tf.Session() as sess:\n",
    "    # Initialize variable a\n",
    "    sess.run(a.initializer)\n",
    "    \n",
    "    # Increment by 10\n",
    "    sess.run(a.assign_add(10))\n",
    "    print a.eval()\n",
    "    \n",
    "    # Decrement by 10\n",
    "    sess.run(a.assign_sub(4))\n",
    "    print a.eval()\n",
    "    \n",
    "# NOTE: assign_add() and assign_sub() cant initialize variable a because\n",
    "# these operations need the original value of a"
   ]
  },
  {
   "cell_type": "code",
   "execution_count": 31,
   "metadata": {},
   "outputs": [
    {
     "name": "stdout",
     "output_type": "stream",
     "text": [
      "Session-1 W:  20\n",
      "Session-2 W:  8\n"
     ]
    }
   ],
   "source": [
    "# Each session maintains its own copy of variable\n",
    "W = tf.Variable(10)\n",
    "\n",
    "with tf.Session() as sess1:\n",
    "    sess1.run(W.initializer)\n",
    "    sess1.run(W.assign_add(10))\n",
    "    print 'Session-1 W: ', W.eval()\n",
    "    \n",
    "with tf.Session() as sess2:\n",
    "    sess2.run(W.initializer)\n",
    "    sess2.run(W.assign_sub(2))\n",
    "    print 'Session-2 W: ', W.eval()"
   ]
  },
  {
   "cell_type": "code",
   "execution_count": 32,
   "metadata": {},
   "outputs": [
    {
     "name": "stdout",
     "output_type": "stream",
     "text": [
      "[[ 0.95741385 -3.835653    2.8480554  -0.48037145]\n",
      " [-0.27191997 -0.8774682   1.1555811   1.0937985 ]\n",
      " [ 1.3925575   0.36849758 -1.1364259   1.3934553 ]]\n"
     ]
    }
   ],
   "source": [
    "# Use a variable to initialize another variable\n",
    "\n",
    "W = tf.Variable(tf.truncated_normal([3, 4]))\n",
    "U = tf.Variable(2 * W)\n",
    "\n",
    "with tf.Session() as sess:\n",
    "    sess.run(U.initializer)\n",
    "    print U.eval()\n",
    "    \n",
    "# NOTE: This is not so safe"
   ]
  },
  {
   "cell_type": "code",
   "execution_count": 33,
   "metadata": {},
   "outputs": [
    {
     "name": "stdout",
     "output_type": "stream",
     "text": [
      "[[-2.1318662  -0.14832701  2.1263435   3.1958468 ]\n",
      " [-1.2384382   0.8329352  -0.30067134 -0.5858361 ]\n",
      " [ 0.8151971   0.81219125  0.73745626  1.3220427 ]]\n"
     ]
    }
   ],
   "source": [
    "# Use a variable to initialize another variable (Safer)\n",
    "\n",
    "W = tf.Variable(tf.truncated_normal([3, 4]))\n",
    "U = tf.Variable(2 * W.initialized_value())\n",
    "\n",
    "with tf.Session() as sess:\n",
    "    sess.run(U.initializer)\n",
    "    print U.eval()"
   ]
  },
  {
   "cell_type": "markdown",
   "metadata": {},
   "source": [
    "**Interactive Session** - It makes itself default session so `run()` or `eval()` can be called without explicitly calling the session. Convenient in IPython notebooks. However, it is complicated when there are multiple sessions to run"
   ]
  },
  {
   "cell_type": "code",
   "execution_count": 34,
   "metadata": {},
   "outputs": [
    {
     "name": "stdout",
     "output_type": "stream",
     "text": [
      "15.0\n"
     ]
    }
   ],
   "source": [
    "# Session vs InteractiveSession\n",
    "sess = tf.InteractiveSession()\n",
    "\n",
    "a = tf.constant(5.0)\n",
    "b = tf.constant(3.0)\n",
    "c = a * b\n",
    "print c.eval()\n",
    "\n",
    "sess.close()"
   ]
  },
  {
   "cell_type": "markdown",
   "metadata": {},
   "source": [
    "**Control Dependencies** - Defines which `operations` should be run first using `tf.Graph.control_dependencies(control_inputs)`\n",
    "\n",
    "If graph `g` has 5 operations: a, b, c, d, e\n",
    "```python\n",
    "with g.control_dependencies([a, b, c]):\n",
    "    # `d` and `e` will only run after `a`, `b`, and `c` have executed.\n",
    "    d = ...\n",
    "    e = ...\n",
    "```"
   ]
  },
  {
   "cell_type": "markdown",
   "metadata": {},
   "source": [
    "### Old Way \n",
    "**Placeholder** + `feed_dict` (Easy to use but poor performance)\n",
    "\n",
    "A TensorFlow program often has 2 phases:\n",
    "\n",
    "1. Assemble a graph\n",
    "2. Use a session to execute operations in the graph\n",
    "\n",
    "NOTE: Graph can be assembled first without knowing the values needed for computation. Analogy: $f(x, y) = x^2 + y$ can be defined without knowing the value of $x$ or $y$. \n",
    "\n",
    "`x , y` are placeholders for the actual values. The values can later be supplied when computation needs to be executed.\n",
    "\n",
    "`tf.placeholder(dtype, shape=None, name=None)` where `shape=None` means that tensor of any shape will be accepted as value for placeholder. NOTE: `shape=None` is easy to use but nightmarish for debugging, and using it also breaks all following shape inference, which makes many operations not work because they expect certain rank."
   ]
  },
  {
   "cell_type": "code",
   "execution_count": 56,
   "metadata": {},
   "outputs": [
    {
     "name": "stdout",
     "output_type": "stream",
     "text": [
      "\n"
     ]
    }
   ],
   "source": [
    "# Create a placeholder of type float 32 bit, shape is a vector of 3 elements\n",
    "a = tf.placeholder(tf.float32, shape=[3])\n",
    "\n",
    "# Create a constant of type float 32 bit, shape is a vector of 3 elements\n",
    "b = tf.constant([5, 5, 5], dtype=tf.float32)\n",
    "\n",
    "c = tf.add(a, b)\n",
    "\n",
    "with tf.Session() as sess:\n",
    "#     print sess.run(c) # Error because placeholder does not have any value\n",
    "    print"
   ]
  },
  {
   "cell_type": "code",
   "execution_count": 57,
   "metadata": {},
   "outputs": [
    {
     "name": "stdout",
     "output_type": "stream",
     "text": [
      "[ 6.  7.  8.]\n"
     ]
    }
   ],
   "source": [
    "# Feed the values to a placeholder using a dictionary\n",
    "with tf.Session() as sess:\n",
    "    # Feed [1, 2, 3] to placeholder via dict {a: [1, 2, 3]}\n",
    "    print sess.run(c, feed_dict={a: [1, 2, 3]})"
   ]
  },
  {
   "cell_type": "code",
   "execution_count": 58,
   "metadata": {},
   "outputs": [
    {
     "name": "stdout",
     "output_type": "stream",
     "text": [
      "[ 6.  7.  8.]\n",
      "[  9.  10.  11.]\n",
      "[ 12.  13.  14.]\n"
     ]
    }
   ],
   "source": [
    "# Feeding multiple data points \n",
    "\n",
    "list_a = [[1, 2, 3], [4, 5, 6], [7, 8, 9]]\n",
    "\n",
    "with tf.Session() as sess:\n",
    "    for a_value in list_a:\n",
    "        print sess.run(c, feed_dict={a: a_value})"
   ]
  },
  {
   "cell_type": "code",
   "execution_count": 59,
   "metadata": {},
   "outputs": [
    {
     "name": "stdout",
     "output_type": "stream",
     "text": [
      "45\n"
     ]
    }
   ],
   "source": [
    "# Feeding values to TF operations\n",
    "\n",
    "# Creaete operations, tensors, etc\n",
    "a = tf.add(2, 5)\n",
    "b = tf.multiply(a, 3)\n",
    "\n",
    "with tf.Session() as sess:\n",
    "    replace_dict = {a: 15} # To replace value of a\n",
    "    print sess.run(b, feed_dict=replace_dict)"
   ]
  },
  {
   "cell_type": "markdown",
   "metadata": {},
   "source": [
    "**Check if a tensor is feedable or feetchable**\n",
    "\n",
    "`tf.Graph.is_feedable(tensor)` or `tf.Graph.is_fetchable(tensor)`"
   ]
  },
  {
   "cell_type": "markdown",
   "metadata": {},
   "source": [
    "### Lazy Loading (avoid as it is disadvantageous)\n",
    "- Defer creating/initializing an object until it is needed\n",
    "- To avoid this separate the definition of operations and their execution when possible. When it is not possible group related operations into classes and use Python property to ensure function is only loaded once when it is first called.\n",
    "- [Defining the computation graph](https://danijar.com/structuring-your-tensorflow-models/)"
   ]
  },
  {
   "cell_type": "code",
   "execution_count": 60,
   "metadata": {},
   "outputs": [],
   "source": [
    "import tensorflow as tf\n",
    "\n",
    "# Normal loading\n",
    "x = tf.Variable(10, name='x')\n",
    "y = tf.Variable(20, name='y')\n",
    "z = tf.add(x, y) # Create the \"add\" node before executing the graph\n",
    "\n",
    "with tf.Session() as sess:\n",
    "    sess.run(tf.global_variables_initializer())\n",
    "    writer = tf.summary.FileWriter('./normal_loading', sess.graph)\n",
    "    for _ in range(10):\n",
    "        sess.run(z)\n",
    "    writer.close()"
   ]
  },
  {
   "cell_type": "code",
   "execution_count": 61,
   "metadata": {
    "scrolled": false
   },
   "outputs": [],
   "source": [
    "# Check graph definition\n",
    "# tf.get_default_graph().as_graph_def()"
   ]
  },
  {
   "cell_type": "markdown",
   "metadata": {},
   "source": [
    "**Normal** loading - Node `Add` added once to the graph definition\n",
    "```\n",
    "node {\n",
    "  name: \"Add\"\n",
    "  op: \"Add\"\n",
    "  input: \"x/read\"\n",
    "  input: \"y/read\"\n",
    "  attr {\n",
    "    key: \"T\"\n",
    "    value {\n",
    "      type: DT_INT32\n",
    "    }\n",
    "  }\n",
    "}\n",
    "```"
   ]
  },
  {
   "cell_type": "code",
   "execution_count": 62,
   "metadata": {},
   "outputs": [],
   "source": [
    "# Lazy loading\n",
    "x = tf.Variable(10, name='x')\n",
    "y = tf.Variable(20, name='y')\n",
    "\n",
    "with tf.Session() as sess:\n",
    "    sess.run(tf.global_variables_initializer())\n",
    "    writer = tf.summary.FileWriter('./lazy_loading', sess.graph)\n",
    "    for _ in range(10):\n",
    "        sess.run(tf.add(x, y)) # Saving 1 line of code\n",
    "    writer.close()"
   ]
  },
  {
   "cell_type": "code",
   "execution_count": 64,
   "metadata": {
    "scrolled": false
   },
   "outputs": [],
   "source": [
    "# Check graph definition\n",
    "# tf.get_default_graph().as_graph_def()"
   ]
  },
  {
   "cell_type": "markdown",
   "metadata": {},
   "source": [
    "**Lazy** loading - Node `Add` added 10 times to the graph for above example (i.e. as many times as z is computed). Imagine computing an operation e.g. ReLU a thousand times - This makes graph bloated and slow to load, thus expensive to pass around.\n",
    "```\n",
    "node {\n",
    "  name: \"Add_1\"\n",
    "  op: \"Add\"\n",
    "  input: \"x_1/read\"\n",
    "  input: \"y_1/read\"\n",
    "  attr {\n",
    "    key: \"T\"\n",
    "    value {\n",
    "      type: DT_INT32\n",
    "    }\n",
    "  }\n",
    "}\n",
    "node {\n",
    "  name: \"Add_2\"\n",
    "  op: \"Add\"\n",
    "  input: \"x_1/read\"\n",
    "  input: \"y_1/read\"\n",
    "  attr {\n",
    "    key: \"T\"\n",
    "    value {\n",
    "      type: DT_INT32\n",
    "    }\n",
    "  }\n",
    "}\n",
    "node {\n",
    "  name: \"Add_3\"\n",
    "  op: \"Add\"\n",
    "  input: \"x_1/read\"\n",
    "  input: \"y_1/read\"\n",
    "  attr {\n",
    "    key: \"T\"\n",
    "    value {\n",
    "      type: DT_INT32\n",
    "    }\n",
    "  }\n",
    "}\n",
    "node {\n",
    "  name: \"Add_4\"\n",
    "  op: \"Add\"\n",
    "  input: \"x_1/read\"\n",
    "  input: \"y_1/read\"\n",
    "  attr {\n",
    "    key: \"T\"\n",
    "    value {\n",
    "      type: DT_INT32\n",
    "    }\n",
    "  }\n",
    "}\n",
    "node {\n",
    "  name: \"Add_5\"\n",
    "  op: \"Add\"\n",
    "  input: \"x_1/read\"\n",
    "  input: \"y_1/read\"\n",
    "  attr {\n",
    "    key: \"T\"\n",
    "    value {\n",
    "      type: DT_INT32\n",
    "    }\n",
    "  }\n",
    "}\n",
    "node {\n",
    "  name: \"Add_6\"\n",
    "  op: \"Add\"\n",
    "  input: \"x_1/read\"\n",
    "  input: \"y_1/read\"\n",
    "  attr {\n",
    "    key: \"T\"\n",
    "    value {\n",
    "      type: DT_INT32\n",
    "    }\n",
    "  }\n",
    "}\n",
    "node {\n",
    "  name: \"Add_7\"\n",
    "  op: \"Add\"\n",
    "  input: \"x_1/read\"\n",
    "  input: \"y_1/read\"\n",
    "  attr {\n",
    "    key: \"T\"\n",
    "    value {\n",
    "      type: DT_INT32\n",
    "    }\n",
    "  }\n",
    "}\n",
    "node {\n",
    "  name: \"Add_8\"\n",
    "  op: \"Add\"\n",
    "  input: \"x_1/read\"\n",
    "  input: \"y_1/read\"\n",
    "  attr {\n",
    "    key: \"T\"\n",
    "    value {\n",
    "      type: DT_INT32\n",
    "    }\n",
    "  }\n",
    "}\n",
    "node {\n",
    "  name: \"Add_9\"\n",
    "  op: \"Add\"\n",
    "  input: \"x_1/read\"\n",
    "  input: \"y_1/read\"\n",
    "  attr {\n",
    "    key: \"T\"\n",
    "    value {\n",
    "      type: DT_INT32\n",
    "    }\n",
    "  }\n",
    "}\n",
    "node {\n",
    "  name: \"Add_10\"\n",
    "  op: \"Add\"\n",
    "  input: \"x_1/read\"\n",
    "  input: \"y_1/read\"\n",
    "  attr {\n",
    "    key: \"T\"\n",
    "    value {\n",
    "      type: DT_INT32\n",
    "    }\n",
    "  }\n",
    "}\n",
    "```"
   ]
  },
  {
   "cell_type": "code",
   "execution_count": null,
   "metadata": {},
   "outputs": [],
   "source": []
  }
 ],
 "metadata": {
  "kernelspec": {
   "display_name": "Python 3",
   "language": "python",
   "name": "python3"
  },
  "language_info": {
   "codemirror_mode": {
    "name": "ipython",
    "version": 3
   },
   "file_extension": ".py",
   "mimetype": "text/x-python",
   "name": "python",
   "nbconvert_exporter": "python",
   "pygments_lexer": "ipython3",
   "version": "3.6.5"
  }
 },
 "nbformat": 4,
 "nbformat_minor": 2
}
