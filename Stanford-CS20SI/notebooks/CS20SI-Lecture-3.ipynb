{
 "cells": [
  {
   "cell_type": "code",
   "execution_count": 26,
   "metadata": {},
   "outputs": [],
   "source": [
    "import os\n",
    "os.environ['TF_CPP_MIN_LOG_LEVEL']='2'\n",
    "import time\n",
    "\n",
    "import xlrd\n",
    "import numpy as np\n",
    "import seaborn as sns\n",
    "import tensorflow as tf\n",
    "\n",
    "import matplotlib.pyplot as plt\n",
    "%matplotlib inline"
   ]
  },
  {
   "cell_type": "markdown",
   "metadata": {},
   "source": [
    "**Linear Regression**\n",
    "\n",
    "Inference: $\\hat{y} = wx + b$\n",
    "\n",
    "MSE: $E[(y - \\hat{y})^2]$"
   ]
  },
  {
   "cell_type": "code",
   "execution_count": 2,
   "metadata": {},
   "outputs": [],
   "source": [
    "## OLD\n",
    "\n",
    "# 1. Assemble the graph \n",
    "# ----------------------\n",
    "\n",
    "# 1.1 Read the data from .xls file\n",
    "DATA_FILE = './data/fire_theft.xls'\n",
    "book = xlrd.open_workbook(DATA_FILE, encoding_override='utf-8')\n",
    "sheet = book.sheet_by_index(0)\n",
    "data = np.asarray([sheet.row_values(i) for i in range(1, sheet.nrows)])\n",
    "n_samples = sheet.nrows - 1\n",
    "\n",
    "# 1.2 Create placeholders for input X (number of incidents of fire) and label Y (number of incidents of theft)\n",
    "X = tf.placeholder(dtype=tf.float32, name='X')\n",
    "Y = tf.placeholder(dtype=tf.float32, name='Y')\n",
    "\n",
    "# 1.3 Create Variables for weight and bias, initialized to 0.0\n",
    "w = tf.Variable(initial_value=0.0, name='w')\n",
    "b = tf.Variable(initial_value=0.0, name='b')\n",
    "\n",
    "# 1.4 Predict Y: Y_pred = w * X + b\n",
    "Y_pred = tf.add(tf.multiply(w, X), b)\n",
    "\n",
    "# 1.5 Specify loss function: (Y_pred - Y)^2\n",
    "cost = tf.square(Y - Y_pred, name='cost')\n",
    "\n",
    "# 1.6 Create optimizer\n",
    "optimizer = tf.train.GradientDescentOptimizer(learning_rate=0.001).minimize(cost)"
   ]
  },
  {
   "cell_type": "code",
   "execution_count": 3,
   "metadata": {
    "scrolled": false
   },
   "outputs": [
    {
     "name": "stdout",
     "output_type": "stream",
     "text": [
      "Epoch 0: Loss: 2069.63207797\n",
      "Epoch 10: Loss: 1924.59308791\n",
      "Epoch 20: Loss: 1773.10248388\n",
      "Epoch 30: Loss: 1666.19347014\n",
      "Epoch 40: Loss: 1589.66804057\n",
      "Epoch 50: Loss: 1534.21181074\n",
      "Epoch 60: Loss: 1493.60021142\n",
      "Epoch 70: Loss: 1463.59953585\n",
      "Epoch 80: Loss: 1441.27846243\n",
      "Epoch 90: Loss: 1424.57485955\n"
     ]
    }
   ],
   "source": [
    "# 2. Train the model\n",
    "# ------------------\n",
    "\n",
    "# Session looks at all trainable variables that loss depends on and updates them\n",
    "with tf.Session() as sess:\n",
    "    \n",
    "    # 2.1 Initialize the nessary variables\n",
    "    sess.run(tf.global_variables_initializer())\n",
    "    \n",
    "    # Write file for tensorboard\n",
    "    writer = tf.summary.FileWriter('./graphs/linear_reg', sess.graph)\n",
    "    \n",
    "    # 2.2 Training\n",
    "    for i in range(100): # Number of epochs\n",
    "        total_cost = 0\n",
    "        for x, y in data:\n",
    "            _, c = sess.run([optimizer, cost], feed_dict={X: x, Y: y})\n",
    "            total_cost += c\n",
    "        if i % 10 == 0:\n",
    "            print(\"Epoch {0}: Loss: {1}\".format(i, total_cost/float(n_samples)))\n",
    "            \n",
    "    # Close writer\n",
    "    writer.close()\n",
    "    \n",
    "    # Output the values variables w and b\n",
    "    w_hat, b_hat = sess.run([w, b])\n",
    "    \n",
    "# NOTE: learning_rate = 0.01 causes NaN problem"
   ]
  },
  {
   "cell_type": "code",
   "execution_count": 4,
   "metadata": {
    "scrolled": false
   },
   "outputs": [
    {
     "data": {
      "image/png": "[encoded data removed]",
      "text/plain": [
       "<matplotlib.figure.Figure at 0x7f1a14715e50>"
      ]
     },
     "metadata": {},
     "output_type": "display_data"
    }
   ],
   "source": [
    "# Plot the results    \n",
    "X, Y = data.T[0], data.T[1]\n",
    "plt.plot(X, Y, 'bo', label='Real Data')\n",
    "plt.plot(X, X * w_hat + b_hat, 'r', label='Predicted Data')\n",
    "plt.legend()\n",
    "plt.show()"
   ]
  },
  {
   "cell_type": "markdown",
   "metadata": {},
   "source": [
    "Data shown above has outliers. Square loss is tendency to be dominated by outliers.\n",
    "\n",
    "**Huber Loss** - Robust to outliers. \n",
    "\n",
    "Intuition - If the difference between the predicted value and the real value is small, then square the it, if the difference is large, then take its absolute value\n",
    "\n",
    "$$L_{\\delta}(y, f(x)) = \\begin{cases}\n",
    "                          \\frac{1}{2}(y-f(x))^2 & \\text{for}\\ \\left|y-f(x)\\right| \\leq \\delta \\\\\n",
    "                          \\delta\\left|y-f(x)\\right| -\\frac{1}{2}\\delta^2 & \\text{otherwise}\n",
    "                        \\end{cases}$$\n",
    "                        \n",
    "**NOTE: ** In TensorFlow `if Y - Y_predicted < delta:` statement is not posible"
   ]
  },
  {
   "cell_type": "code",
   "execution_count": 5,
   "metadata": {},
   "outputs": [],
   "source": [
    "def huber_loss(Y_true, Y_pred, delta=1.0):\n",
    "    \"\"\"\n",
    "    Huber loss function\n",
    "    \"\"\"\n",
    "    # Calculate absolute residual\n",
    "    residual = tf.abs(Y_pred - Y_true)\n",
    "    \n",
    "    # Condition to evaluate\n",
    "    condition = tf.less_equal(residual, delta)\n",
    "    \n",
    "    # Residual <= delta\n",
    "    small_residual = 0.5 * tf.square(residual)\n",
    "    \n",
    "    # Residual > delta\n",
    "    large_residual = delta * residual - 0.5 * tf.square(delta)\n",
    "    \n",
    "    return tf.where(condition, x=small_residual, y=large_residual)"
   ]
  },
  {
   "cell_type": "code",
   "execution_count": 6,
   "metadata": {},
   "outputs": [],
   "source": [
    "# 1. Assemble the graph\n",
    "# ----------------------\n",
    "\n",
    "# 1.1 Read the data from .xls file\n",
    "DATA_FILE = './data/fire_theft.xls'\n",
    "book = xlrd.open_workbook(DATA_FILE, encoding_override='utf-8')\n",
    "sheet = book.sheet_by_index(0)\n",
    "data = np.asarray([sheet.row_values(i) for i in range(1, sheet.nrows)])\n",
    "n_samples = sheet.nrows - 1\n",
    "\n",
    "# 1.2 Create placeholders for input X (number of incidents of fire) and label Y (number of incidents of theft)\n",
    "X = tf.placeholder(dtype=tf.float32, name='X')\n",
    "Y = tf.placeholder(dtype=tf.float32, name='Y')\n",
    "\n",
    "# 1.3 Create Variables for weight and bias, initialized to 0.0\n",
    "w = tf.Variable(initial_value=0.0, name='w')\n",
    "b = tf.Variable(initial_value=0.0, name='b')\n",
    "\n",
    "# 1.4 Predict Y: Y_pred = w * X + b\n",
    "Y_pred = tf.add(tf.multiply(w, X), b)\n",
    "\n",
    "# 1.5 Specify loss function: Huber loss\n",
    "cost = huber_loss(Y, Y_pred)\n",
    "\n",
    "# 1.6 Create optimizer\n",
    "optimizer = tf.train.GradientDescentOptimizer(learning_rate=0.001).minimize(cost)"
   ]
  },
  {
   "cell_type": "code",
   "execution_count": 7,
   "metadata": {
    "scrolled": false
   },
   "outputs": [
    {
     "name": "stdout",
     "output_type": "stream",
     "text": [
      "Epoch 0: Loss: 30.2313131945\n",
      "Epoch 10: Loss: 16.5431638523\n",
      "Epoch 20: Loss: 16.4679685953\n",
      "Epoch 30: Loss: 16.3946599091\n",
      "Epoch 40: Loss: 16.322875822\n",
      "Epoch 50: Loss: 16.2522168692\n",
      "Epoch 60: Loss: 16.18191795\n",
      "Epoch 70: Loss: 16.1121217921\n",
      "Epoch 80: Loss: 16.0428270493\n",
      "Epoch 90: Loss: 15.9737295181\n"
     ]
    }
   ],
   "source": [
    "# 2. Train the model\n",
    "# ------------------\n",
    "\n",
    "# Session looks at all trainable variables that loss depends on and updates them\n",
    "with tf.Session() as sess:\n",
    "    \n",
    "    # 2.1 Initialize the nessary variables\n",
    "    sess.run(tf.global_variables_initializer())\n",
    "    \n",
    "    # Write file for tensorboard\n",
    "    writer = tf.summary.FileWriter('./graphs/linear_reg', sess.graph)\n",
    "    \n",
    "    # 2.2 Training\n",
    "    for i in range(100): # Number of epochs\n",
    "        total_cost = 0\n",
    "        for x, y in data:\n",
    "            _, c = sess.run([optimizer, cost], feed_dict={X: x, Y: y})\n",
    "            total_cost += c\n",
    "        if i % 10 == 0:\n",
    "            print(\"Epoch {0}: Loss: {1}\".format(i, total_cost/float(n_samples)))\n",
    "            \n",
    "    # Close writer\n",
    "    writer.close()\n",
    "    \n",
    "    # Output the values variables w and b\n",
    "    w_hat, b_hat = sess.run([w, b])\n",
    "    \n",
    "# NOTE: learning_rate = 0.01 causes NaN problem"
   ]
  },
  {
   "cell_type": "code",
   "execution_count": 8,
   "metadata": {},
   "outputs": [
    {
     "data": {
      "image/png": "[encoded data removed]",
      "text/plain": [
       "<matplotlib.figure.Figure at 0x7f1a080e7e90>"
      ]
     },
     "metadata": {},
     "output_type": "display_data"
    }
   ],
   "source": [
    "# Plot the results    \n",
    "X, Y = data.T[0], data.T[1]\n",
    "plt.plot(X, Y, 'bo', label='Real Data')\n",
    "plt.plot(X, X * w_hat + b_hat, 'r', label='Predicted Data')\n",
    "plt.legend()\n",
    "plt.show()"
   ]
  },
  {
   "cell_type": "code",
   "execution_count": null,
   "metadata": {},
   "outputs": [],
   "source": []
  },
  {
   "cell_type": "markdown",
   "metadata": {},
   "source": [
    "### NEW"
   ]
  },
  {
   "cell_type": "code",
   "execution_count": 9,
   "metadata": {},
   "outputs": [],
   "source": [
    "def read_birth_life_data(filename):\n",
    "    \"\"\"\n",
    "    Read in birth_life_2010.txt and return:\n",
    "    data in the form of NumPy array\n",
    "    n_samples: number of samples\n",
    "    \"\"\"\n",
    "    text = open(filename, 'r').readlines()[1:]\n",
    "    data = [line[:-1].split('\\t') for line in text]\n",
    "    births = [float(line[1]) for line in data]\n",
    "    lifes = [float(line[2]) for line in data]\n",
    "    data = list(zip(births, lifes))\n",
    "    n_samples = len(data)\n",
    "    data = np.asarray(data, dtype=np.float32)\n",
    "    return data, n_samples"
   ]
  },
  {
   "cell_type": "code",
   "execution_count": 10,
   "metadata": {
    "scrolled": false
   },
   "outputs": [
    {
     "name": "stdout",
     "output_type": "stream",
     "text": [
      "Epoch 0: 1661.86378346\n",
      "Epoch 1: 956.322414861\n",
      "Epoch 2: 844.673702398\n",
      "Epoch 3: 750.731248601\n",
      "Epoch 4: 667.659834101\n",
      "Epoch 5: 594.141771563\n",
      "Epoch 6: 529.078781031\n",
      "Epoch 7: 471.500419149\n",
      "Epoch 8: 420.545862646\n",
      "Epoch 9: 375.45530722\n",
      "Epoch 10: 335.554302519\n",
      "Epoch 11: 300.24629858\n",
      "Epoch 12: 269.003764758\n",
      "Epoch 13: 241.359574669\n",
      "Epoch 14: 216.900391353\n",
      "Epoch 15: 195.259722981\n",
      "Epoch 16: 176.113769361\n",
      "Epoch 17: 159.175516934\n",
      "Epoch 18: 144.190711113\n",
      "Epoch 19: 130.935034881\n",
      "Epoch 20: 119.209356611\n",
      "Epoch 21: 108.837930981\n",
      "Epoch 22: 99.6646676062\n",
      "Epoch 23: 91.5517701303\n",
      "Epoch 24: 84.3766404678\n",
      "Epoch 25: 78.03217825\n",
      "Epoch 26: 72.4218292781\n",
      "Epoch 27: 67.4613623949\n",
      "Epoch 28: 63.0756695237\n",
      "Epoch 29: 59.1987414652\n",
      "Epoch 30: 55.7716844638\n",
      "Epoch 31: 52.7426982236\n",
      "Epoch 32: 50.0656327809\n",
      "Epoch 33: 47.7000642163\n",
      "Epoch 34: 45.6101790212\n",
      "Epoch 35: 43.7637975063\n",
      "Epoch 36: 42.132592211\n",
      "Epoch 37: 40.6922193933\n",
      "Epoch 38: 39.4202198634\n",
      "Epoch 39: 38.2970086453\n",
      "Epoch 40: 37.3055917595\n",
      "Epoch 41: 36.4306634161\n",
      "Epoch 42: 35.6584539427\n",
      "Epoch 43: 34.977248168\n",
      "Epoch 44: 34.3765537857\n",
      "Epoch 45: 33.8467135804\n",
      "Epoch 46: 33.3796658823\n",
      "Epoch 47: 32.968009913\n",
      "Epoch 48: 32.6054854199\n",
      "Epoch 49: 32.2861843417\n",
      "Epoch 50: 32.0049613173\n",
      "Epoch 51: 31.757531331\n",
      "Epoch 52: 31.5397887707\n",
      "Epoch 53: 31.3483568191\n",
      "Epoch 54: 31.1801192473\n",
      "Epoch 55: 31.0322578201\n",
      "Epoch 56: 30.9024629102\n",
      "Epoch 57: 30.7885998576\n",
      "Epoch 58: 30.6887253551\n",
      "Epoch 59: 30.601228619\n",
      "Epoch 60: 30.5245901784\n",
      "Epoch 61: 30.4575327045\n",
      "Epoch 62: 30.3989674227\n",
      "Epoch 63: 30.3477782542\n",
      "Epoch 64: 30.3031214657\n",
      "Epoch 65: 30.2642493074\n",
      "Epoch 66: 30.2303921296\n",
      "Epoch 67: 30.2009649216\n",
      "Epoch 68: 30.1755015555\n",
      "Epoch 69: 30.1533439917\n",
      "Epoch 70: 30.1342260985\n",
      "Epoch 71: 30.1177583086\n",
      "Epoch 72: 30.1035437744\n",
      "Epoch 73: 30.0913944223\n",
      "Epoch 74: 30.0809388476\n",
      "Epoch 75: 30.0720849998\n",
      "Epoch 76: 30.0645269097\n",
      "Epoch 77: 30.0581509386\n",
      "Epoch 78: 30.0527821998\n",
      "Epoch 79: 30.0482831061\n",
      "Epoch 80: 30.0445879126\n",
      "Epoch 81: 30.0415507081\n",
      "Epoch 82: 30.0390464374\n",
      "Epoch 83: 30.0370410372\n",
      "Epoch 84: 30.035457158\n",
      "Epoch 85: 30.0342887591\n",
      "Epoch 86: 30.0333880521\n",
      "Epoch 87: 30.0327698653\n",
      "Epoch 88: 30.0323868388\n",
      "Epoch 89: 30.0321506707\n",
      "Epoch 90: 30.0320928655\n",
      "Epoch 91: 30.03218673\n",
      "Epoch 92: 30.0324072514\n",
      "Epoch 93: 30.0326439624\n",
      "Epoch 94: 30.0330393769\n",
      "Epoch 95: 30.0334355665\n",
      "Epoch 96: 30.0339226318\n",
      "Epoch 97: 30.0344292466\n",
      "Epoch 98: 30.0349335549\n",
      "Epoch 99: 30.0355255828\n",
      "Took: 15.4351530075 seconds\n"
     ]
    }
   ],
   "source": [
    "## NEW\n",
    "\n",
    "DATA_FILE_NEW = './data/birth_life_2010.txt'\n",
    "\n",
    "# Step 1: Read in the data from .txt file\n",
    "data, n_samples = read_birth_life_data(DATA_FILE_NEW)\n",
    "\n",
    "# Step 2: Create placeholders for X (birth rate) and Y (life expectancy)\n",
    "X = tf.placeholder(dtype=tf.float32, name='X')\n",
    "Y = tf.placeholder(dtype=tf.float32, name='Y')\n",
    "\n",
    "# Step 3: Create weights and bias, initialized to 0.0\n",
    "w = tf.get_variable(name='w_new', initializer=tf.constant(0.0))\n",
    "b = tf.get_variable(name='b_new', initializer=tf.constant(0.0))\n",
    "\n",
    "# Step 4: Build model to predict Y\n",
    "Y_pred = tf.add(tf.multiply(w, X), b)\n",
    "\n",
    "# Step 5: Use square error as the loss function\n",
    "loss = tf.square(Y - Y_pred, name='loss')\n",
    "\n",
    "# Step 6: Using gradient descent with learning rate = 0.001 to minimize loss\n",
    "optimizer = tf.train.GradientDescentOptimizer(learning_rate=0.001).minimize(loss)\n",
    "\n",
    "start = time.time()\n",
    "\n",
    "# Create a filewriter to write the models graph for TensorBoard\n",
    "writer = tf.summary.FileWriter('./graphs/linear_reg', graph=tf.get_default_graph())\n",
    "\n",
    "with tf.Session() as sess:\n",
    "    \n",
    "    # Step 7: Initialize the necessary variables\n",
    "    sess.run(tf.global_variables_initializer())\n",
    "    \n",
    "    # Step 8: Train the model for 100 epochs\n",
    "    for i in range(100):\n",
    "        total_loss = 0\n",
    "        for x, y in data:\n",
    "            # Execute the train_op and get the value of loss\n",
    "            _, l = sess.run([optimizer, loss], feed_dict={X:x, Y:y})\n",
    "            total_loss += l\n",
    "            \n",
    "        print('Epoch {}: {}'.format(i, total_loss/n_samples))\n",
    "        \n",
    "        # Cloe the writer\n",
    "        writer.close()\n",
    "        \n",
    "        # Step 9: Output the values of w and b\n",
    "        w_out, b_out = sess.run([w, b])\n",
    "        \n",
    "print('Took: {} seconds'.format(time.time() - start))"
   ]
  },
  {
   "cell_type": "code",
   "execution_count": 11,
   "metadata": {},
   "outputs": [
    {
     "data": {
      "image/png": "[encoded data removed]",
      "text/plain": [
       "<matplotlib.figure.Figure at 0x7f19aa0d65d0>"
      ]
     },
     "metadata": {},
     "output_type": "display_data"
    }
   ],
   "source": [
    "# plot the results\n",
    "plt.plot(data[:,0], data[:,1], 'bo', label='Real data')\n",
    "plt.plot(data[:,0], data[:,0] * w_out + b_out, 'r', label='Predicted data')\n",
    "plt.legend()\n",
    "plt.show()"
   ]
  },
  {
   "cell_type": "code",
   "execution_count": 12,
   "metadata": {},
   "outputs": [],
   "source": [
    "def huber_loss_n(Y_true, Y_pred, delta=1.0):\n",
    "    \"\"\"\n",
    "    Huber loss function\n",
    "    \"\"\"\n",
    "    # Calculate absolute residual\n",
    "    residual = tf.abs(Y_true - Y_pred)\n",
    "    \n",
    "    def f1(): return 0.5 * tf.square(residual)\n",
    "    \n",
    "    def f1(): return delta * residual - 0.5 * tf.square(delta)\n",
    "    \n",
    "    return tf.cond(residual < delta, true_fn=f1, false_fn=f2)"
   ]
  },
  {
   "cell_type": "markdown",
   "metadata": {},
   "source": [
    "**TensorFlow Control Flow**\n",
    "\n",
    "- Control Flow Operations: `tf.group`, `tf.count_up_to`, `tf.cond`, `tf.case`, `tf.while_loop`, ...\n",
    "- Comparison Operations: `tf.equal`, `tf.not_equal`, `tf.less`, `tf.greater`, `tf.where`, ...\n",
    "- Logical Operations: `tf.logical_and`, `tf.logica_not`, `tf.logical_or`, ...\n",
    "- Debugging Operations: `tf.is_finite`, `tf.is_inf`, `tf.is_nan`, `tf.Assert`, `tf.Print`, ..."
   ]
  },
  {
   "cell_type": "markdown",
   "metadata": {},
   "source": [
    "## `tf.data`\n",
    "\n",
    "**`tf.placeholder`**\n",
    "- Advantage: Puts the data processing outside TensorFlow, making it easy to do in Python\n",
    "- Disadvantage: Users often end up processing their data in a single thread and creating data bottleneck that slows execution down.\n",
    "- For prototyping `feed_dict` can be faster and easier to write (pythonic)\n",
    "    \n",
    "**`tf.data`** - Instead of doing inference with placeholders and feeding in data later, it allows to do inference directly with data. It is tricky to use when there are complicated preprocessing steps or multiple data sources. `tf.data` performs better than `tf.placeholder`\n",
    "- Older version of TensorFlow (1.2.0): `tf.contrib.data`\n",
    "- Newer version of TensorFlow (1.4.0 or later): `tf.data`\n",
    "\n",
    "---\n",
    "\n",
    "Store data in **`tf.data.Dataset`**\n",
    "- `tf.data.Dataset.from_tensor_slices((features, labels))`\n",
    "- `tf.data.Dataset.from_generator(gen, output_types, output_shapes)`\n",
    "\n",
    "Create `Dataset` from files\n",
    "- `tf.data.TextLineDataset(filenames)`\n",
    "- `tf.data.FixedLengthRecordDataset(filenames)`\n",
    "- `tf.data.TFRecordDataset(filenames)`\n",
    "\n",
    "---\n",
    "\n",
    "**`tf.data.Iterator`** - Creates and iterator to iterate through samples in `Dataset`"
   ]
  },
  {
   "cell_type": "code",
   "execution_count": 13,
   "metadata": {},
   "outputs": [
    {
     "name": "stdout",
     "output_type": "stream",
     "text": [
      "('Output types: ', (tf.float32, tf.float32))\n",
      "('Output shapes: ', (TensorShape([]), TensorShape([])))\n",
      "<TensorSliceDataset shapes: ((), ()), types: (tf.float32, tf.float32)>\n"
     ]
    }
   ],
   "source": [
    "# Read in the data from .txt file\n",
    "data, n_samples = read_birth_life_data(DATA_FILE_NEW)\n",
    "\n",
    "# Store data in tf.data.Dataset\n",
    "# dataset = tf.contrib.data.Dataset.from_tensor_slices((data[:,0], data[:, 1]))\n",
    "dataset = tf.data.Dataset.from_tensor_slices((data[:,0], data[:, 1]))\n",
    "\n",
    "print('Output types: ', dataset.output_types)\n",
    "print('Output shapes: ', dataset.output_shapes)\n",
    "print(dataset)"
   ]
  },
  {
   "cell_type": "code",
   "execution_count": 14,
   "metadata": {},
   "outputs": [
    {
     "name": "stdout",
     "output_type": "stream",
     "text": [
      "('Birth rate and life expectancy: ', [1.822, 74.82825])\n",
      "('Birth rate and life expectancy: ', [3.869, 70.81949])\n",
      "('Birth rate and life expectancy: ', [3.911, 72.15066])\n"
     ]
    }
   ],
   "source": [
    "# Create iterator: Iterate through the dataset exactly once. No need to initialize\n",
    "iterator = dataset.make_one_shot_iterator()\n",
    "\n",
    "X, Y = iterator.get_next()\n",
    "\n",
    "with tf.Session() as sess:\n",
    "    print('Birth rate and life expectancy: ', sess.run([X, Y]))\n",
    "    print('Birth rate and life expectancy: ', sess.run([X, Y]))\n",
    "    print('Birth rate and life expectancy: ', sess.run([X, Y]))"
   ]
  },
  {
   "cell_type": "code",
   "execution_count": 15,
   "metadata": {
    "scrolled": false
   },
   "outputs": [
    {
     "name": "stdout",
     "output_type": "stream",
     "text": [
      "('Birth rate and life expectancy: ', [1.822, 74.82825])\n",
      "('Birth rate and life expectancy: ', [1.822, 74.82825])\n",
      "('Birth rate and life expectancy: ', [1.822, 74.82825])\n"
     ]
    }
   ],
   "source": [
    "# Create iterator: Iterate through the dataset as many times as we want. \n",
    "# Need to initialize with each epoch\n",
    "iterator = dataset.make_initializable_iterator()\n",
    "\n",
    "with tf.Session() as sess:\n",
    "    for i in range(3):\n",
    "        sess.run(iterator.initializer)\n",
    "        X, Y = iterator.get_next()\n",
    "        print('Birth rate and life expectancy: ', sess.run([X, Y]))"
   ]
  },
  {
   "cell_type": "code",
   "execution_count": 16,
   "metadata": {},
   "outputs": [
    {
     "name": "stdout",
     "output_type": "stream",
     "text": [
      "('Birth rate and life expectancy: ', [3.951, 62.44061])\n",
      "('Birth rate and life expectancy: ', [5.578, 61.999855])\n",
      "('Birth rate and life expectancy: ', [1.579, 73.92766])\n"
     ]
    }
   ],
   "source": [
    "# Handling data in TensorFlow: Shuffle elements of dataset\n",
    "dataset = dataset.shuffle(10)\n",
    "iterator = dataset.make_one_shot_iterator()\n",
    "\n",
    "X, Y = iterator.get_next()\n",
    "\n",
    "with tf.Session() as sess:\n",
    "    print('Birth rate and life expectancy: ', sess.run([X, Y]))\n",
    "    print('Birth rate and life expectancy: ', sess.run([X, Y]))\n",
    "    print('Birth rate and life expectancy: ', sess.run([X, Y]))"
   ]
  },
  {
   "cell_type": "code",
   "execution_count": 17,
   "metadata": {},
   "outputs": [
    {
     "name": "stdout",
     "output_type": "stream",
     "text": [
      "('Birth rate and life expectancy: ', [1.579, 73.92766])\n",
      "('Birth rate and life expectancy: ', [4.229, 67.465195])\n",
      "('Birth rate and life expectancy: ', [2.141, 76.30168])\n"
     ]
    }
   ],
   "source": [
    "# Handling data in TensorFlow: Repeat dataset `count` times\n",
    "dataset = dataset.repeat(count=3)\n",
    "iterator = dataset.make_one_shot_iterator()\n",
    "\n",
    "X, Y = iterator.get_next()\n",
    "\n",
    "with tf.Session() as sess:\n",
    "    print('Birth rate and life expectancy: ', sess.run([X, Y]))\n",
    "    print('Birth rate and life expectancy: ', sess.run([X, Y]))\n",
    "    print('Birth rate and life expectancy: ', sess.run([X, Y]))"
   ]
  },
  {
   "cell_type": "code",
   "execution_count": 18,
   "metadata": {
    "scrolled": true
   },
   "outputs": [
    {
     "name": "stdout",
     "output_type": "stream",
     "text": [
      "('Birth rate and life expectancy: ', [array([1.15 , 3.911], dtype=float32), array([81.641464, 72.15066 ], dtype=float32)])\n"
     ]
    }
   ],
   "source": [
    "# Handling data in TensorFlow: Batch combines consecutive elements of dataset into batches\n",
    "dataset = dataset.batch(2)\n",
    "iterator = dataset.make_one_shot_iterator()\n",
    "\n",
    "X, Y = iterator.get_next()\n",
    "\n",
    "with tf.Session() as sess:\n",
    "    print('Birth rate and life expectancy: ', sess.run([X, Y]))"
   ]
  },
  {
   "cell_type": "code",
   "execution_count": 20,
   "metadata": {},
   "outputs": [],
   "source": [
    "# # # Handling data in TensorFlow: Convert each element of dataset to one hot vector\n",
    "# dataset = dataset.map(lambda x: tf.one_hot(x, 10))\n",
    "# iterator = dataset.make_one_shot_iterator()\n",
    "\n",
    "# X, Y = iterator.get_next()\n",
    "\n",
    "# with tf.Session() as sess:\n",
    "#     print('Birth rate and life expectancy: ', sess.run([X, Y]))"
   ]
  },
  {
   "cell_type": "markdown",
   "metadata": {},
   "source": [
    "**Optimizers**\n",
    "- How does TensorFlow know what `Variables` to update? - *Session looks at all trainable `Variables` that loss depends on and update them*\n",
    "    - `tf.Variable(initial_value=None, trainable=True, ...)` - Specify if a `Variable` should be trained or not. By default all `Variables` are trainable\n",
    "    \n",
    "    \n",
    "- `tf.train.GradientDescentOptimizer`\n",
    "- `tf.train.AdagradOptimizer`\n",
    "- `tf.train.MomentumOptimizer`\n",
    "- `tf.train.AdamOptimizer`\n",
    "- `tf.train.FtrlOptimizer` - Follow The Regularized Leader (FTLR) algorithm\n",
    "- `tf.train.RMSPropOptimizer`\n",
    "- Others"
   ]
  },
  {
   "cell_type": "markdown",
   "metadata": {},
   "source": [
    "**Logistic Regression**\n",
    "\n",
    "Each image in the MNIST data is of shape $28\\times28$ = 784, and each image is represented with a 1x784 tensor. There are 10 classes for each image, corresponding to digits 0 - 9. Features are of the type float, and labels are of the type int\n",
    "\n",
    "$$logit(p_i) = WX + b$$"
   ]
  },
  {
   "cell_type": "code",
   "execution_count": 2,
   "metadata": {},
   "outputs": [],
   "source": [
    "import os\n",
    "os.environ['TF_CPP_MIN_LOG_LEVEL']='2'\n",
    "\n",
    "# TF data\n",
    "from tensorflow.examples.tutorials.mnist import input_data"
   ]
  },
  {
   "cell_type": "code",
   "execution_count": 3,
   "metadata": {},
   "outputs": [
    {
     "name": "stdout",
     "output_type": "stream",
     "text": [
      "Extracting ./data/mnist/train-images-idx3-ubyte.gz\n",
      "Extracting ./data/mnist/train-labels-idx1-ubyte.gz\n",
      "Extracting ./data/mnist/t10k-images-idx3-ubyte.gz\n",
      "Extracting ./data/mnist/t10k-labels-idx1-ubyte.gz\n",
      "('Training set size: ', 55000)\n",
      "('Validation set size: ', 5000)\n",
      "('Testing set size: ', 10000)\n",
      "WARNING:tensorflow:From <ipython-input-3-e9d4c4ac8dae>:25: softmax_cross_entropy_with_logits (from tensorflow.python.ops.nn_ops) is deprecated and will be removed in a future version.\n",
      "Instructions for updating:\n",
      "\n",
      "Future major versions of TensorFlow will allow gradients to flow\n",
      "into the labels input on backprop by default.\n",
      "\n",
      "See tf.nn.softmax_cross_entropy_with_logits_v2.\n",
      "\n"
     ]
    }
   ],
   "source": [
    "# 1. Assemble the graph\n",
    "# ---------------------\n",
    "batch_size = 64\n",
    "learning_rate = 0.01\n",
    "n_epochs = 10\n",
    "\n",
    "# 1.1 Read the data\n",
    "mnist = input_data.read_data_sets('./data/mnist', one_hot=True) \n",
    "print('Training set size: ', mnist.train.num_examples)\n",
    "print('Validation set size: ', mnist.validation.num_examples)\n",
    "print('Testing set size: ', mnist.test.num_examples)\n",
    "\n",
    "# 1.2 Create placeholders for features and labels\n",
    "X = tf.placeholder(dtype=tf.float32, shape=[batch_size, 784], name='image')\n",
    "Y = tf.placeholder(dtype=tf.int32, shape=[batch_size, 10], name='label')\n",
    "\n",
    "# 1.3 Create Variables for weight and bias, initialized to 0.0\n",
    "w = tf.Variable(initial_value=tf.random_normal([784, 10], stddev=0.01), name='w')\n",
    "b = tf.Variable(initial_value=tf.zeros([1, 10]), name='b')\n",
    "\n",
    "# 1.4 Build model: logits = w * X + b\n",
    "logits = tf.add(tf.matmul(X, w), b)\n",
    "\n",
    "# 1.5 Specify loss function: softmax cross-entropy with logits\n",
    "entropy = tf.nn.softmax_cross_entropy_with_logits(labels=Y, logits=logits)\n",
    "loss = tf.reduce_mean(entropy)\n",
    "\n",
    "# 1.6 Create optimizer\n",
    "optimizer = tf.train.GradientDescentOptimizer(learning_rate=learning_rate).minimize(loss)"
   ]
  },
  {
   "cell_type": "code",
   "execution_count": 4,
   "metadata": {
    "scrolled": false
   },
   "outputs": [
    {
     "name": "stdout",
     "output_type": "stream",
     "text": [
      "Epoch 0: Loss: 1.01287171678\n",
      "Epoch 1: Loss: 0.568997292878\n",
      "Epoch 2: Loss: 0.484952754761\n",
      "Epoch 3: Loss: 0.444337416826\n",
      "Epoch 4: Loss: 0.418568809804\n",
      "Epoch 5: Loss: 0.401270660102\n",
      "Epoch 6: Loss: 0.38780995036\n",
      "Epoch 7: Loss: 0.377164614891\n",
      "Epoch 8: Loss: 0.36884212912\n",
      "Epoch 9: Loss: 0.361598125905\n",
      "Accuracy: 0.0141890625\n"
     ]
    }
   ],
   "source": [
    "# 2. Train the model\n",
    "# ------------------\n",
    "\n",
    "# Session looks at all trainable variables that loss depends on and updates them\n",
    "with tf.Session() as sess:\n",
    "    \n",
    "    # 2.1 Initialize the nessary variables\n",
    "    sess.run(tf.global_variables_initializer())\n",
    "    \n",
    "    n_batches = int(mnist.train.num_examples/batch_size)\n",
    "    \n",
    "    # Write file for tensorboard\n",
    "    writer = tf.summary.FileWriter('./graphs/logistic_reg', sess.graph)\n",
    "    \n",
    "    # 2.2 Training\n",
    "    for i in range(n_epochs): # Train the model n_epochs times\n",
    "        total_loss = 0\n",
    "        \n",
    "        for _ in range(n_batches):\n",
    "            X_batch, Y_batch = mnist.train.next_batch(batch_size)\n",
    "            _, batch_loss = sess.run([optimizer, loss], feed_dict={X: X_batch, Y: Y_batch})\n",
    "            total_loss += batch_loss\n",
    "            \n",
    "        print(\"Epoch {0}: Loss: {1}\".format(i, total_loss/n_batches))\n",
    "            \n",
    "    # Close writer\n",
    "    writer.close()\n",
    "    \n",
    "    # Test the model\n",
    "    preds = tf.nn.softmax(logits) # logits = w * X + b\n",
    "    correct_preds = tf.equal(tf.argmax(preds, axis=1), tf.argmax(Y, 1))\n",
    "    accuracy = tf.reduce_mean(tf.cast(correct_preds, tf.float32))\n",
    "    \n",
    "    test_batches = int(mnist.test.num_examples/batch_size)\n",
    "    total_correct_preds = 0\n",
    "    for _ in range(test_batches):\n",
    "        X_batch, Y_batch = mnist.test.next_batch(batch_size)\n",
    "        batch_accuracy = sess.run(accuracy, feed_dict={X: X_batch, Y: Y_batch})\n",
    "        total_correct_preds += batch_accuracy\n",
    "    print('Accuracy: {0}'.format(total_correct_preds/mnist.test.num_examples))"
   ]
  },
  {
   "cell_type": "markdown",
   "metadata": {},
   "source": [
    "### NEW\n",
    "- Using **`tf.data`** instead of `feed_dict`"
   ]
  },
  {
   "cell_type": "code",
   "execution_count": 6,
   "metadata": {},
   "outputs": [],
   "source": [
    "import gzip\n",
    "import shutil\n",
    "import struct\n",
    "import urllib\n",
    "\n",
    "\n",
    "def safe_mkdir(path):\n",
    "    \"\"\" Create a directory if there isn't one already. \"\"\"\n",
    "    try:\n",
    "        os.mkdir(path)\n",
    "    except OSError:\n",
    "        pass\n",
    "\n",
    "    \n",
    "def download_one_file(download_url, \n",
    "                    local_dest, \n",
    "                    expected_byte=None, \n",
    "                    unzip_and_remove=False):\n",
    "    \"\"\" \n",
    "    Download the file from download_url into local_dest\n",
    "    if the file doesn't already exists.\n",
    "    If expected_byte is provided, check if \n",
    "    the downloaded file has the same number of bytes.\n",
    "    If unzip_and_remove is True, unzip the file and remove the zip file\n",
    "    \"\"\"\n",
    "    if os.path.exists(local_dest) or os.path.exists(local_dest[:-3]):\n",
    "        print('%s already exists' %local_dest)\n",
    "    else:\n",
    "        print('Downloading %s' %download_url)\n",
    "        local_file, _ = urllib.request.urlretrieve(download_url, local_dest)\n",
    "        file_stat = os.stat(local_dest)\n",
    "        if expected_byte:\n",
    "            if file_stat.st_size == expected_byte:\n",
    "                print('Successfully downloaded %s' %local_dest)\n",
    "                if unzip_and_remove:\n",
    "                    with gzip.open(local_dest, 'rb') as f_in, open(local_dest[:-3],'wb') as f_out:\n",
    "                        shutil.copyfileobj(f_in, f_out)\n",
    "                    os.remove(local_dest)\n",
    "            else:\n",
    "                print('The downloaded file has unexpected number of bytes')\n",
    "\n",
    "                \n",
    "def download_mnist(path):\n",
    "    \"\"\" \n",
    "    Download and unzip the dataset mnist if it's not already downloaded \n",
    "    Download from http://yann.lecun.com/exdb/mnist\n",
    "    \"\"\"\n",
    "    safe_mkdir(path)\n",
    "    url = 'http://yann.lecun.com/exdb/mnist'\n",
    "    filenames = ['train-images-idx3-ubyte.gz',\n",
    "                'train-labels-idx1-ubyte.gz',\n",
    "                't10k-images-idx3-ubyte.gz',\n",
    "                't10k-labels-idx1-ubyte.gz']\n",
    "    expected_bytes = [9912422, 28881, 1648877, 4542]\n",
    "\n",
    "    for filename, byte in zip(filenames, expected_bytes):\n",
    "        download_url = os.path.join(url, filename)\n",
    "        local_dest = os.path.join(path, filename)\n",
    "        download_one_file(download_url, local_dest, byte, True)\n",
    "\n",
    "        \n",
    "def parse_data(path, dataset, flatten):\n",
    "    if dataset != 'train' and dataset != 't10k':\n",
    "        raise NameError('dataset must be train or t10k')\n",
    "\n",
    "    label_file = os.path.join(path, dataset + '-labels-idx1-ubyte')\n",
    "    with open(label_file, 'rb') as file:\n",
    "        _, num = struct.unpack(\">II\", file.read(8))\n",
    "        labels = np.fromfile(file, dtype=np.int8) #int8\n",
    "        new_labels = np.zeros((num, 10))\n",
    "        new_labels[np.arange(num), labels] = 1\n",
    "    \n",
    "    img_file = os.path.join(path, dataset + '-images-idx3-ubyte')\n",
    "    with open(img_file, 'rb') as file:\n",
    "        _, num, rows, cols = struct.unpack(\">IIII\", file.read(16))\n",
    "        imgs = np.fromfile(file, dtype=np.uint8).reshape(num, rows, cols) #uint8\n",
    "        imgs = imgs.astype(np.float32) / 255.0\n",
    "        if flatten:\n",
    "            imgs = imgs.reshape([num, -1])\n",
    "\n",
    "    return imgs, new_labels\n",
    "\n",
    "\n",
    "def read_mnist(path, flatten=True, num_train=55000):\n",
    "    \"\"\"\n",
    "    Read in the mnist dataset, given that the data is stored in path\n",
    "    Return two tuples of numpy arrays\n",
    "    ((train_imgs, train_labels), (test_imgs, test_labels))\n",
    "    \"\"\"\n",
    "    imgs, labels = parse_data(path, 'train', flatten)\n",
    "    indices = np.random.permutation(labels.shape[0])\n",
    "    train_idx, val_idx = indices[:num_train], indices[num_train:]\n",
    "    train_img, train_labels = imgs[train_idx, :], labels[train_idx, :]\n",
    "    val_img, val_labels = imgs[val_idx, :], labels[val_idx, :]\n",
    "    test = parse_data(path, 't10k', flatten)\n",
    "    return (train_img, train_labels), (val_img, val_labels), test"
   ]
  },
  {
   "cell_type": "code",
   "execution_count": 7,
   "metadata": {},
   "outputs": [],
   "source": [
    "# Define parameters for the model\n",
    "learning_rate = 0.01\n",
    "batch_size = 128\n",
    "n_epochs = 30\n",
    "n_train = 60000 # 55K train + 5K val\n",
    "n_test = 10000"
   ]
  },
  {
   "cell_type": "code",
   "execution_count": 11,
   "metadata": {},
   "outputs": [
    {
     "name": "stdout",
     "output_type": "stream",
     "text": [
      "Downloading http://yann.lecun.com/exdb/mnist/train-images-idx3-ubyte.gz\n",
      "Successfully downloaded /Users/Ankoor/Desktop/dmedNotebooks/TF/data/MNIST/train-images-idx3-ubyte.gz\n",
      "Downloading http://yann.lecun.com/exdb/mnist/train-labels-idx1-ubyte.gz\n",
      "Successfully downloaded /Users/Ankoor/Desktop/dmedNotebooks/TF/data/MNIST/train-labels-idx1-ubyte.gz\n",
      "Downloading http://yann.lecun.com/exdb/mnist/t10k-images-idx3-ubyte.gz\n",
      "Successfully downloaded /Users/Ankoor/Desktop/dmedNotebooks/TF/data/MNIST/t10k-images-idx3-ubyte.gz\n",
      "Downloading http://yann.lecun.com/exdb/mnist/t10k-labels-idx1-ubyte.gz\n",
      "Successfully downloaded /Users/Ankoor/Desktop/dmedNotebooks/TF/data/MNIST/t10k-labels-idx1-ubyte.gz\n"
     ]
    }
   ],
   "source": [
    "# Step 1: Read the MNIST data\n",
    "mnist_dir = '/Users/Ankoor/Desktop/dmedNotebooks/TF/data/MNIST'\n",
    "\n",
    "# Download MNIST data\n",
    "download_mnist(mnist_dir)\n",
    "\n",
    "# Read data\n",
    "train, val, test = read_mnist(mnist_dir, flatten=True)"
   ]
  },
  {
   "cell_type": "code",
   "execution_count": 12,
   "metadata": {},
   "outputs": [],
   "source": [
    "# Step 2: Create datasets and iterator\n",
    "\n",
    "# Create training dataset and batch it\n",
    "train_data = tf.data.Dataset.from_tensor_slices(train)\n",
    "train_data = train_data.shuffle(10000)\n",
    "train_data = train_data.batch(batch_size)\n",
    "\n",
    "# Create testing dataset and batch it\n",
    "test_data = tf.data.Dataset.from_tensor_slices(test)\n",
    "test_data = test_data.batch(batch_size)\n",
    "\n",
    "# Create one iterator and initialize it with different datasets\n",
    "iterator = tf.data.Iterator.from_structure(train_data.output_types, \n",
    "                                                   output_shapes=train_data.output_shapes)\n",
    "\n",
    "# Initializers for datasets\n",
    "train_init = iterator.make_initializer(train_data)\n",
    "test_init = iterator.make_initializer(test_data)\n",
    "\n",
    "X, y = iterator.get_next()"
   ]
  },
  {
   "cell_type": "code",
   "execution_count": 13,
   "metadata": {},
   "outputs": [],
   "source": [
    "# Step 3: Create weights and bias\n",
    "w = tf.get_variable(name='w_log', shape=[784, 10], initializer=tf.random_normal_initializer(mean=0.0, stddev=0.01))\n",
    "b = tf.get_variable(name='b_log', shape=[1, 10], initializer=tf.constant_initializer(0.0))"
   ]
  },
  {
   "cell_type": "code",
   "execution_count": 16,
   "metadata": {},
   "outputs": [],
   "source": [
    "# Step 4: Build model which returns logits (logits = w * X + b)\n",
    "# Logits will be later passed through softmax layer\n",
    "logits = tf.add(tf.matmul(X, w), b)"
   ]
  },
  {
   "cell_type": "code",
   "execution_count": 20,
   "metadata": {},
   "outputs": [],
   "source": [
    "# Step 5: Define loss function (use cross entropy of softmax of logits)\n",
    "x_entropy = tf.nn.softmax_cross_entropy_with_logits_v2(logits=logits, labels=tf.stop_gradient(y), name='xentropy')\n",
    "loss = tf.reduce_mean(x_entropy, name='loss')"
   ]
  },
  {
   "cell_type": "code",
   "execution_count": 18,
   "metadata": {},
   "outputs": [],
   "source": [
    "# Step 6: Define optimizer\n",
    "optimizer = tf.train.AdamOptimizer(learning_rate=learning_rate).minimize(loss)"
   ]
  },
  {
   "cell_type": "code",
   "execution_count": 22,
   "metadata": {},
   "outputs": [],
   "source": [
    "# Step 7: Calculate accuracy with test set\n",
    "preds = tf.nn.softmax(logits)\n",
    "correct_preds = tf.equal(tf.argmax(preds, axis=1), tf.argmax(y, 1))\n",
    "accuracy = tf.reduce_sum(tf.cast(correct_preds, tf.float32))"
   ]
  },
  {
   "cell_type": "code",
   "execution_count": 23,
   "metadata": {},
   "outputs": [
    {
     "name": "stdout",
     "output_type": "stream",
     "text": [
      "Average loss in epoch 0: 0.3670748881822409\n",
      "Average loss in epoch 1: 0.29420908637518106\n",
      "Average loss in epoch 2: 0.285269708948773\n",
      "Average loss in epoch 3: 0.27726744685408683\n",
      "Average loss in epoch 4: 0.2757281856481419\n",
      "Average loss in epoch 5: 0.27146128083384313\n",
      "Average loss in epoch 6: 0.26844038939060166\n",
      "Average loss in epoch 7: 0.26739977388534436\n",
      "Average loss in epoch 8: 0.2643032164247923\n",
      "Average loss in epoch 9: 0.26269317208681\n",
      "Average loss in epoch 10: 0.2620549042211022\n",
      "Average loss in epoch 11: 0.25947207304280856\n",
      "Average loss in epoch 12: 0.2608996241764967\n",
      "Average loss in epoch 13: 0.2582457341773565\n",
      "Average loss in epoch 14: 0.2583241242828757\n",
      "Average loss in epoch 15: 0.2596906771146974\n",
      "Average loss in epoch 16: 0.2542833355970161\n",
      "Average loss in epoch 17: 0.2569869753059953\n",
      "Average loss in epoch 18: 0.2547457960109378\n",
      "Average loss in epoch 19: 0.25645982364929\n",
      "Average loss in epoch 20: 0.2539535453153211\n",
      "Average loss in epoch 21: 0.2529122515646524\n",
      "Average loss in epoch 22: 0.2535025262035603\n",
      "Average loss in epoch 23: 0.2542655108799768\n",
      "Average loss in epoch 24: 0.2537470372090506\n",
      "Average loss in epoch 25: 0.2529503743662391\n",
      "Average loss in epoch 26: 0.24985825436752895\n",
      "Average loss in epoch 27: 0.2520711786525194\n",
      "Average loss in epoch 28: 0.2495183390933414\n",
      "Average loss in epoch 29: 0.2528182766638523\n",
      "Total time: 28.003939151763916 seconds\n",
      "Accuracy 0.9184\n"
     ]
    }
   ],
   "source": [
    "# Step 8: Train the model\n",
    "writer = tf.summary.FileWriter('./graphs/logreg', tf.get_default_graph())\n",
    "\n",
    "with tf.Session() as sess:\n",
    "    start_time = time.time()\n",
    "    \n",
    "    # Initialize all weights\n",
    "    sess.run(tf.global_variables_initializer())\n",
    "    \n",
    "    # Train model for n_epoch times\n",
    "    for i in range(n_epochs):\n",
    "        \n",
    "        sess.run(train_init)  # Draw samples from train data\n",
    "        \n",
    "        total_loss = 0\n",
    "        n_batches = 0\n",
    "        \n",
    "        try:\n",
    "            while True:\n",
    "                _, ll = sess.run([optimizer, loss])\n",
    "                total_loss += ll\n",
    "                n_batches += 1\n",
    "        except tf.errors.OutOfRangeError:\n",
    "            pass\n",
    "        print('Average loss in epoch {}: {}'.format(i, total_loss/float(n_batches)))\n",
    "    print('Total time: {} seconds'.format(time.time() - start_time))\n",
    "    \n",
    "    # Test model\n",
    "    sess.run(test_init)  # Draw samples from test data\n",
    "    total_correct_preds = 0\n",
    "    \n",
    "    try:\n",
    "        while True:\n",
    "            batch_accuracy = sess.run(accuracy)\n",
    "            total_correct_preds += batch_accuracy\n",
    "    except tf.errors.OutOfRangeError:\n",
    "        pass\n",
    "    \n",
    "    print('Accuracy {}'.format(total_correct_preds/n_test))\n",
    "writer.close()"
   ]
  },
  {
   "cell_type": "code",
   "execution_count": null,
   "metadata": {},
   "outputs": [],
   "source": []
  }
 ],
 "metadata": {
  "kernelspec": {
   "display_name": "Python 3",
   "language": "python",
   "name": "python3"
  },
  "language_info": {
   "codemirror_mode": {
    "name": "ipython",
    "version": 3
   },
   "file_extension": ".py",
   "mimetype": "text/x-python",
   "name": "python",
   "nbconvert_exporter": "python",
   "pygments_lexer": "ipython3",
   "version": "3.6.5"
  }
 },
 "nbformat": 4,
 "nbformat_minor": 2
}
