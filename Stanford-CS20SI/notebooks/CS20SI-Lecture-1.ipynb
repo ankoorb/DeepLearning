{
 "cells": [
  {
   "cell_type": "markdown",
   "metadata": {},
   "source": [
    "**TensorFlow** is an open source software library for numerical computation using data flow graphs.\n",
    "\n",
    "**TensorFlow Basics** - TensorFlow program consists of two phases\n",
    "- Phase-1: Assemble a graph\n",
    "- Phase-2: Use a session to execute operations in the graph\n",
    "\n",
    "This may change in future with experimental [TensorFlow's eager mode](https://research.googleblog.com/2017/10/eager-execution-imperative-define-by.html)\n",
    "\n",
    "**What is a Tensor?**\n",
    "- An n-dimensional array\n",
    "    - 0-d tensor: scalar\n",
    "    - 1-d tensor: vector\n",
    "    - 2-d tensor: matrix\n",
    "    \n",
    "**Data Flow Graphs**\n",
    "- NODES: operators, variables and constants (TF automatically names the nodes if the name is not explicitly provided)\n",
    "- EDGES: tensors\n",
    "\n",
    "**`tf.Session()`** - A Session object encapsulates the environment in which `Operation` objects are executed, and `Tensor` objects are evaluated. Session will also allocate memory to store the current values of variables.\n",
    "\n",
    "**Resources**\n",
    "- [TensorFlow Official Documentation](https://www.tensorflow.org/api_docs/)\n",
    "- [TensorFlow Official Sample Models](https://github.com/tensorflow/models)"
   ]
  },
  {
   "cell_type": "code",
   "execution_count": 1,
   "metadata": {},
   "outputs": [],
   "source": [
    "# Imports\n",
    "import tensorflow as tf"
   ]
  },
  {
   "cell_type": "code",
   "execution_count": 2,
   "metadata": {},
   "outputs": [
    {
     "name": "stdout",
     "output_type": "stream",
     "text": [
      "Tensor(\"Add:0\", shape=(), dtype=int32)\n"
     ]
    }
   ],
   "source": [
    "# Simple graph\n",
    "a = tf.add(2, 3)\n",
    "print a"
   ]
  },
  {
   "cell_type": "code",
   "execution_count": 3,
   "metadata": {},
   "outputs": [
    {
     "name": "stdout",
     "output_type": "stream",
     "text": [
      "5\n"
     ]
    }
   ],
   "source": [
    "# Evaluate graph to fetch values\n",
    "sess = tf.Session()\n",
    "print sess.run(a)\n",
    "sess.close()"
   ]
  },
  {
   "cell_type": "code",
   "execution_count": 4,
   "metadata": {},
   "outputs": [
    {
     "name": "stdout",
     "output_type": "stream",
     "text": [
      "5\n"
     ]
    }
   ],
   "source": [
    "# Using with\n",
    "with tf.Session() as sess:\n",
    "    print sess.run(a)"
   ]
  },
  {
   "cell_type": "code",
   "execution_count": 5,
   "metadata": {},
   "outputs": [
    {
     "name": "stdout",
     "output_type": "stream",
     "text": [
      "7776\n"
     ]
    }
   ],
   "source": [
    "# Graph\n",
    "x = 2\n",
    "y = 3\n",
    "\n",
    "add_op = tf.add(x, y)\n",
    "mul_op = tf.multiply(x, y)\n",
    "pow_op = tf.pow(mul_op, add_op)\n",
    "\n",
    "with tf.Session() as sess:\n",
    "    print sess.run(pow_op)"
   ]
  },
  {
   "cell_type": "code",
   "execution_count": 6,
   "metadata": {},
   "outputs": [
    {
     "name": "stdout",
     "output_type": "stream",
     "text": [
      "7776\n"
     ]
    }
   ],
   "source": [
    "# Sub-Graph\n",
    "x = 2\n",
    "y = 3\n",
    "\n",
    "add_op = tf.add(x, y)\n",
    "mul_op = tf.multiply(x, y)\n",
    "useless_op = tf.multiply(x, add_op) \n",
    "pow_op = tf.pow(mul_op, add_op) # pow_op does not depend on useless_op so session won't compute useless_op\n",
    "\n",
    "with tf.Session() as sess:\n",
    "    print sess.run(pow_op)"
   ]
  },
  {
   "cell_type": "markdown",
   "metadata": {},
   "source": [
    "```python\n",
    "# Pass all variables whose values need to be fetched in a list or tuple (check help)\n",
    "tf.Session.run(fetches, feed_dict=None, options=None, run_metadata=None)\n",
    "```\n",
    "\n",
    "`fetches` - List of tensors whose values you want"
   ]
  },
  {
   "cell_type": "code",
   "execution_count": 7,
   "metadata": {},
   "outputs": [
    {
     "name": "stdout",
     "output_type": "stream",
     "text": [
      "7776 10\n"
     ]
    }
   ],
   "source": [
    "# Sub-Graph\n",
    "x = 2\n",
    "y = 3\n",
    "\n",
    "add_op = tf.add(x, y)\n",
    "mul_op = tf.multiply(x, y)\n",
    "useless_op = tf.multiply(x, add_op) \n",
    "\n",
    "# pow_op does not depend on useless_op so session won't compute useless_op -> save computation\n",
    "pow_op = tf.pow(mul_op, add_op) \n",
    "\n",
    "with tf.Session() as sess:\n",
    "    fetches = (pow_op, useless_op)\n",
    "    pow_out, not_useless = sess.run(fetches)\n",
    "    print pow_out, not_useless"
   ]
  },
  {
   "cell_type": "markdown",
   "metadata": {},
   "source": [
    "```python\n",
    "# Distributed Computation\n",
    "\n",
    "# Create a graph\n",
    "with tf.device('/gpu:0'):\n",
    "    a = tf.constant([1.0, 2.0, 3.0, 4.0, 5.0], name='a')\n",
    "    b = tf.constant([5.0, 4.0, 3.0, 2.0, 1.0], name='b')\n",
    "    c = tf.multiply(a, b)\n",
    "    \n",
    "# Creates a session with log_device_placement set to True\n",
    "sess = tf.Session(config=tf.ConfigProto(log_device_placement=True))\n",
    "print sess.run(c)\n",
    "sess.close()\n",
    "```"
   ]
  },
  {
   "cell_type": "code",
   "execution_count": 8,
   "metadata": {},
   "outputs": [
    {
     "name": "stdout",
     "output_type": "stream",
     "text": [
      "[5. 8. 9. 8. 5.]\n"
     ]
    }
   ],
   "source": [
    "# Distributed Computation\n",
    "\n",
    "# Create a graph\n",
    "with tf.device('/gpu:0'):\n",
    "    a = tf.constant([1.0, 2.0, 3.0, 4.0, 5.0], name='a')\n",
    "    b = tf.constant([5.0, 4.0, 3.0, 2.0, 1.0], name='b')\n",
    "    c = tf.multiply(a, b)\n",
    "    \n",
    "# Creates a session with log_device_placement set to True\n",
    "sess = tf.Session(config=tf.ConfigProto(log_device_placement=True))\n",
    "print sess.run(c)\n",
    "sess.close()"
   ]
  },
  {
   "cell_type": "markdown",
   "metadata": {},
   "source": [
    "**Multiple Graphs: AVOID!** otherwise there will be BUGs\n",
    "- The session runs the default graph\n",
    "- No need for more than one graph. Multiple graphs require multiple sessions, each will try to use all available resources by default."
   ]
  },
  {
   "cell_type": "code",
   "execution_count": 9,
   "metadata": {},
   "outputs": [
    {
     "name": "stdout",
     "output_type": "stream",
     "text": [
      "5\n"
     ]
    }
   ],
   "source": [
    "# Create a graph\n",
    "g = tf.Graph()\n",
    "\n",
    "# To add operations to a graph, set it as default\n",
    "with g.as_default():\n",
    "    x = tf.add(2, 3)\n",
    "    \n",
    "with tf.Session(graph=g) as sess:\n",
    "    print sess.run(x)"
   ]
  },
  {
   "cell_type": "code",
   "execution_count": 10,
   "metadata": {},
   "outputs": [
    {
     "name": "stdout",
     "output_type": "stream",
     "text": [
      "<tensorflow.python.framework.ops.Graph object at 0x7fc9c4025b90>\n"
     ]
    }
   ],
   "source": [
    "# Handling default graph\n",
    "g = tf.get_default_graph()\n",
    "print g"
   ]
  },
  {
   "cell_type": "code",
   "execution_count": 11,
   "metadata": {},
   "outputs": [
    {
     "name": "stdout",
     "output_type": "stream",
     "text": [
      "(<tensorflow.python.framework.ops.Graph object at 0x7fc9c4025b90>, <tensorflow.python.framework.ops.Graph object at 0x7fc9b96f3190>)\n",
      "3\n",
      "5\n"
     ]
    }
   ],
   "source": [
    "# Better way: Do not mix default graph and user created graphs\n",
    "g1 = tf.get_default_graph()\n",
    "g2 = tf.Graph()\n",
    "print(g1, g2)\n",
    "\n",
    "# Add operations to default graph\n",
    "with g1.as_default():\n",
    "    a = tf.constant(3)\n",
    "    \n",
    "# Add operations to user created graph\n",
    "with g2.as_default():\n",
    "    b = tf.constant(5)\n",
    "    \n",
    "with tf.Session(graph=g1) as sess:\n",
    "    print sess.run(a)\n",
    "\n",
    "with tf.Session(graph=g2) as sess:\n",
    "    print sess.run(b)"
   ]
  },
  {
   "cell_type": "code",
   "execution_count": null,
   "metadata": {},
   "outputs": [],
   "source": []
  }
 ],
 "metadata": {
  "kernelspec": {
   "display_name": "Python 3",
   "language": "python",
   "name": "python3"
  },
  "language_info": {
   "codemirror_mode": {
    "name": "ipython",
    "version": 3
   },
   "file_extension": ".py",
   "mimetype": "text/x-python",
   "name": "python",
   "nbconvert_exporter": "python",
   "pygments_lexer": "ipython3",
   "version": "3.6.5"
  }
 },
 "nbformat": 4,
 "nbformat_minor": 2
}
