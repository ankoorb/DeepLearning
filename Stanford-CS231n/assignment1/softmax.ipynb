{
 "cells": [
  {
   "cell_type": "markdown",
   "metadata": {},
   "source": [
    "# Softmax exercise\n",
    "\n",
    "*Complete and hand in this completed worksheet (including its outputs and any supporting code outside of the worksheet) with your assignment submission. For more details see the [assignments page](http://vision.stanford.edu/teaching/cs231n/assignments.html) on the course website.*\n",
    "\n",
    "This exercise is analogous to the SVM exercise. You will:\n",
    "\n",
    "- implement a fully-vectorized **loss function** for the Softmax classifier\n",
    "- implement the fully-vectorized expression for its **analytic gradient**\n",
    "- **check your implementation** with numerical gradient\n",
    "- use a validation set to **tune the learning rate and regularization** strength\n",
    "- **optimize** the loss function with **SGD**\n",
    "- **visualize** the final learned weights\n"
   ]
  },
  {
   "cell_type": "code",
   "execution_count": 1,
   "metadata": {
    "collapsed": false
   },
   "outputs": [],
   "source": [
    "import random\n",
    "import numpy as np\n",
    "from cs231n.data_utils import load_CIFAR10\n",
    "import matplotlib.pyplot as plt\n",
    "%matplotlib inline\n",
    "plt.rcParams['figure.figsize'] = (10.0, 8.0) # set default size of plots\n",
    "plt.rcParams['image.interpolation'] = 'nearest'\n",
    "plt.rcParams['image.cmap'] = 'gray'\n",
    "\n",
    "# for auto-reloading extenrnal modules\n",
    "# see http://stackoverflow.com/questions/1907993/autoreload-of-modules-in-ipython\n",
    "%load_ext autoreload\n",
    "%autoreload 2"
   ]
  },
  {
   "cell_type": "code",
   "execution_count": 2,
   "metadata": {
    "collapsed": false
   },
   "outputs": [
    {
     "name": "stdout",
     "output_type": "stream",
     "text": [
      "Train data shape:  (49000, 3073)\n",
      "Train labels shape:  (49000,)\n",
      "Validation data shape:  (1000, 3073)\n",
      "Validation labels shape:  (1000,)\n",
      "Test data shape:  (1000, 3073)\n",
      "Test labels shape:  (1000,)\n",
      "dev data shape:  (500, 3073)\n",
      "dev labels shape:  (500,)\n"
     ]
    }
   ],
   "source": [
    "def get_CIFAR10_data(num_training=49000, num_validation=1000, num_test=1000, num_dev=500):\n",
    "    \"\"\"\n",
    "    Load the CIFAR-10 dataset from disk and perform preprocessing to prepare\n",
    "    it for the linear classifier. These are the same steps as we used for the\n",
    "    SVM, but condensed to a single function.  \n",
    "    \"\"\"\n",
    "    # Load the raw CIFAR-10 data\n",
    "    cifar10_dir = 'cs231n/datasets/cifar-10-batches-py'\n",
    "    X_train, y_train, X_test, y_test = load_CIFAR10(cifar10_dir)\n",
    "  \n",
    "    # subsample the data\n",
    "    mask = range(num_training, num_training + num_validation)\n",
    "    X_val = X_train[mask]\n",
    "    y_val = y_train[mask]\n",
    "    mask = range(num_training)\n",
    "    X_train = X_train[mask]\n",
    "    y_train = y_train[mask]\n",
    "    mask = range(num_test)\n",
    "    X_test = X_test[mask]\n",
    "    y_test = y_test[mask]\n",
    "    mask = np.random.choice(num_training, num_dev, replace=False)\n",
    "    X_dev = X_train[mask]\n",
    "    y_dev = y_train[mask]\n",
    "  \n",
    "    # Preprocessing: reshape the image data into rows\n",
    "    X_train = np.reshape(X_train, (X_train.shape[0], -1))\n",
    "    X_val = np.reshape(X_val, (X_val.shape[0], -1))\n",
    "    X_test = np.reshape(X_test, (X_test.shape[0], -1))\n",
    "    X_dev = np.reshape(X_dev, (X_dev.shape[0], -1))\n",
    "  \n",
    "    # Normalize the data: subtract the mean image\n",
    "    mean_image = np.mean(X_train, axis = 0)\n",
    "    X_train -= mean_image\n",
    "    X_val -= mean_image\n",
    "    X_test -= mean_image\n",
    "    X_dev -= mean_image\n",
    "  \n",
    "    # add bias dimension and transform into columns\n",
    "    X_train = np.hstack([X_train, np.ones((X_train.shape[0], 1))])\n",
    "    X_val = np.hstack([X_val, np.ones((X_val.shape[0], 1))])\n",
    "    X_test = np.hstack([X_test, np.ones((X_test.shape[0], 1))])\n",
    "    X_dev = np.hstack([X_dev, np.ones((X_dev.shape[0], 1))])\n",
    "  \n",
    "    return X_train, y_train, X_val, y_val, X_test, y_test, X_dev, y_dev\n",
    "\n",
    "\n",
    "# Invoke the above function to get our data.\n",
    "X_train, y_train, X_val, y_val, X_test, y_test, X_dev, y_dev = get_CIFAR10_data()\n",
    "print 'Train data shape: ', X_train.shape\n",
    "print 'Train labels shape: ', y_train.shape\n",
    "print 'Validation data shape: ', X_val.shape\n",
    "print 'Validation labels shape: ', y_val.shape\n",
    "print 'Test data shape: ', X_test.shape\n",
    "print 'Test labels shape: ', y_test.shape\n",
    "print 'dev data shape: ', X_dev.shape\n",
    "print 'dev labels shape: ', y_dev.shape"
   ]
  },
  {
   "cell_type": "markdown",
   "metadata": {},
   "source": [
    "## Softmax Classifier\n",
    "\n",
    "Your code for this section will all be written inside **cs231n/classifiers/softmax.py**. \n"
   ]
  },
  {
   "cell_type": "code",
   "execution_count": 3,
   "metadata": {
    "collapsed": false
   },
   "outputs": [
    {
     "name": "stdout",
     "output_type": "stream",
     "text": [
      "y[0]: 0\n",
      "Correct class prob:  0.333333326989\n",
      "y[1]: 0\n",
      "Correct class prob:  0.333333326035\n",
      "y[2]: 2\n",
      "Correct class prob:  0.333333337044\n",
      "y[3]: 1\n",
      "Correct class prob:  0.333333337582\n",
      "1.09861229293\n",
      "[[  1.09065186e-05  -2.18168524e-05   1.09071247e-05]\n",
      " [  3.42985174e-06  -6.85843491e-06   3.43006523e-06]\n",
      " [  1.49257693e-05  -2.98478304e-05   1.49241936e-05]\n",
      " [ -3.38730127e-07   6.77852008e-07  -3.39995430e-07]\n",
      " [  8.36884810e-06  -1.67349305e-05   8.36772443e-06]]\n"
     ]
    }
   ],
   "source": [
    "# Development: Loop\n",
    "x = np.random.randn(4, 5) * 0.0001\n",
    "y = np.array([0, 0, 2, 1])\n",
    "w = np.random.randn(5, 3) * 0.0001\n",
    "reg = 0.00001\n",
    "dw = np.zeros(w.shape)\n",
    "c = w.shape[1]\n",
    "n = x.shape[0]\n",
    "loss = 0.0\n",
    "\n",
    "for i in xrange(n): \n",
    "    scores = x[i].dot(w) # c x 1\n",
    "    scores -= np.max(scores) # Numeric stability\n",
    "    probs = np.exp(scores)/np.sum(np.exp(scores))\n",
    "    correct_class_prob = probs[y[i]] # 1 x 1\n",
    "    print 'y[{}]: {}'.format(i, y[i])\n",
    "    print 'Correct class prob: ', correct_class_prob\n",
    "    loss -= np.log(correct_class_prob)\n",
    "    for j in xrange(c):\n",
    "        if j == y[i]:\n",
    "            dw[:, j] = (probs[y[i]] - 1) * x[i]\n",
    "        else:\n",
    "            dw[:, j] = probs[j] * x[i]\n",
    "                       \n",
    "# Average loss\n",
    "loss /= n\n",
    "dw /= n # dL/dW mean part: 1/n \n",
    "\n",
    "# Add regularization to loss\n",
    "loss += 0.5 * reg * np.sum(w * w)\n",
    "dw += reg * w # dL/dW regularization part: lambda * w\n",
    "\n",
    "print loss\n",
    "print dw"
   ]
  },
  {
   "cell_type": "code",
   "execution_count": 4,
   "metadata": {
    "collapsed": false
   },
   "outputs": [
    {
     "name": "stdout",
     "output_type": "stream",
     "text": [
      "loss: 2.404285\n",
      "sanity check: 2.302585\n"
     ]
    }
   ],
   "source": [
    "# First implement the naive softmax loss function with nested loops.\n",
    "# Open the file cs231n/classifiers/softmax.py and implement the\n",
    "# softmax_loss_naive function.\n",
    "\n",
    "from cs231n.classifiers.softmax import softmax_loss_naive\n",
    "import time\n",
    "\n",
    "# Generate a random softmax weight matrix and use it to compute the loss.\n",
    "W = np.random.randn(3073, 10) * 0.0001\n",
    "loss, grad = softmax_loss_naive(W, X_dev, y_dev, 0.0)\n",
    "\n",
    "# As a rough sanity check, our loss should be something close to -log(0.1).\n",
    "print 'loss: %f' % loss\n",
    "print 'sanity check: %f' % (-np.log(0.1))"
   ]
  },
  {
   "cell_type": "markdown",
   "metadata": {},
   "source": [
    "## Inline Question 1:\n",
    "Why do we expect our loss to be close to -log(0.1)? Explain briefly.**\n",
    "\n",
    "**Your answer:** *Fill this in*\n"
   ]
  },
  {
   "cell_type": "code",
   "execution_count": 5,
   "metadata": {
    "collapsed": false
   },
   "outputs": [
    {
     "name": "stdout",
     "output_type": "stream",
     "text": [
      "numerical: -2.300800 analytic: -2.300800, relative error: 1.300617e-08\n",
      "numerical: 1.429495 analytic: 1.429495, relative error: 2.736499e-09\n",
      "numerical: 4.030401 analytic: 4.030401, relative error: 1.238252e-08\n",
      "numerical: 0.619216 analytic: 0.619216, relative error: 1.813860e-08\n",
      "numerical: 3.010537 analytic: 3.010537, relative error: 9.973282e-09\n",
      "numerical: 2.836851 analytic: 2.836851, relative error: 1.216758e-08\n",
      "numerical: -2.129075 analytic: -2.129075, relative error: 4.436843e-09\n",
      "numerical: 2.727151 analytic: 2.727151, relative error: 2.832989e-08\n",
      "numerical: -0.429220 analytic: -0.429220, relative error: 2.116567e-08\n",
      "numerical: 2.304961 analytic: 2.304961, relative error: 1.971870e-08\n",
      "numerical: 2.304894 analytic: 2.304894, relative error: 3.120781e-08\n",
      "numerical: 3.034438 analytic: 3.034438, relative error: 2.321803e-08\n",
      "numerical: 0.148001 analytic: 0.148001, relative error: 6.315902e-09\n",
      "numerical: 0.530542 analytic: 0.530542, relative error: 1.605977e-08\n",
      "numerical: 1.499324 analytic: 1.499324, relative error: 3.828613e-08\n",
      "numerical: 0.546023 analytic: 0.546023, relative error: 1.458159e-08\n",
      "numerical: 0.625947 analytic: 0.625947, relative error: 5.207910e-08\n",
      "numerical: 0.760232 analytic: 0.760232, relative error: 2.717681e-08\n",
      "numerical: 2.813218 analytic: 2.813218, relative error: 8.781934e-09\n",
      "numerical: 0.541393 analytic: 0.541393, relative error: 5.993100e-08\n"
     ]
    }
   ],
   "source": [
    "# Complete the implementation of softmax_loss_naive and implement a (naive)\n",
    "# version of the gradient that uses nested loops.\n",
    "loss, grad = softmax_loss_naive(W, X_dev, y_dev, 0.0)\n",
    "\n",
    "# As we did for the SVM, use numeric gradient checking as a debugging tool.\n",
    "# The numeric gradient should be close to the analytic gradient.\n",
    "from cs231n.gradient_check import grad_check_sparse\n",
    "f = lambda w: softmax_loss_naive(w, X_dev, y_dev, 0.0)[0]\n",
    "grad_numerical = grad_check_sparse(f, W, grad, 10)\n",
    "\n",
    "# similar to SVM case, do another gradient check with regularization\n",
    "loss, grad = softmax_loss_naive(W, X_dev, y_dev, 1e2)\n",
    "f = lambda w: softmax_loss_naive(w, X_dev, y_dev, 1e2)[0]\n",
    "grad_numerical = grad_check_sparse(f, W, grad, 10)"
   ]
  },
  {
   "cell_type": "code",
   "execution_count": 6,
   "metadata": {
    "collapsed": false
   },
   "outputs": [
    {
     "name": "stdout",
     "output_type": "stream",
     "text": [
      "[[ 1.  0.  0.]\n",
      " [ 1.  0.  0.]\n",
      " [ 0.  0.  1.]\n",
      " [ 0.  1.  0.]]\n",
      "1.09861227502\n",
      "[[ -3.48587295e-05   1.38754378e-05   2.09844728e-05]\n",
      " [ -1.71038850e-05   2.68920250e-05  -9.78643242e-06]\n",
      " [ -2.70906819e-05   5.21064929e-05  -2.50171563e-05]\n",
      " [  1.35586587e-05  -6.01168015e-06  -7.54672153e-06]\n",
      " [  3.03683401e-05  -3.33787313e-05   3.01080540e-06]]\n"
     ]
    }
   ],
   "source": [
    "# Development: Vectorized\n",
    "x = np.random.randn(4, 5) * 0.0001\n",
    "y = np.array([0, 0, 2, 1])\n",
    "w = np.random.randn(5, 3) * 0.0001\n",
    "reg = 0.00001\n",
    "dw = np.zeros(w.shape)\n",
    "c = w.shape[1]\n",
    "n = x.shape[0]\n",
    "loss = 0.0\n",
    "\n",
    "scores = x.dot(w)\n",
    "max_scores = np.amax(scores, axis=1)\n",
    "scores-= max_scores[:, np.newaxis]\n",
    "scores_exp = np.exp(scores)\n",
    "scores_exp_sum = np.sum(scores_exp, axis=1)\n",
    "probs = scores_exp/scores_exp_sum[:, np.newaxis]\n",
    "correct_class_probs = probs[np.array(range(n)), y]\n",
    "loss -= np.sum(np.log(correct_class_probs))\n",
    "mask = np.zeros(probs.shape)\n",
    "mask[np.array(xrange(probs.shape[0])), y] = 1.0\n",
    "print mask\n",
    "probs -= mask\n",
    "dw = x.T.dot(probs)\n",
    "\n",
    "#d_probs = probs\n",
    "#d_probs[np.array(xrange(n)), y] -= 1.0\n",
    "#dw = x.T.dot(d_probs)\n",
    "\n",
    "# Average loss\n",
    "loss /= n\n",
    "dw /= n # dL/dW mean part: 1/n \n",
    "\n",
    "# Add regularization to loss\n",
    "loss += 0.5 * reg * np.sum(w * w)\n",
    "dw += reg * w # dL/dW regularization part: lambda * w\n",
    "\n",
    "print loss\n",
    "print dw"
   ]
  },
  {
   "cell_type": "code",
   "execution_count": 7,
   "metadata": {
    "collapsed": false
   },
   "outputs": [
    {
     "name": "stdout",
     "output_type": "stream",
     "text": [
      "naive loss: 2.404285e+00 computed in 0.095757s\n",
      "vectorized loss: 2.404285e+00 computed in 0.003916s\n",
      "Loss difference: 0.000000\n",
      "Gradient difference: 0.000000\n"
     ]
    }
   ],
   "source": [
    "# Now that we have a naive implementation of the softmax loss function and its gradient,\n",
    "# implement a vectorized version in softmax_loss_vectorized.\n",
    "# The two versions should compute the same results, but the vectorized version should be\n",
    "# much faster.\n",
    "tic = time.time()\n",
    "loss_naive, grad_naive = softmax_loss_naive(W, X_dev, y_dev, 0.00001)\n",
    "toc = time.time()\n",
    "print 'naive loss: %e computed in %fs' % (loss_naive, toc - tic)\n",
    "\n",
    "from cs231n.classifiers.softmax import softmax_loss_vectorized\n",
    "tic = time.time()\n",
    "loss_vectorized, grad_vectorized = softmax_loss_vectorized(W, X_dev, y_dev, 0.00001)\n",
    "toc = time.time()\n",
    "print 'vectorized loss: %e computed in %fs' % (loss_vectorized, toc - tic)\n",
    "\n",
    "# As we did for the SVM, we use the Frobenius norm to compare the two versions\n",
    "# of the gradient.\n",
    "grad_difference = np.linalg.norm(grad_naive - grad_vectorized, ord='fro')\n",
    "print 'Loss difference: %f' % np.abs(loss_naive - loss_vectorized)\n",
    "print 'Gradient difference: %f' % grad_difference"
   ]
  },
  {
   "cell_type": "code",
   "execution_count": 8,
   "metadata": {
    "collapsed": false
   },
   "outputs": [
    {
     "name": "stderr",
     "output_type": "stream",
     "text": [
      "cs231n/classifiers/softmax.py:88: RuntimeWarning: divide by zero encountered in log\n",
      "  loss -= np.sum(np.log(correct_class_probs))\n",
      "cs231n/classifiers/softmax.py:104: RuntimeWarning: overflow encountered in double_scalars\n",
      "  loss += 0.5 * reg * np.sum(W * W)\n",
      "cs231n/classifiers/softmax.py:104: RuntimeWarning: overflow encountered in multiply\n",
      "  loss += 0.5 * reg * np.sum(W * W)\n",
      "cs231n/classifiers/softmax.py:105: RuntimeWarning: overflow encountered in multiply\n",
      "  dW += reg * W\n"
     ]
    },
    {
     "name": "stdout",
     "output_type": "stream",
     "text": [
      "lr 1.000000e-07 reg 1.000000e+04 train accuracy: 0.333429 val accuracy: 0.326000\n",
      "lr 1.000000e-07 reg 2.000000e+04 train accuracy: 0.351959 val accuracy: 0.371000\n",
      "lr 1.000000e-07 reg 3.000000e+04 train accuracy: 0.343143 val accuracy: 0.359000\n",
      "lr 1.000000e-07 reg 4.000000e+04 train accuracy: 0.332939 val accuracy: 0.345000\n",
      "lr 1.000000e-07 reg 5.000000e+04 train accuracy: 0.326796 val accuracy: 0.335000\n",
      "lr 1.000000e-07 reg 6.000000e+04 train accuracy: 0.324551 val accuracy: 0.331000\n",
      "lr 1.000000e-07 reg 7.000000e+04 train accuracy: 0.319918 val accuracy: 0.337000\n",
      "lr 1.000000e-07 reg 8.000000e+04 train accuracy: 0.313918 val accuracy: 0.333000\n",
      "lr 1.000000e-07 reg 9.000000e+04 train accuracy: 0.307816 val accuracy: 0.324000\n",
      "lr 1.000000e-07 reg 1.000000e+05 train accuracy: 0.301714 val accuracy: 0.317000\n",
      "lr 3.000000e-07 reg 1.000000e+04 train accuracy: 0.372204 val accuracy: 0.383000\n",
      "lr 3.000000e-07 reg 2.000000e+04 train accuracy: 0.349633 val accuracy: 0.374000\n",
      "lr 3.000000e-07 reg 3.000000e+04 train accuracy: 0.344408 val accuracy: 0.361000\n",
      "lr 3.000000e-07 reg 4.000000e+04 train accuracy: 0.334551 val accuracy: 0.346000\n",
      "lr 3.000000e-07 reg 5.000000e+04 train accuracy: 0.325408 val accuracy: 0.336000\n",
      "lr 3.000000e-07 reg 6.000000e+04 train accuracy: 0.326837 val accuracy: 0.348000\n",
      "lr 3.000000e-07 reg 7.000000e+04 train accuracy: 0.304469 val accuracy: 0.323000\n",
      "lr 3.000000e-07 reg 8.000000e+04 train accuracy: 0.313714 val accuracy: 0.335000\n",
      "lr 3.000000e-07 reg 9.000000e+04 train accuracy: 0.294490 val accuracy: 0.309000\n",
      "lr 3.000000e-07 reg 1.000000e+05 train accuracy: 0.291796 val accuracy: 0.310000\n",
      "lr 5.000000e-07 reg 1.000000e+04 train accuracy: 0.371551 val accuracy: 0.388000\n",
      "lr 5.000000e-07 reg 2.000000e+04 train accuracy: 0.342673 val accuracy: 0.357000\n",
      "lr 5.000000e-07 reg 3.000000e+04 train accuracy: 0.346612 val accuracy: 0.359000\n",
      "lr 5.000000e-07 reg 4.000000e+04 train accuracy: 0.331714 val accuracy: 0.344000\n",
      "lr 5.000000e-07 reg 5.000000e+04 train accuracy: 0.333265 val accuracy: 0.349000\n",
      "lr 5.000000e-07 reg 6.000000e+04 train accuracy: 0.325980 val accuracy: 0.332000\n",
      "lr 5.000000e-07 reg 7.000000e+04 train accuracy: 0.319490 val accuracy: 0.343000\n",
      "lr 5.000000e-07 reg 8.000000e+04 train accuracy: 0.313918 val accuracy: 0.326000\n",
      "lr 5.000000e-07 reg 9.000000e+04 train accuracy: 0.303224 val accuracy: 0.317000\n",
      "lr 5.000000e-07 reg 1.000000e+05 train accuracy: 0.296429 val accuracy: 0.310000\n",
      "lr 1.000000e-05 reg 1.000000e+04 train accuracy: 0.230633 val accuracy: 0.234000\n",
      "lr 1.000000e-05 reg 2.000000e+04 train accuracy: 0.190673 val accuracy: 0.187000\n",
      "lr 1.000000e-05 reg 3.000000e+04 train accuracy: 0.165082 val accuracy: 0.156000\n",
      "lr 1.000000e-05 reg 4.000000e+04 train accuracy: 0.200082 val accuracy: 0.197000\n",
      "lr 1.000000e-05 reg 5.000000e+04 train accuracy: 0.120143 val accuracy: 0.114000\n",
      "lr 1.000000e-05 reg 6.000000e+04 train accuracy: 0.108857 val accuracy: 0.106000\n",
      "lr 1.000000e-05 reg 7.000000e+04 train accuracy: 0.129020 val accuracy: 0.137000\n",
      "lr 1.000000e-05 reg 8.000000e+04 train accuracy: 0.141184 val accuracy: 0.158000\n",
      "lr 1.000000e-05 reg 9.000000e+04 train accuracy: 0.106551 val accuracy: 0.110000\n",
      "lr 1.000000e-05 reg 1.000000e+05 train accuracy: 0.108816 val accuracy: 0.114000\n",
      "lr 3.000000e-05 reg 1.000000e+04 train accuracy: 0.164633 val accuracy: 0.150000\n",
      "lr 3.000000e-05 reg 2.000000e+04 train accuracy: 0.093449 val accuracy: 0.085000\n",
      "lr 3.000000e-05 reg 3.000000e+04 train accuracy: 0.108000 val accuracy: 0.108000\n",
      "lr 3.000000e-05 reg 4.000000e+04 train accuracy: 0.079735 val accuracy: 0.079000\n",
      "lr 3.000000e-05 reg 5.000000e+04 train accuracy: 0.083551 val accuracy: 0.092000\n",
      "lr 3.000000e-05 reg 6.000000e+04 train accuracy: 0.091286 val accuracy: 0.087000\n",
      "lr 3.000000e-05 reg 7.000000e+04 train accuracy: 0.109776 val accuracy: 0.089000\n",
      "lr 3.000000e-05 reg 8.000000e+04 train accuracy: 0.079286 val accuracy: 0.090000\n",
      "lr 3.000000e-05 reg 9.000000e+04 train accuracy: 0.100265 val accuracy: 0.087000\n",
      "lr 3.000000e-05 reg 1.000000e+05 train accuracy: 0.100265 val accuracy: 0.087000\n",
      "lr 5.000000e-05 reg 1.000000e+04 train accuracy: 0.154837 val accuracy: 0.137000\n",
      "lr 5.000000e-05 reg 2.000000e+04 train accuracy: 0.086592 val accuracy: 0.075000\n",
      "lr 5.000000e-05 reg 3.000000e+04 train accuracy: 0.122633 val accuracy: 0.125000\n",
      "lr 5.000000e-05 reg 4.000000e+04 train accuracy: 0.131571 val accuracy: 0.116000\n",
      "lr 5.000000e-05 reg 5.000000e+04 train accuracy: 0.104224 val accuracy: 0.087000\n",
      "lr 5.000000e-05 reg 6.000000e+04 train accuracy: 0.100265 val accuracy: 0.087000\n",
      "lr 5.000000e-05 reg 7.000000e+04 train accuracy: 0.100265 val accuracy: 0.087000\n",
      "lr 5.000000e-05 reg 8.000000e+04 train accuracy: 0.100265 val accuracy: 0.087000\n",
      "lr 5.000000e-05 reg 9.000000e+04 train accuracy: 0.100265 val accuracy: 0.087000\n",
      "lr 5.000000e-05 reg 1.000000e+05 train accuracy: 0.100265 val accuracy: 0.087000\n",
      "best validation accuracy achieved during cross-validation: 0.388000\n"
     ]
    },
    {
     "name": "stderr",
     "output_type": "stream",
     "text": [
      "cs231n/classifiers/softmax.py:83: RuntimeWarning: overflow encountered in subtract\n",
      "  scores -= max_scores[:, np.newaxis]\n",
      "cs231n/classifiers/softmax.py:83: RuntimeWarning: invalid value encountered in subtract\n",
      "  scores -= max_scores[:, np.newaxis]\n"
     ]
    }
   ],
   "source": [
    "# Use the validation set to tune hyperparameters (regularization strength and\n",
    "# learning rate). You should experiment with different ranges for the learning\n",
    "# rates and regularization strengths; if you are careful you should be able to\n",
    "# get a classification accuracy of over 0.35 on the validation set.\n",
    "from cs231n.classifiers import Softmax\n",
    "results = {}\n",
    "best_val = -1\n",
    "best_softmax = None\n",
    "# learning_rates = [1e-7, 5e-7]\n",
    "# regularization_strengths = [5e4, 1e8]\n",
    "\n",
    "learning_rates = [1e-7, 3e-7, 5e-7, 1e-5, 3e-5, 5e-5,]\n",
    "regularization_strengths = [1e4, 2e4, 3e4, 4e4, 5e4, 6e4, 7e4, 8e4, 9e4, 1e5]\n",
    "\n",
    "################################################################################\n",
    "# TODO:                                                                        #\n",
    "# Use the validation set to set the learning rate and regularization strength. #\n",
    "# This should be identical to the validation that you did for the SVM; save    #\n",
    "# the best trained softmax classifer in best_softmax.                          #\n",
    "################################################################################\n",
    "#pass\n",
    "for lr in learning_rates:\n",
    "    for reg in regularization_strengths:\n",
    "        softmax = Softmax()\n",
    "        train_loss = softmax.train(X_train, y_train, learning_rate=lr, reg=reg, num_iters=1500, verbose=False)\n",
    "        y_train_pred = softmax.predict(X_train)\n",
    "        y_val_pred = softmax.predict(X_val)\n",
    "        train_accuracy = np.mean(y_train == y_train_pred)\n",
    "        val_accuracy = np.mean(y_val == y_val_pred)\n",
    "        results[(lr, reg)] = (train_accuracy, val_accuracy)\n",
    "        if val_accuracy > best_val:\n",
    "            best_val = val_accuracy\n",
    "            best_softmax = softmax\n",
    "################################################################################\n",
    "#                              END OF YOUR CODE                                #\n",
    "################################################################################\n",
    "    \n",
    "# Print out results.\n",
    "for lr, reg in sorted(results):\n",
    "    train_accuracy, val_accuracy = results[(lr, reg)]\n",
    "    print 'lr %e reg %e train accuracy: %f val accuracy: %f' % (\n",
    "                lr, reg, train_accuracy, val_accuracy)\n",
    "    \n",
    "print 'best validation accuracy achieved during cross-validation: %f' % best_val"
   ]
  },
  {
   "cell_type": "code",
   "execution_count": 9,
   "metadata": {
    "collapsed": false
   },
   "outputs": [
    {
     "name": "stdout",
     "output_type": "stream",
     "text": [
      "softmax on raw pixels final test set accuracy: 0.370000\n"
     ]
    }
   ],
   "source": [
    "# evaluate on test set\n",
    "# Evaluate the best softmax on test set\n",
    "y_test_pred = best_softmax.predict(X_test)\n",
    "test_accuracy = np.mean(y_test == y_test_pred)\n",
    "print 'softmax on raw pixels final test set accuracy: %f' % (test_accuracy, )"
   ]
  },
  {
   "cell_type": "code",
   "execution_count": 10,
   "metadata": {
    "collapsed": false
   },
   "outputs": [
    {
     "data": {
      "image/png": "[encoded data removed]",
      "text/plain": [
       "<matplotlib.figure.Figure at 0x10b8687d0>"
      ]
     },
     "metadata": {},
     "output_type": "display_data"
    }
   ],
   "source": [
    "# Visualize the learned weights for each class\n",
    "w = best_softmax.W[:-1,:] # strip out the bias\n",
    "w = w.reshape(32, 32, 3, 10)\n",
    "\n",
    "w_min, w_max = np.min(w), np.max(w)\n",
    "\n",
    "classes = ['plane', 'car', 'bird', 'cat', 'deer', 'dog', 'frog', 'horse', 'ship', 'truck']\n",
    "for i in xrange(10):\n",
    "    plt.subplot(2, 5, i + 1)\n",
    "  \n",
    "    # Rescale the weights to be between 0 and 255\n",
    "    wimg = 255.0 * (w[:, :, :, i].squeeze() - w_min) / (w_max - w_min)\n",
    "    plt.imshow(wimg.astype('uint8'))\n",
    "    plt.axis('off')\n",
    "    plt.title(classes[i])"
   ]
  }
 ],
 "metadata": {
  "kernelspec": {
   "display_name": "Python 2",
   "language": "python",
   "name": "python2"
  },
  "language_info": {
   "codemirror_mode": {
    "name": "ipython",
    "version": 2
   },
   "file_extension": ".py",
   "mimetype": "text/x-python",
   "name": "python",
   "nbconvert_exporter": "python",
   "pygments_lexer": "ipython2",
   "version": "2.7.11"
  }
 },
 "nbformat": 4,
 "nbformat_minor": 0
}
