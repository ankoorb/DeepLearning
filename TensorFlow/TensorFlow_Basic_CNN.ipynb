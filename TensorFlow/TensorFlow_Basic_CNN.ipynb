{
 "cells": [
  {
   "cell_type": "code",
   "execution_count": 1,
   "metadata": {
    "collapsed": false
   },
   "outputs": [
    {
     "name": "stderr",
     "output_type": "stream",
     "text": [
      "/Applications/anaconda/envs/tensorflow/lib/python2.7/site-packages/matplotlib/font_manager.py:273: UserWarning: Matplotlib is building the font cache using fc-list. This may take a moment.\n",
      "  warnings.warn('Matplotlib is building the font cache using fc-list. This may take a moment.')\n"
     ]
    }
   ],
   "source": [
    "# Imports\n",
    "import numpy as np\n",
    "import tensorflow as tf\n",
    "\n",
    "%matplotlib inline\n",
    "import seaborn as sns\n",
    "import matplotlib.pyplot as plt"
   ]
  },
  {
   "cell_type": "code",
   "execution_count": 2,
   "metadata": {
    "collapsed": false
   },
   "outputs": [
    {
     "name": "stdout",
     "output_type": "stream",
     "text": [
      "Extracting MNIST_data/train-images-idx3-ubyte.gz\n",
      "Extracting MNIST_data/train-labels-idx1-ubyte.gz\n",
      "Extracting MNIST_data/t10k-images-idx3-ubyte.gz\n",
      "Extracting MNIST_data/t10k-labels-idx1-ubyte.gz\n"
     ]
    }
   ],
   "source": [
    "# MNIST data\n",
    "import tensorflow.examples.tutorials.mnist.input_data as data\n",
    "mnist = data.read_data_sets('MNIST_data/', one_hot=True)"
   ]
  },
  {
   "cell_type": "code",
   "execution_count": 3,
   "metadata": {
    "collapsed": true
   },
   "outputs": [],
   "source": [
    "# Create a placeholders for input images and input image labels\n",
    "n_input = mnist.train.images.shape[1]\n",
    "n_output = 10\n",
    "x = tf.placeholder(tf.float32, [None, n_input]) # First dim = None for mini-batch\n",
    "y = tf.placeholder(tf.float32, [None, n_output])"
   ]
  },
  {
   "cell_type": "code",
   "execution_count": 4,
   "metadata": {
    "collapsed": true
   },
   "outputs": [],
   "source": [
    "# CNN requires 4D tensor: [N, H, W, C]\n",
    "# Shape of x is 2D: [batch, height * width]\n",
    "\n",
    "side = int(np.sqrt(mnist.train.images.shape[1]))\n",
    "\n",
    "# Tensor shape \"SPECIAL\" value: -1 (CHECK: help(tf.reshape))\n",
    "x_tensor = tf.reshape(x, [-1, side, side, 1]) # -1 makes total size constant"
   ]
  },
  {
   "cell_type": "code",
   "execution_count": 5,
   "metadata": {
    "collapsed": true
   },
   "outputs": [],
   "source": [
    "# Weight and bias initializer\n",
    "def W_variable(shape):\n",
    "    init = tf.random_normal(shape, mean=0.0, stddev=0.01)\n",
    "    return tf.Variable(init)\n",
    "\n",
    "def b_variable(shape):\n",
    "    init = tf.random_normal(shape, mean=0.0, stddev=0.01)\n",
    "    return tf.Variable(init)"
   ]
  },
  {
   "cell_type": "markdown",
   "metadata": {},
   "source": [
    "**NOTE:** TensorFlow reqires image kernels/filters to be 4 dimensional (Filter Height x Filter Width x Number of Input Channels x Number of Output Channels)"
   ]
  },
  {
   "cell_type": "code",
   "execution_count": 6,
   "metadata": {
    "collapsed": true
   },
   "outputs": [],
   "source": [
    "# First convolutional layer\n",
    "filter_size = 5\n",
    "n_filters_1 = 16\n",
    "C = 1\n",
    "W_conv_1 = W_variable([filter_size, filter_size, C, n_filters_1])\n",
    "b_conv_1 = b_variable([n_filters_1])"
   ]
  },
  {
   "cell_type": "code",
   "execution_count": 7,
   "metadata": {
    "collapsed": false
   },
   "outputs": [],
   "source": [
    "# Create computational graph to perform first layer of convolution\n",
    "z_conv_1 = tf.add(tf.nn.conv2d(input=x_tensor, filter=W_conv_1, \n",
    "                               strides=[1, 2, 2, 1], padding='SAME'), b_conv_1)\n",
    "a_conv_1 = tf.nn.relu(z_conv_1)"
   ]
  },
  {
   "cell_type": "code",
   "execution_count": 8,
   "metadata": {
    "collapsed": true
   },
   "outputs": [],
   "source": [
    "# Second convolutional layer\n",
    "n_filters_2 = 8\n",
    "W_conv_2 = W_variable([filter_size, filter_size, n_filters_1, n_filters_2])\n",
    "b_conv_2 = b_variable([n_filters_2])"
   ]
  },
  {
   "cell_type": "code",
   "execution_count": 9,
   "metadata": {
    "collapsed": true
   },
   "outputs": [],
   "source": [
    "# Create computational graph to perform second layer of convolution\n",
    "z_conv_2 = tf.add(tf.nn.conv2d(input=a_conv_1, filter=W_conv_2, \n",
    "                               strides=[1, 2, 2, 1], padding='SAME'), b_conv_2) \n",
    "a_conv_2 = tf.nn.relu(z_conv_2)"
   ]
  },
  {
   "cell_type": "code",
   "execution_count": 10,
   "metadata": {
    "collapsed": true
   },
   "outputs": [],
   "source": [
    "# Reshape activation output of second convolution layer to connect to a fully connected layer\n",
    "a_conv_2_flat = tf.reshape(a_conv_2, [-1, 7 * 7 * n_filters_2])"
   ]
  },
  {
   "cell_type": "code",
   "execution_count": 11,
   "metadata": {
    "collapsed": false
   },
   "outputs": [],
   "source": [
    "# Create a fully connected layer\n",
    "n_fc = 256\n",
    "W_fc_1 = W_variable([7 * 7 * n_filters_2, n_fc])\n",
    "b_fc_1 = b_variable([n_fc])\n",
    "z_fc_1 = tf.add(tf.matmul(a_conv_2_flat, W_fc_1), b_fc_1)\n",
    "a_fc_1 = tf.nn.relu(z_fc_1)"
   ]
  },
  {
   "cell_type": "code",
   "execution_count": 12,
   "metadata": {
    "collapsed": false
   },
   "outputs": [],
   "source": [
    "# Add dropout for regularize \n",
    "keep_prob = tf.placeholder(tf.float32)\n",
    "a_fc_1_drop = tf.nn.dropout(a_fc_1, keep_prob=keep_prob)"
   ]
  },
  {
   "cell_type": "code",
   "execution_count": 13,
   "metadata": {
    "collapsed": true
   },
   "outputs": [],
   "source": [
    "# Softmax layer\n",
    "W_fc_2 = W_variable([n_fc, n_output])\n",
    "b_fc_2 = b_variable([n_output])\n",
    "z_fc_2 = tf.add(tf.matmul(a_fc_1_drop, W_fc_2), b_fc_2)\n",
    "y_pred = tf.nn.softmax(z_fc_2)"
   ]
  },
  {
   "cell_type": "code",
   "execution_count": 14,
   "metadata": {
    "collapsed": true
   },
   "outputs": [],
   "source": [
    "# Cross entropy loss and ADAM optimizer\n",
    "loss = -tf.reduce_sum(y * tf.log(y_pred))\n",
    "optimizer = tf.train.AdamOptimizer().minimize(loss)"
   ]
  },
  {
   "cell_type": "code",
   "execution_count": 15,
   "metadata": {
    "collapsed": true
   },
   "outputs": [],
   "source": [
    "# Accuracy\n",
    "y_hat = tf.argmax(y_pred, dimension=1)\n",
    "y_true = tf.argmax(y, dimension=1)\n",
    "correct_pred = tf.equal(y_hat, y_true)\n",
    "accuracy = tf.reduce_mean(tf.cast(correct_pred, dtype=tf.float32))"
   ]
  },
  {
   "cell_type": "code",
   "execution_count": 16,
   "metadata": {
    "collapsed": false
   },
   "outputs": [],
   "source": [
    "# Create a session to use the graph\n",
    "ses = tf.Session()\n",
    "\n",
    "# Initialize all variables\n",
    "ses.run(tf.initialize_all_variables())"
   ]
  },
  {
   "cell_type": "code",
   "execution_count": 17,
   "metadata": {
    "collapsed": false
   },
   "outputs": [
    {
     "name": "stdout",
     "output_type": "stream",
     "text": [
      "Epoch-0 Validation Accuracy: 0.944199979305\n",
      "Epoch-1 Validation Accuracy: 0.967999994755\n",
      "Epoch-2 Validation Accuracy: 0.975600004196\n",
      "Epoch-3 Validation Accuracy: 0.0957999974489\n",
      "Epoch-4 Validation Accuracy: 0.0957999974489\n",
      "Epoch-5 Validation Accuracy: 0.0957999974489\n",
      "Epoch-6 Validation Accuracy: 0.0957999974489\n",
      "Epoch-7 Validation Accuracy: 0.0957999974489\n",
      "Epoch-8 Validation Accuracy: 0.0957999974489\n",
      "Epoch-9 Validation Accuracy: 0.0957999974489\n",
      "Test Accuracy:  0.098\n"
     ]
    }
   ],
   "source": [
    "# Train\n",
    "batch_size = 100\n",
    "n_epochs = 10\n",
    "batches = mnist.train.num_examples//batch_size\n",
    "\n",
    "for epoch in range(n_epochs):\n",
    "    for batch in range(batches):\n",
    "        batch_x, batch_y = mnist.train.next_batch(batch_size=batch_size)\n",
    "        ses.run(optimizer, feed_dict={x: batch_x, y: batch_y, keep_prob:0.5})\n",
    "    acc = ses.run(accuracy, feed_dict={x: mnist.validation.images,\n",
    "                                       y: mnist.validation.labels,\n",
    "                                       keep_prob: 1.0})\n",
    "    print 'Epoch-{} Validation Accuracy: {}'.format(epoch, acc)\n",
    "    \n",
    "print 'Test Accuracy: ', ses.run(accuracy, feed_dict={x: mnist.test.images,\n",
    "                                                      y: mnist.test.labels,\n",
    "                                                      keep_prob: 1.0})"
   ]
  },
  {
   "cell_type": "code",
   "execution_count": 18,
   "metadata": {
    "collapsed": true
   },
   "outputs": [],
   "source": [
    "# Visualize first layer filters\n",
    "W = ses.run(W_conv_1)"
   ]
  },
  {
   "cell_type": "code",
   "execution_count": null,
   "metadata": {
    "collapsed": true
   },
   "outputs": [],
   "source": []
  }
 ],
 "metadata": {
  "kernelspec": {
   "display_name": "Python [default]",
   "language": "python",
   "name": "python2"
  },
  "language_info": {
   "codemirror_mode": {
    "name": "ipython",
    "version": 2
   },
   "file_extension": ".py",
   "mimetype": "text/x-python",
   "name": "python",
   "nbconvert_exporter": "python",
   "pygments_lexer": "ipython2",
   "version": "2.7.13"
  }
 },
 "nbformat": 4,
 "nbformat_minor": 2
}
